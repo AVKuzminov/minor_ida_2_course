{
 "cells": [
  {
   "cell_type": "markdown",
   "metadata": {},
   "source": [
    "<div style=\"font-size:18pt; padding-top:20px; text-align:center\">СЕМИНАР 15. <b>Метод главных компонент PCA и </b> <span style=\"font-weight:bold; color:green\">NumPy/SciPy/Sklearn</span></div><hr>\n",
    "<div style=\"text-align:right;\">Папулин С.Ю. <span style=\"font-style: italic;font-weight: bold;\">(papulin_hse@mail.ru)</span></div>"
   ]
  },
  {
   "cell_type": "markdown",
   "metadata": {},
   "source": [
    "<a name=\"0\"></a>\n",
    "<div><span style=\"font-size:14pt; font-weight:bold\">Содержание</span>\n",
    "    <ol>\n",
    "        <li><a href=\"#1\">Собственные числа и собственные векторы</a></li>\n",
    "        <li><a href=\"#2\">Метод главных компонент (PCA)</a></li>\n",
    "        <li><a href=\"#3\">Уменьшение размерности с PCA при классификации</a>\n",
    "        <li><a href=\"#4\">Источники</a>\n",
    "        </li>\n",
    "    </ol>\n",
    "</div>"
   ]
  },
  {
   "cell_type": "markdown",
   "metadata": {},
   "source": [
    "<p><b>Подключение библиотек</b></p>"
   ]
  },
  {
   "cell_type": "code",
   "execution_count": 1,
   "metadata": {
    "collapsed": true
   },
   "outputs": [],
   "source": [
    "import numpy as np\n",
    "from numpy import linalg"
   ]
  },
  {
   "cell_type": "code",
   "execution_count": 2,
   "metadata": {
    "collapsed": true
   },
   "outputs": [],
   "source": [
    "import matplotlib.pyplot as plt\n",
    "%matplotlib inline"
   ]
  },
  {
   "cell_type": "code",
   "execution_count": 3,
   "metadata": {
    "collapsed": true
   },
   "outputs": [],
   "source": [
    "from sklearn.decomposition import PCA"
   ]
  },
  {
   "cell_type": "code",
   "execution_count": 4,
   "metadata": {
    "collapsed": true
   },
   "outputs": [],
   "source": [
    "from sklearn import linear_model"
   ]
  },
  {
   "cell_type": "markdown",
   "metadata": {},
   "source": [
    "<a name=\"1\"></a>\n",
    "<div style=\"display:table; width:100%; padding-top:10px; padding-bottom:10px; border-bottom:1px solid lightgrey\">\n",
    "    <div style=\"display:table-row\">\n",
    "        <div style=\"display:table-cell; width:80%; font-size:14pt; font-weight:bold\">1. Собственные числа и собственные векторы</div>\n",
    "    \t<div style=\"display:table-cell; width:20%; text-align:center; background-color:whitesmoke; border:1px solid lightgrey\"><a href=\"#0\">К содержанию</a></div>\n",
    "    </div>\n",
    "</div>"
   ]
  },
  {
   "cell_type": "markdown",
   "metadata": {},
   "source": [
    "<p><b>Исходные данные</b></p>"
   ]
  },
  {
   "cell_type": "markdown",
   "metadata": {},
   "source": [
    "|$X_1$|$X_2$|$Y$|\n",
    "|-|-|-|\n",
    "|1|2|0|\n",
    "|2|3|0|\n",
    "|3|5|0|\n",
    "|4|2|0|\n",
    "|4|5|1|\n",
    "|6|4|1|\n",
    "|7|6|1|\n",
    "|8|5|1|"
   ]
  },
  {
   "cell_type": "code",
   "execution_count": 5,
   "metadata": {
    "collapsed": true
   },
   "outputs": [],
   "source": [
    "x1 = np.array([1,2,3,4,4,6,7,8])\n",
    "x2 = np.array([2,3,5,2,5,4,6,5])\n",
    "y  = np.array([0,0,0,0,1,1,1,1])"
   ]
  },
  {
   "cell_type": "code",
   "execution_count": 6,
   "metadata": {
    "collapsed": false
   },
   "outputs": [
    {
     "data": {
      "text/plain": [
       "array([[1, 2, 3, 4, 4, 6, 7, 8],\n",
       "       [2, 3, 5, 2, 5, 4, 6, 5]])"
      ]
     },
     "execution_count": 6,
     "metadata": {},
     "output_type": "execute_result"
    }
   ],
   "source": [
    "X = np.vstack((x1, x2))\n",
    "X"
   ]
  },
  {
   "cell_type": "markdown",
   "metadata": {},
   "source": [
    "<p>График</p>"
   ]
  },
  {
   "cell_type": "code",
   "execution_count": 7,
   "metadata": {
    "collapsed": false
   },
   "outputs": [
    {
     "data": {
      "image/png": "[encoded data removed]",
      "text/plain": [
       "<matplotlib.figure.Figure at 0xb0bda9ab70>"
      ]
     },
     "metadata": {},
     "output_type": "display_data"
    }
   ],
   "source": [
    "plt.figure(figsize=[6,6])\n",
    "plt.scatter(X[0,:], X[1,:], c=y, cmap=plt.cm.coolwarm)\n",
    "plt.xlim([0,9])\n",
    "plt.ylim([0,9])\n",
    "plt.title(\"Initial Data\")\n",
    "plt.xlabel(\"$X_1$\")\n",
    "plt.ylabel(\"$X_2$\")\n",
    "plt.grid(True)\n",
    "plt.tight_layout()\n",
    "plt.show()"
   ]
  },
  {
   "cell_type": "markdown",
   "metadata": {},
   "source": [
    "<p><b>Среднее значение</b></p>"
   ]
  },
  {
   "cell_type": "code",
   "execution_count": 8,
   "metadata": {
    "collapsed": false
   },
   "outputs": [
    {
     "data": {
      "text/plain": [
       "(4.375, 4.0)"
      ]
     },
     "execution_count": 8,
     "metadata": {},
     "output_type": "execute_result"
    }
   ],
   "source": [
    "x1_mean = np.mean(X[0,:])\n",
    "x2_mean = np.mean(X[1,:])\n",
    "x1_mean, x2_mean"
   ]
  },
  {
   "cell_type": "markdown",
   "metadata": {},
   "source": [
    "<p><b>Дисперсия</b></p>"
   ]
  },
  {
   "cell_type": "code",
   "execution_count": 9,
   "metadata": {
    "collapsed": false
   },
   "outputs": [
    {
     "data": {
      "text/plain": [
       "(5.234375, 2.0)"
      ]
     },
     "execution_count": 9,
     "metadata": {},
     "output_type": "execute_result"
    }
   ],
   "source": [
    "x1_var = np.var(X[0,:], ddof=0)\n",
    "x2_var = np.var(X[1,:], ddof=0)\n",
    "x1_var, x2_var"
   ]
  },
  {
   "cell_type": "markdown",
   "metadata": {},
   "source": [
    "<p><b>Вычисление ковариационной матрицы</b></p>"
   ]
  },
  {
   "cell_type": "code",
   "execution_count": 10,
   "metadata": {
    "collapsed": false
   },
   "outputs": [
    {
     "data": {
      "text/plain": [
       "array([[ 5.234375,  2.125   ],\n",
       "       [ 2.125   ,  2.      ]])"
      ]
     },
     "execution_count": 10,
     "metadata": {},
     "output_type": "execute_result"
    }
   ],
   "source": [
    "cov_matrix = np.cov(X, ddof=0)\n",
    "cov_matrix"
   ]
  },
  {
   "cell_type": "markdown",
   "metadata": {},
   "source": [
    "<p><b>Вычисление собственнных чисел и векторов</b></p>"
   ]
  },
  {
   "cell_type": "code",
   "execution_count": 11,
   "metadata": {
    "collapsed": false
   },
   "outputs": [],
   "source": [
    "eigen_values, eigen_vectors = linalg.eig(cov_matrix)"
   ]
  },
  {
   "cell_type": "code",
   "execution_count": 12,
   "metadata": {
    "collapsed": false
   },
   "outputs": [
    {
     "data": {
      "text/plain": [
       "array([ 6.28756583,  0.94680917])"
      ]
     },
     "execution_count": 12,
     "metadata": {},
     "output_type": "execute_result"
    }
   ],
   "source": [
    "eigen_values"
   ]
  },
  {
   "cell_type": "markdown",
   "metadata": {},
   "source": [
    "<p>Собственные векторы</p>"
   ]
  },
  {
   "cell_type": "code",
   "execution_count": 13,
   "metadata": {
    "collapsed": false
   },
   "outputs": [
    {
     "data": {
      "text/plain": [
       "array([[ 0.89599174, -0.44407072],\n",
       "       [ 0.44407072,  0.89599174]])"
      ]
     },
     "execution_count": 13,
     "metadata": {},
     "output_type": "execute_result"
    }
   ],
   "source": [
    "eigen_vectors"
   ]
  },
  {
   "cell_type": "markdown",
   "metadata": {},
   "source": [
    "<p>Первый собственный вектор</p>"
   ]
  },
  {
   "cell_type": "code",
   "execution_count": 14,
   "metadata": {
    "collapsed": false
   },
   "outputs": [
    {
     "data": {
      "text/plain": [
       "array([ 0.89599174,  0.44407072])"
      ]
     },
     "execution_count": 14,
     "metadata": {},
     "output_type": "execute_result"
    }
   ],
   "source": [
    "v1 = eigen_vectors[:,0]\n",
    "v1"
   ]
  },
  {
   "cell_type": "markdown",
   "metadata": {},
   "source": [
    "<p>Второй собственный вектор</p>"
   ]
  },
  {
   "cell_type": "code",
   "execution_count": 15,
   "metadata": {
    "collapsed": false
   },
   "outputs": [
    {
     "data": {
      "text/plain": [
       "array([-0.44407072,  0.89599174])"
      ]
     },
     "execution_count": 15,
     "metadata": {},
     "output_type": "execute_result"
    }
   ],
   "source": [
    "v2 = eigen_vectors[:,1]\n",
    "v2"
   ]
  },
  {
   "cell_type": "markdown",
   "metadata": {},
   "source": [
    "<p>Вычисление направляющих собственных векторов</p>"
   ]
  },
  {
   "cell_type": "markdown",
   "metadata": {},
   "source": [
    "<p><i>Способ 1</i></p>"
   ]
  },
  {
   "cell_type": "code",
   "execution_count": 16,
   "metadata": {
    "collapsed": true
   },
   "outputs": [],
   "source": [
    "xx = np.array([-6, 6])"
   ]
  },
  {
   "cell_type": "code",
   "execution_count": 17,
   "metadata": {
    "collapsed": false
   },
   "outputs": [
    {
     "data": {
      "text/plain": [
       "array([[-1.00095043,  9.75095043],\n",
       "       [ 1.33557568,  6.66442432]])"
      ]
     },
     "execution_count": 17,
     "metadata": {},
     "output_type": "execute_result"
    }
   ],
   "source": [
    "t1 = v1.reshape(-1,1).dot(xx.reshape(1,-1)) + np.array([[x1_mean], [x2_mean]])\n",
    "t1"
   ]
  },
  {
   "cell_type": "code",
   "execution_count": 18,
   "metadata": {
    "collapsed": false
   },
   "outputs": [
    {
     "data": {
      "text/plain": [
       "array([[ 7.03942432,  1.71057568],\n",
       "       [-1.37595043,  9.37595043]])"
      ]
     },
     "execution_count": 18,
     "metadata": {},
     "output_type": "execute_result"
    }
   ],
   "source": [
    "t2 = v2.reshape(-1,1).dot(xx.reshape(1,-1)) + np.array([[x1_mean], [x2_mean]])\n",
    "t2"
   ]
  },
  {
   "cell_type": "markdown",
   "metadata": {},
   "source": [
    "<p><i>Способ 2</i></p>"
   ]
  },
  {
   "cell_type": "code",
   "execution_count": 19,
   "metadata": {
    "collapsed": true
   },
   "outputs": [],
   "source": [
    "xx = np.array([0, 9])"
   ]
  },
  {
   "cell_type": "code",
   "execution_count": 20,
   "metadata": {
    "collapsed": true
   },
   "outputs": [],
   "source": [
    "f_v1 = lambda x: v1[1]/v1[0] * (x - x1_mean) + x2_mean\n",
    "f_v2 = lambda x: v2[1]/v2[0] * (x - x1_mean) + x2_mean"
   ]
  },
  {
   "cell_type": "markdown",
   "metadata": {},
   "source": [
    "<p>Графики</p>"
   ]
  },
  {
   "cell_type": "code",
   "execution_count": 21,
   "metadata": {
    "collapsed": false
   },
   "outputs": [
    {
     "data": {
      "image/png": "[encoded data removed]",
      "text/plain": [
       "<matplotlib.figure.Figure at 0xb0be1614a8>"
      ]
     },
     "metadata": {},
     "output_type": "display_data"
    }
   ],
   "source": [
    "plt.figure(figsize=[12,6])\n",
    "\n",
    "plt.subplot(1, 2, 1)\n",
    "plt.title(\"Approach 1\")\n",
    "plt.scatter(X[0,:], X[1,:], c=y, cmap=plt.cm.coolwarm)\n",
    "plt.plot(t1[0,:], t1[1,:], \"--\", c=\"green\")\n",
    "plt.plot(t2[0,:], t2[1,:], \"--\", c=\"orange\")\n",
    "plt.arrow(x1_mean, x2_mean, v1[0], v1[1], linewidth=2, head_width=0.05, \n",
    "          head_length=0.1, color=\"black\", zorder=10)\n",
    "plt.arrow(x1_mean, x2_mean, v2[0], v2[1], linewidth=2, head_width=0.05, \n",
    "          head_length=0.1, color=\"black\", zorder=10)\n",
    "plt.xlim([0,9])\n",
    "plt.ylim([0,9])\n",
    "plt.xlabel(\"$X_1$\")\n",
    "plt.ylabel(\"$X_2$\")\n",
    "plt.grid(True)\n",
    "\n",
    "plt.subplot(1, 2, 2)\n",
    "plt.title(\"Approach 2\")\n",
    "plt.scatter(X[0,:], X[1,:], c=y, cmap=plt.cm.coolwarm)\n",
    "plt.plot(xx, f_v1(xx), \"--\", c=\"green\")\n",
    "plt.plot(xx, f_v2(xx), \"--\", c=\"orange\")\n",
    "plt.arrow(x1_mean, x2_mean, v1[0], v1[1], linewidth=2, head_width=0.05, \n",
    "          head_length=0.1, color=\"black\", zorder=10)\n",
    "plt.arrow(x1_mean, x2_mean, v2[0], v2[1], linewidth=2, head_width=0.05, \n",
    "          head_length=0.1, color=\"black\", zorder=10)\n",
    "plt.xlim([0,9])\n",
    "plt.ylim([0,9])\n",
    "plt.xlabel(\"$X_1$\")\n",
    "plt.ylabel(\"$X_2$\")\n",
    "plt.grid(True)\n",
    "\n",
    "plt.tight_layout()\n",
    "\n",
    "plt.show()"
   ]
  },
  {
   "cell_type": "markdown",
   "metadata": {},
   "source": [
    "<p><b>Преобразование исходных данных в новый базис</b></p>"
   ]
  },
  {
   "cell_type": "markdown",
   "metadata": {},
   "source": [
    "<p>Перенос центра координат</p>"
   ]
  },
  {
   "cell_type": "code",
   "execution_count": 22,
   "metadata": {
    "collapsed": false
   },
   "outputs": [
    {
     "data": {
      "text/plain": [
       "array([[-3.375, -2.375, -1.375, -0.375, -0.375,  1.625,  2.625,  3.625],\n",
       "       [-2.   , -1.   ,  1.   , -2.   ,  1.   ,  0.   ,  2.   ,  1.   ]])"
      ]
     },
     "execution_count": 22,
     "metadata": {},
     "output_type": "execute_result"
    }
   ],
   "source": [
    "X_adj = X - np.array([[x1_mean], [x2_mean]])\n",
    "X_adj"
   ]
  },
  {
   "cell_type": "markdown",
   "metadata": {},
   "source": [
    "<p>Преобразование</p>"
   ]
  },
  {
   "cell_type": "code",
   "execution_count": 23,
   "metadata": {
    "collapsed": false
   },
   "outputs": [
    {
     "data": {
      "text/plain": [
       "array([[ 0.89599174,  0.44407072],\n",
       "       [-0.44407072,  0.89599174]])"
      ]
     },
     "execution_count": 23,
     "metadata": {},
     "output_type": "execute_result"
    }
   ],
   "source": [
    "eigen_vectors.T"
   ]
  },
  {
   "cell_type": "code",
   "execution_count": 24,
   "metadata": {
    "collapsed": false
   },
   "outputs": [
    {
     "data": {
      "text/plain": [
       "array([[-3.91211356, -2.5720511 , -0.78791792, -1.22413834,  0.10807382,\n",
       "         1.45598658,  3.24011975,  3.69204077],\n",
       "       [-0.2932448 ,  0.15867622,  1.50658898, -1.62545696,  1.06251826,\n",
       "        -0.72161492,  0.62629784, -0.71376462]])"
      ]
     },
     "execution_count": 24,
     "metadata": {},
     "output_type": "execute_result"
    }
   ],
   "source": [
    "X_new = eigen_vectors.T.dot(X_adj)\n",
    "X_new"
   ]
  },
  {
   "cell_type": "markdown",
   "metadata": {},
   "source": [
    "<p>Проекция на первый собственный вектор</p>"
   ]
  },
  {
   "cell_type": "code",
   "execution_count": 25,
   "metadata": {
    "collapsed": false
   },
   "outputs": [
    {
     "data": {
      "text/plain": [
       "array([-3.91211356, -2.5720511 , -0.78791792, -1.22413834,  0.10807382,\n",
       "        1.45598658,  3.24011975,  3.69204077])"
      ]
     },
     "execution_count": 25,
     "metadata": {},
     "output_type": "execute_result"
    }
   ],
   "source": [
    "x1_new = v1.dot(X_adj)\n",
    "x1_new"
   ]
  },
  {
   "cell_type": "markdown",
   "metadata": {},
   "source": [
    "<p>Проекция на второй собственный вектор</p>"
   ]
  },
  {
   "cell_type": "code",
   "execution_count": 26,
   "metadata": {
    "collapsed": false
   },
   "outputs": [
    {
     "data": {
      "text/plain": [
       "array([-0.2932448 ,  0.15867622,  1.50658898, -1.62545696,  1.06251826,\n",
       "       -0.72161492,  0.62629784, -0.71376462])"
      ]
     },
     "execution_count": 26,
     "metadata": {},
     "output_type": "execute_result"
    }
   ],
   "source": [
    "x2_new = v2.dot(X_adj)\n",
    "x2_new"
   ]
  },
  {
   "cell_type": "markdown",
   "metadata": {},
   "source": [
    "<p>График</p>"
   ]
  },
  {
   "cell_type": "code",
   "execution_count": 27,
   "metadata": {
    "collapsed": false
   },
   "outputs": [
    {
     "data": {
      "image/png": "[encoded data removed]",
      "text/plain": [
       "<matplotlib.figure.Figure at 0xb0be161278>"
      ]
     },
     "metadata": {},
     "output_type": "display_data"
    }
   ],
   "source": [
    "plt.figure(figsize=[6,6])\n",
    "\n",
    "plt.axvline(x=0, lw=2, c=\"orange\", ls=\"--\")\n",
    "plt.axhline(y=0, lw=2, c=\"green\", ls=\"--\")\n",
    "#plt.scatter(x1_new, x2_new, c=y, cmap=plt.cm.coolwarm)\n",
    "plt.scatter(X_new[0,:], X_new[1,:], c=y, cmap=plt.cm.coolwarm)\n",
    "\n",
    "\n",
    "plt.grid(True)\n",
    "plt.title(\"New Coordinates along Eigenvectors\")\n",
    "plt.arrow(0, 0, 0, 1, linewidth=2, head_width=0.05, head_length=0.1, color=\"black\", zorder=10)\n",
    "plt.arrow(0, 0, 1, 0, linewidth=2, head_width=0.05, head_length=0.1, color=\"black\", zorder=10)\n",
    "\n",
    "plt.xlim([-4.5,4.5])\n",
    "plt.ylim([-4.5,4.5])\n",
    "\n",
    "plt.xlabel(\"$X_1'$\")\n",
    "plt.ylabel(\"$X_2'$\")\n",
    "\n",
    "plt.tight_layout()\n",
    "\n",
    "plt.show()"
   ]
  },
  {
   "cell_type": "markdown",
   "metadata": {},
   "source": [
    "<p>Графики проекций</p>"
   ]
  },
  {
   "cell_type": "code",
   "execution_count": 28,
   "metadata": {
    "collapsed": false
   },
   "outputs": [
    {
     "data": {
      "image/png": "[encoded data removed]",
      "text/plain": [
       "<matplotlib.figure.Figure at 0xb0bdb30cc0>"
      ]
     },
     "metadata": {},
     "output_type": "display_data"
    }
   ],
   "source": [
    "plt.figure(figsize=[12,6])\n",
    "\n",
    "plt.subplot(1, 2, 1)\n",
    "plt.axvline(x=0, lw=2, c=\"orange\", ls=\"--\")\n",
    "plt.axhline(y=0, lw=2, c=\"green\", ls=\"--\")\n",
    "plt.arrow(0, 0, 0, 1, linewidth=2, head_width=0.05, head_length=0.1, color=\"black\", zorder=2)\n",
    "plt.arrow(0, 0, 1, 0, linewidth=2, head_width=0.05, head_length=0.1, color=\"black\", zorder=2)\n",
    "plt.scatter(x1_new, x2_new, c=y, cmap=plt.cm.coolwarm, zorder=3)\n",
    "plt.vlines(x1_new, ymin=0, ymax=x2_new, colors=\"black\", linestyles=\"dotted\", lw=1, zorder=3)\n",
    "plt.plot(x1_new, np.zeros(len(x1_new)), \"x\", color=\"black\", lw=2, zorder=3)\n",
    "plt.title(\"Projection onto First Eigenvector\")\n",
    "plt.grid(True)\n",
    "plt.xlim([-4.5,4.5])\n",
    "plt.ylim([-4.5,4.5])\n",
    "plt.xlabel(\"$X_1'$\")\n",
    "plt.ylabel(\"$X_2'$\")\n",
    "\n",
    "plt.subplot(1, 2, 2)\n",
    "plt.axvline(x=0, lw=2, c=\"orange\", ls=\"--\")\n",
    "plt.axhline(y=0, lw=2, c=\"green\", ls=\"--\")\n",
    "plt.arrow(0, 0, 0, 1, linewidth=2, head_width=0.05, head_length=0.1, color=\"black\", zorder=2)\n",
    "plt.arrow(0, 0, 1, 0, linewidth=2, head_width=0.05, head_length=0.1, color=\"black\", zorder=2)\n",
    "plt.scatter(x1_new, x2_new, c=y, cmap=plt.cm.coolwarm, zorder=3)\n",
    "plt.hlines(x2_new, xmin=0, xmax=x1_new, colors=\"black\", linestyles=\"dotted\", lw=1, zorder=3)\n",
    "plt.plot(np.zeros(len(x2_new)), x2_new, \"x\", color=\"black\", lw=2, zorder=3)\n",
    "plt.title(\"Projection onto Second Eigenvector\")\n",
    "plt.grid(True)\n",
    "plt.xlim([-4.5,4.5])\n",
    "plt.ylim([-4.5,4.5])\n",
    "plt.xlabel(\"$X_1'$\")\n",
    "plt.ylabel(\"$X_2'$\")\n",
    "\n",
    "plt.tight_layout()\n",
    "\n",
    "plt.show()"
   ]
  },
  {
   "cell_type": "markdown",
   "metadata": {},
   "source": [
    "<p><b>Восстановление преобразованных данных в исходную систему координат</b></p>"
   ]
  },
  {
   "cell_type": "markdown",
   "metadata": {},
   "source": [
    "<p>Преобразованные данные в 1D</p>"
   ]
  },
  {
   "cell_type": "code",
   "execution_count": 29,
   "metadata": {
    "collapsed": false
   },
   "outputs": [
    {
     "data": {
      "text/plain": [
       "array([-3.91211356, -2.5720511 , -0.78791792, -1.22413834,  0.10807382,\n",
       "        1.45598658,  3.24011975,  3.69204077])"
      ]
     },
     "execution_count": 29,
     "metadata": {},
     "output_type": "execute_result"
    }
   ],
   "source": [
    "x1_new"
   ]
  },
  {
   "cell_type": "markdown",
   "metadata": {},
   "source": [
    "<p>Собственный вектор, использованный при преобразовании</p>"
   ]
  },
  {
   "cell_type": "code",
   "execution_count": 30,
   "metadata": {
    "collapsed": false
   },
   "outputs": [
    {
     "data": {
      "text/plain": [
       "array([ 0.89599174,  0.44407072])"
      ]
     },
     "execution_count": 30,
     "metadata": {},
     "output_type": "execute_result"
    }
   ],
   "source": [
    "v1"
   ]
  },
  {
   "cell_type": "markdown",
   "metadata": {},
   "source": [
    "<p>Восстановление в 2D</p>"
   ]
  },
  {
   "cell_type": "markdown",
   "metadata": {},
   "source": [
    "<p><i>Преобразование в матричный вид</i></p>"
   ]
  },
  {
   "cell_type": "code",
   "execution_count": 31,
   "metadata": {
    "collapsed": false
   },
   "outputs": [
    {
     "data": {
      "text/plain": [
       "array([[ 0.89599174,  0.44407072]])"
      ]
     },
     "execution_count": 31,
     "metadata": {},
     "output_type": "execute_result"
    }
   ],
   "source": [
    "v1_mat_T = v1.reshape(1,-1)\n",
    "v1_mat_T"
   ]
  },
  {
   "cell_type": "code",
   "execution_count": 32,
   "metadata": {
    "collapsed": false
   },
   "outputs": [
    {
     "data": {
      "text/plain": [
       "array([[-3.91211356],\n",
       "       [-2.5720511 ],\n",
       "       [-0.78791792],\n",
       "       [-1.22413834],\n",
       "       [ 0.10807382],\n",
       "       [ 1.45598658],\n",
       "       [ 3.24011975],\n",
       "       [ 3.69204077]])"
      ]
     },
     "execution_count": 32,
     "metadata": {},
     "output_type": "execute_result"
    }
   ],
   "source": [
    "X1_mat = x1_new.reshape(-1,1)\n",
    "X1_mat"
   ]
  },
  {
   "cell_type": "markdown",
   "metadata": {},
   "source": [
    "<p><i>Восстановление</i></p>"
   ]
  },
  {
   "cell_type": "code",
   "execution_count": 33,
   "metadata": {
    "collapsed": false
   },
   "outputs": [
    {
     "data": {
      "text/plain": [
       "array([[ 0.86977857,  2.26274492],\n",
       "       [ 2.07046346,  2.85782742],\n",
       "       [ 3.66903205,  3.65010872],\n",
       "       [ 3.27818216,  3.456396  ],\n",
       "       [ 4.47183325,  4.04799242],\n",
       "       [ 5.67955194,  4.64656101],\n",
       "       [ 7.27812053,  5.43884231],\n",
       "       [ 7.68303803,  5.6395272 ]])"
      ]
     },
     "execution_count": 33,
     "metadata": {},
     "output_type": "execute_result"
    }
   ],
   "source": [
    "X_init = X1_mat.dot(v1_mat_T) + np.array([[x1_mean, x2_mean]])\n",
    "X_init"
   ]
  },
  {
   "cell_type": "markdown",
   "metadata": {},
   "source": [
    "<p>Графики</p>"
   ]
  },
  {
   "cell_type": "code",
   "execution_count": 34,
   "metadata": {
    "collapsed": false
   },
   "outputs": [
    {
     "data": {
      "image/png": "[encoded data removed]",
      "text/plain": [
       "<matplotlib.figure.Figure at 0xb0bdb4bb70>"
      ]
     },
     "metadata": {},
     "output_type": "display_data"
    }
   ],
   "source": [
    "plt.figure(figsize=[12,6])\n",
    "\n",
    "plt.subplot(1, 2, 1)\n",
    "plt.scatter(X[0,:], X[1,:], c=y, cmap=plt.cm.coolwarm)\n",
    "plt.xlim([0,9])\n",
    "plt.ylim([0,9])\n",
    "plt.title(\"Initial\")\n",
    "plt.xlabel(\"$X_1$\")\n",
    "plt.ylabel(\"$X_2$\")\n",
    "plt.grid(True)\n",
    "\n",
    "plt.subplot(1, 2, 2)\n",
    "plt.plot(xx, f_v1(xx), \"--\", c=\"green\")\n",
    "plt.scatter(X_init[:,0], X_init[:,1], c=y, cmap=plt.cm.coolwarm, zorder=3)\n",
    "plt.xlim([0,9])\n",
    "plt.ylim([0,9])\n",
    "plt.title(\"Reconstructed\")\n",
    "plt.xlabel(\"$X_1$\")\n",
    "plt.ylabel(\"$X_2$\")\n",
    "plt.grid(True)\n",
    "\n",
    "plt.tight_layout()\n",
    "\n",
    "plt.show()"
   ]
  },
  {
   "cell_type": "markdown",
   "metadata": {},
   "source": [
    "<a name=\"2\"></a>\n",
    "<div style=\"display:table; width:100%; padding-top:10px; padding-bottom:10px; border-bottom:1px solid lightgrey\">\n",
    "    <div style=\"display:table-row\">\n",
    "        <div style=\"display:table-cell; width:80%; font-size:14pt; font-weight:bold\">2. Метод главных компонент (PCA)</div>\n",
    "    \t<div style=\"display:table-cell; width:20%; text-align:center; background-color:whitesmoke; border:1px solid lightgrey\"><a href=\"#0\">К содержанию</a></div>\n",
    "    </div>\n",
    "</div>"
   ]
  },
  {
   "cell_type": "code",
   "execution_count": 35,
   "metadata": {
    "collapsed": true
   },
   "outputs": [],
   "source": [
    "from sklearn.decomposition import PCA"
   ]
  },
  {
   "cell_type": "markdown",
   "metadata": {},
   "source": [
    "<p>Конфигурирование PCA с одной главной компонентой</p>"
   ]
  },
  {
   "cell_type": "code",
   "execution_count": 36,
   "metadata": {
    "collapsed": false
   },
   "outputs": [
    {
     "data": {
      "text/plain": [
       "PCA(copy=True, iterated_power='auto', n_components=1, random_state=None,\n",
       "  svd_solver='auto', tol=0.0, whiten=False)"
      ]
     },
     "execution_count": 36,
     "metadata": {},
     "output_type": "execute_result"
    }
   ],
   "source": [
    "pca = PCA(n_components=1)\n",
    "pca"
   ]
  },
  {
   "cell_type": "markdown",
   "metadata": {},
   "source": [
    "<p>Выполнение PCA</p>"
   ]
  },
  {
   "cell_type": "code",
   "execution_count": 37,
   "metadata": {
    "collapsed": false
   },
   "outputs": [
    {
     "data": {
      "text/plain": [
       "PCA(copy=True, iterated_power='auto', n_components=1, random_state=None,\n",
       "  svd_solver='auto', tol=0.0, whiten=False)"
      ]
     },
     "execution_count": 37,
     "metadata": {},
     "output_type": "execute_result"
    }
   ],
   "source": [
    "pca.fit(X.T)"
   ]
  },
  {
   "cell_type": "markdown",
   "metadata": {},
   "source": [
    "<p>Полученные параметры</p>"
   ]
  },
  {
   "cell_type": "markdown",
   "metadata": {},
   "source": [
    "<p><i>Среднее значение</i></p>"
   ]
  },
  {
   "cell_type": "code",
   "execution_count": 38,
   "metadata": {
    "collapsed": false
   },
   "outputs": [
    {
     "data": {
      "text/plain": [
       "array([ 4.375,  4.   ])"
      ]
     },
     "execution_count": 38,
     "metadata": {},
     "output_type": "execute_result"
    }
   ],
   "source": [
    "pca.mean_"
   ]
  },
  {
   "cell_type": "code",
   "execution_count": 39,
   "metadata": {
    "collapsed": false
   },
   "outputs": [
    {
     "data": {
      "text/plain": [
       "(4.375, 4.0)"
      ]
     },
     "execution_count": 39,
     "metadata": {},
     "output_type": "execute_result"
    }
   ],
   "source": [
    "x1_mean, x2_mean"
   ]
  },
  {
   "cell_type": "markdown",
   "metadata": {},
   "source": [
    "<p><i>Компоненты</i></p>"
   ]
  },
  {
   "cell_type": "code",
   "execution_count": 40,
   "metadata": {
    "collapsed": false
   },
   "outputs": [
    {
     "data": {
      "text/plain": [
       "array([[-0.89599174, -0.44407072]])"
      ]
     },
     "execution_count": 40,
     "metadata": {},
     "output_type": "execute_result"
    }
   ],
   "source": [
    "pca.components_"
   ]
  },
  {
   "cell_type": "code",
   "execution_count": 41,
   "metadata": {
    "collapsed": false
   },
   "outputs": [
    {
     "data": {
      "text/plain": [
       "array([[ 0.89599174, -0.44407072],\n",
       "       [ 0.44407072,  0.89599174]])"
      ]
     },
     "execution_count": 41,
     "metadata": {},
     "output_type": "execute_result"
    }
   ],
   "source": [
    "eigen_vectors # при сравнении обратите внимание на знаки векторов"
   ]
  },
  {
   "cell_type": "markdown",
   "metadata": {},
   "source": [
    "<p><i>Дисперсия</i></p>"
   ]
  },
  {
   "cell_type": "code",
   "execution_count": 42,
   "metadata": {
    "collapsed": false
   },
   "outputs": [
    {
     "data": {
      "text/plain": [
       "array([ 6.28756583])"
      ]
     },
     "execution_count": 42,
     "metadata": {},
     "output_type": "execute_result"
    }
   ],
   "source": [
    "pca.explained_variance_"
   ]
  },
  {
   "cell_type": "code",
   "execution_count": 43,
   "metadata": {
    "collapsed": false
   },
   "outputs": [
    {
     "data": {
      "text/plain": [
       "array([ 6.28756583,  0.94680917])"
      ]
     },
     "execution_count": 43,
     "metadata": {},
     "output_type": "execute_result"
    }
   ],
   "source": [
    "eigen_values"
   ]
  },
  {
   "cell_type": "code",
   "execution_count": 44,
   "metadata": {
    "collapsed": false
   },
   "outputs": [
    {
     "data": {
      "text/plain": [
       "6.287565827158204"
      ]
     },
     "execution_count": 44,
     "metadata": {},
     "output_type": "execute_result"
    }
   ],
   "source": [
    "np.var(x1_new, ddof=0)"
   ]
  },
  {
   "cell_type": "code",
   "execution_count": 45,
   "metadata": {
    "collapsed": false
   },
   "outputs": [
    {
     "data": {
      "text/plain": [
       "0.94680917284179544"
      ]
     },
     "execution_count": 45,
     "metadata": {},
     "output_type": "execute_result"
    }
   ],
   "source": [
    "np.var(x2_new, ddof=0)"
   ]
  },
  {
   "cell_type": "markdown",
   "metadata": {},
   "source": [
    "<p>PCA преобразование 2D в 1D</p>"
   ]
  },
  {
   "cell_type": "markdown",
   "metadata": {},
   "source": [
    "<p><i>С использованием sklearn PCA</i></p>"
   ]
  },
  {
   "cell_type": "code",
   "execution_count": 46,
   "metadata": {
    "collapsed": false
   },
   "outputs": [
    {
     "data": {
      "text/plain": [
       "array([[ 3.91211356],\n",
       "       [ 2.5720511 ],\n",
       "       [ 0.78791792],\n",
       "       [ 1.22413834],\n",
       "       [-0.10807382],\n",
       "       [-1.45598658],\n",
       "       [-3.24011975],\n",
       "       [-3.69204077]])"
      ]
     },
     "execution_count": 46,
     "metadata": {},
     "output_type": "execute_result"
    }
   ],
   "source": [
    "X1_mat_pca = pca.transform(X.T)\n",
    "X1_mat_pca"
   ]
  },
  {
   "cell_type": "markdown",
   "metadata": {},
   "source": [
    "<p><i>Ранее полученный результат преобразования. Обратите внимание на знак</i></p>"
   ]
  },
  {
   "cell_type": "code",
   "execution_count": 47,
   "metadata": {
    "collapsed": false
   },
   "outputs": [
    {
     "data": {
      "text/plain": [
       "array([[-3.91211356],\n",
       "       [-2.5720511 ],\n",
       "       [-0.78791792],\n",
       "       [-1.22413834],\n",
       "       [ 0.10807382],\n",
       "       [ 1.45598658],\n",
       "       [ 3.24011975],\n",
       "       [ 3.69204077]])"
      ]
     },
     "execution_count": 47,
     "metadata": {},
     "output_type": "execute_result"
    }
   ],
   "source": [
    "X1_mat"
   ]
  },
  {
   "cell_type": "markdown",
   "metadata": {},
   "source": [
    "<p>Обратное преобразование из 1D в 2D</p>"
   ]
  },
  {
   "cell_type": "markdown",
   "metadata": {},
   "source": [
    "<p><i>С использованием метода inverse_transform</i></p>"
   ]
  },
  {
   "cell_type": "code",
   "execution_count": 48,
   "metadata": {
    "collapsed": false
   },
   "outputs": [
    {
     "data": {
      "text/plain": [
       "array([[ 0.86977857,  2.26274492],\n",
       "       [ 2.07046346,  2.85782742],\n",
       "       [ 3.66903205,  3.65010872],\n",
       "       [ 3.27818216,  3.456396  ],\n",
       "       [ 4.47183325,  4.04799242],\n",
       "       [ 5.67955194,  4.64656101],\n",
       "       [ 7.27812053,  5.43884231],\n",
       "       [ 7.68303803,  5.6395272 ]])"
      ]
     },
     "execution_count": 48,
     "metadata": {},
     "output_type": "execute_result"
    }
   ],
   "source": [
    "X_2d_pca = pca.inverse_transform(X1_mat_pca)\n",
    "X_2d_pca"
   ]
  },
  {
   "cell_type": "markdown",
   "metadata": {},
   "source": [
    "<p><i>Формулой</i></p>"
   ]
  },
  {
   "cell_type": "code",
   "execution_count": 49,
   "metadata": {
    "collapsed": false
   },
   "outputs": [
    {
     "data": {
      "text/plain": [
       "array([[ 0.86977857,  2.26274492],\n",
       "       [ 2.07046346,  2.85782742],\n",
       "       [ 3.66903205,  3.65010872],\n",
       "       [ 3.27818216,  3.456396  ],\n",
       "       [ 4.47183325,  4.04799242],\n",
       "       [ 5.67955194,  4.64656101],\n",
       "       [ 7.27812053,  5.43884231],\n",
       "       [ 7.68303803,  5.6395272 ]])"
      ]
     },
     "execution_count": 49,
     "metadata": {},
     "output_type": "execute_result"
    }
   ],
   "source": [
    "X_2d_pca = np.dot(X1_mat_pca, pca.components_) + pca.mean_\n",
    "X_2d_pca"
   ]
  },
  {
   "cell_type": "markdown",
   "metadata": {},
   "source": [
    "<p><i>Ранее полученный результат восстановления</i></p>"
   ]
  },
  {
   "cell_type": "code",
   "execution_count": 50,
   "metadata": {
    "collapsed": false
   },
   "outputs": [
    {
     "data": {
      "text/plain": [
       "array([[ 0.86977857,  2.26274492],\n",
       "       [ 2.07046346,  2.85782742],\n",
       "       [ 3.66903205,  3.65010872],\n",
       "       [ 3.27818216,  3.456396  ],\n",
       "       [ 4.47183325,  4.04799242],\n",
       "       [ 5.67955194,  4.64656101],\n",
       "       [ 7.27812053,  5.43884231],\n",
       "       [ 7.68303803,  5.6395272 ]])"
      ]
     },
     "execution_count": 50,
     "metadata": {},
     "output_type": "execute_result"
    }
   ],
   "source": [
    "X_init"
   ]
  },
  {
   "cell_type": "markdown",
   "metadata": {},
   "source": [
    "<p>График</p>"
   ]
  },
  {
   "cell_type": "code",
   "execution_count": 51,
   "metadata": {
    "collapsed": false
   },
   "outputs": [
    {
     "data": {
      "text/plain": [
       "array([[ 9.75095043,  6.66442432],\n",
       "       [-1.00095043,  1.33557568]])"
      ]
     },
     "execution_count": 51,
     "metadata": {},
     "output_type": "execute_result"
    }
   ],
   "source": [
    "xx = np.array([-6, 6]).reshape(-1,1)\n",
    "xy = pca.inverse_transform(xx)\n",
    "xy"
   ]
  },
  {
   "cell_type": "code",
   "execution_count": 52,
   "metadata": {
    "collapsed": false
   },
   "outputs": [
    {
     "data": {
      "image/png": "[encoded data removed]",
      "text/plain": [
       "<matplotlib.figure.Figure at 0xb0be79f2b0>"
      ]
     },
     "metadata": {},
     "output_type": "display_data"
    }
   ],
   "source": [
    "plt.figure(figsize=[6,6])\n",
    "\n",
    "plt.scatter(X_2d_pca[:,0], X_2d_pca[:,1], s=80, c=\"blue\", cmap=plt.cm.coolwarm, label=\"PCA\")\n",
    "plt.scatter(X[0,:], X[1,:], c=\"black\", cmap=plt.cm.coolwarm, label=\"Initial\")\n",
    "plt.scatter(X_init[:,0], X_init[:,1], c=\"red\", cmap=plt.cm.coolwarm, zorder=3, label=\"Eigenvectors\")\n",
    "plt.plot(xy[:,0], xy[:,1], \"--\", c=\"green\")\n",
    "plt.xlim([0,9])\n",
    "plt.ylim([0,9])\n",
    "plt.title(\"Initial\")\n",
    "plt.xlabel(\"$X_1$\")\n",
    "plt.ylabel(\"$X_2$\")\n",
    "plt.legend()\n",
    "plt.grid(True)\n",
    "\n",
    "plt.tight_layout()\n",
    "\n",
    "plt.show()"
   ]
  },
  {
   "cell_type": "markdown",
   "metadata": {},
   "source": [
    "<a name=\"3\"></a>\n",
    "<div style=\"display:table; width:100%; padding-top:10px; padding-bottom:10px; border-bottom:1px solid lightgrey\">\n",
    "    <div style=\"display:table-row\">\n",
    "        <div style=\"display:table-cell; width:80%; font-size:14pt; font-weight:bold\">3. Уменьшение размерности с PCA при классификации</div>\n",
    "    \t<div style=\"display:table-cell; width:20%; text-align:center; background-color:whitesmoke; border:1px solid lightgrey\"><a href=\"#0\">К содержанию</a></div>\n",
    "    </div>\n",
    "</div>"
   ]
  },
  {
   "cell_type": "markdown",
   "metadata": {},
   "source": [
    "<p><b>Пример с логистической регрессией</b></p>"
   ]
  },
  {
   "cell_type": "markdown",
   "metadata": {},
   "source": [
    "<p>Исходные данные</p>"
   ]
  },
  {
   "cell_type": "code",
   "execution_count": 53,
   "metadata": {
    "collapsed": true
   },
   "outputs": [],
   "source": [
    "x1 = np.array([1,2,3,4,4,6,7,8])\n",
    "x2 = np.array([2,3,5,2,5,4,6,5])\n",
    "X = np.vstack((x1, x2))\n",
    "\n",
    "y1 = np.array([0,0,0,0,1,1,1,1])\n",
    "y2 = np.array([0,0,0,0,1,0,1,1])"
   ]
  },
  {
   "cell_type": "markdown",
   "metadata": {},
   "source": [
    "<p>Графики</p>"
   ]
  },
  {
   "cell_type": "code",
   "execution_count": 54,
   "metadata": {
    "collapsed": false
   },
   "outputs": [
    {
     "data": {
      "image/png": "[encoded data removed]",
      "text/plain": [
       "<matplotlib.figure.Figure at 0xb0be79f518>"
      ]
     },
     "metadata": {},
     "output_type": "display_data"
    }
   ],
   "source": [
    "plt.figure(figsize=[12,6])\n",
    "\n",
    "plt.subplot(1, 2, 1)\n",
    "\n",
    "plt.scatter(X[0,:], X[1,:], c=y1, cmap=plt.cm.coolwarm)\n",
    "plt.xlim([0,9])\n",
    "plt.ylim([0,9])\n",
    "plt.title(\"Initial Data 1\")\n",
    "plt.xlabel(\"$X_1$\")\n",
    "plt.ylabel(\"$X_2$\")\n",
    "plt.grid(True)\n",
    "\n",
    "plt.subplot(1, 2, 2)\n",
    "plt.scatter(X[0,:], X[1,:], c=y2, cmap=plt.cm.coolwarm)\n",
    "plt.xlim([0,9])\n",
    "plt.ylim([0,9])\n",
    "plt.title(\"Initial Data 2\")\n",
    "plt.xlabel(\"$X_1$\")\n",
    "plt.ylabel(\"$X_2$\")\n",
    "plt.grid(True)\n",
    "\n",
    "\n",
    "plt.tight_layout()\n",
    "plt.show()"
   ]
  },
  {
   "cell_type": "markdown",
   "metadata": {},
   "source": [
    "<p>Обучение и тестирование для исходных данных 1</p>"
   ]
  },
  {
   "cell_type": "code",
   "execution_count": 55,
   "metadata": {
    "collapsed": false
   },
   "outputs": [
    {
     "data": {
      "text/plain": [
       "1.0"
      ]
     },
     "execution_count": 55,
     "metadata": {},
     "output_type": "execute_result"
    }
   ],
   "source": [
    "logReg = linear_model.LogisticRegression(penalty=\"l2\", fit_intercept=True, max_iter=100, C=1e5, \n",
    "                                         solver=\"lbfgs\", random_state=1234)\n",
    "logReg.fit(X.T, y1)\n",
    "accuracy_score_1 = logReg.score(X.T, y1)\n",
    "accuracy_score_1"
   ]
  },
  {
   "cell_type": "markdown",
   "metadata": {},
   "source": [
    "<p>Обучение и тестирование для исходных данных 2</p>"
   ]
  },
  {
   "cell_type": "code",
   "execution_count": 56,
   "metadata": {
    "collapsed": false
   },
   "outputs": [
    {
     "data": {
      "text/plain": [
       "1.0"
      ]
     },
     "execution_count": 56,
     "metadata": {},
     "output_type": "execute_result"
    }
   ],
   "source": [
    "logReg.fit(X.T, y2)\n",
    "accuracy_score_2 = logReg.score(X.T, y2)\n",
    "accuracy_score_2"
   ]
  },
  {
   "cell_type": "markdown",
   "metadata": {},
   "source": [
    "<p><b>Уменьшение размерности до одного признака с использованием PCA</b></p>"
   ]
  },
  {
   "cell_type": "code",
   "execution_count": 57,
   "metadata": {
    "collapsed": false
   },
   "outputs": [
    {
     "data": {
      "text/plain": [
       "array([[ 3.91211356],\n",
       "       [ 2.5720511 ],\n",
       "       [ 0.78791792],\n",
       "       [ 1.22413834],\n",
       "       [-0.10807382],\n",
       "       [-1.45598658],\n",
       "       [-3.24011975],\n",
       "       [-3.69204077]])"
      ]
     },
     "execution_count": 57,
     "metadata": {},
     "output_type": "execute_result"
    }
   ],
   "source": [
    "pca = PCA(n_components=1)\n",
    "pca.fit(X.T)\n",
    "X1_mat_pca = pca.transform(X.T)\n",
    "X1_mat_pca"
   ]
  },
  {
   "cell_type": "markdown",
   "metadata": {},
   "source": [
    "<p>Обучение и тестирование для преобразованных данных 1</p>"
   ]
  },
  {
   "cell_type": "code",
   "execution_count": 58,
   "metadata": {
    "collapsed": false
   },
   "outputs": [
    {
     "data": {
      "text/plain": [
       "1.0"
      ]
     },
     "execution_count": 58,
     "metadata": {},
     "output_type": "execute_result"
    }
   ],
   "source": [
    "logReg.fit(X1_mat_pca, y1)\n",
    "accuracy_score_pca_1 = logReg.score(X1_mat_pca, y1)\n",
    "accuracy_score_pca_1"
   ]
  },
  {
   "cell_type": "markdown",
   "metadata": {},
   "source": [
    "<p>Обучение и тестирование для преобразованных данных 2</p>"
   ]
  },
  {
   "cell_type": "code",
   "execution_count": 59,
   "metadata": {
    "collapsed": false
   },
   "outputs": [
    {
     "data": {
      "text/plain": [
       "0.75"
      ]
     },
     "execution_count": 59,
     "metadata": {},
     "output_type": "execute_result"
    }
   ],
   "source": [
    "logReg.fit(X1_mat_pca, y2)\n",
    "accuracy_score_pca_2 = logReg.score(X1_mat_pca, y2)\n",
    "accuracy_score_pca_2"
   ]
  },
  {
   "cell_type": "markdown",
   "metadata": {},
   "source": [
    "<p><b>В чем проблема?</b><br> Почему получили такой результат?<br> Какая особенность PCA повлияла?<br> Что можно сделать, чтобы получить всё-таки 1.0?</p>"
   ]
  },
  {
   "cell_type": "markdown",
   "metadata": {
    "collapsed": true
   },
   "source": [
    "<a name=\"4\"></a>\n",
    "<div style=\"display:table; width:100%; padding-top:10px; padding-bottom:10px; border-bottom:1px solid lightgrey\">\n",
    "    <div style=\"display:table-row\">\n",
    "        <div style=\"display:table-cell; width:80%; font-size:14pt; font-weight:bold\">4. Источники</div>\n",
    "    \t<div style=\"display:table-cell; width:20%; text-align:center; background-color:whitesmoke; border:1px solid lightgrey\"><a href=\"#0\">К содержанию</a></div>\n",
    "    </div>\n",
    "</div>"
   ]
  },
  {
   "cell_type": "code",
   "execution_count": 60,
   "metadata": {
    "collapsed": true
   },
   "outputs": [],
   "source": [
    "# TODO"
   ]
  }
 ],
 "metadata": {
  "kernelspec": {
   "display_name": "Python 3",
   "language": "python",
   "name": "python3"
  },
  "language_info": {
   "codemirror_mode": {
    "name": "ipython",
    "version": 3
   },
   "file_extension": ".py",
   "mimetype": "text/x-python",
   "name": "python",
   "nbconvert_exporter": "python",
   "pygments_lexer": "ipython3",
   "version": "3.6.0"
  }
 },
 "nbformat": 4,
 "nbformat_minor": 2
}
