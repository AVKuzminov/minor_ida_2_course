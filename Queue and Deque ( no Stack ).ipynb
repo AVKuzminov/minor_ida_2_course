{
 "cells": [
  {
   "cell_type": "code",
   "execution_count": 3,
   "metadata": {
    "collapsed": false
   },
   "outputs": [
    {
     "name": "stdout",
     "output_type": "stream",
     "text": [
      "3\n",
      "hello\n",
      "metro\n",
      "queue(hello, world, metro)\n",
      "queue(metro)\n"
     ]
    }
   ],
   "source": [
    "class Queue:\n",
    "    #можно сделать диспетчер методов, который принимает строку, но возвращает метод\n",
    "    def __init__(self): #если _ - то private, __ - то protected\n",
    "        self.items = []\n",
    "        \n",
    "    def push(self,n):\n",
    "        self.items.append(n)\n",
    "        return('ok')\n",
    "    \n",
    "    def pop(self):\n",
    "        return self.items.pop(0)\n",
    "    \n",
    "    def top(self):\n",
    "        return self.items[0]\n",
    "    \n",
    "    def back(self):\n",
    "        return self.items[-1]\n",
    "    \n",
    "    def size(self):\n",
    "        return len(self.items)\n",
    "    \n",
    "    def clear(self):\n",
    "        self.items.clear()\n",
    "        return('ok')\n",
    "    def __str__(self):\n",
    "        return 'queue({})'.format(', '.join(map(str, self.items)))\n",
    "\n",
    "queue1 = Queue()\n",
    "queue1.push('hello')\n",
    "queue1.push('world')\n",
    "queue1.push('metro')\n",
    "print(queue1.size())\n",
    "print(queue1.top())\n",
    "print(queue1.back())\n",
    "print(queue1)\n",
    "queue1.pop()\n",
    "queue1.pop()\n",
    "print(queue1)"
   ]
  },
  {
   "cell_type": "code",
   "execution_count": 6,
   "metadata": {
    "collapsed": false
   },
   "outputs": [
    {
     "name": "stdout",
     "output_type": "stream",
     "text": [
      "push 1\n",
      "ok\n",
      "back\n",
      "1\n",
      "exit\n",
      "bye\n"
     ]
    }
   ],
   "source": [
    "class Stack:\n",
    "    def __init__(self):\n",
    "        self.items = []\n",
    "    \n",
    "    def push(self,n):\n",
    "        self.items.append(n)\n",
    "        return('ok')\n",
    "    \n",
    "    def pop(self):\n",
    "        return self.items.pop()\n",
    "    \n",
    "    def back(self):\n",
    "        return self.items[-1]\n",
    "    \n",
    "    def size(self):\n",
    "        return len(self)\n",
    "    \n",
    "    def clear(self):\n",
    "        self.items.clear()\n",
    "        return('ok')\n",
    "    \n",
    "stack1 = Stack()\n",
    "a = list(map(str,input().split()))\n",
    "while a[0] != exit:\n",
    "    if a[0] == 'push':\n",
    "        print(stack1.push(int(a[1])))\n",
    "    if a[0] == 'pop':\n",
    "        print(stack1.pop())\n",
    "    if a[0] == 'back':\n",
    "        print(stack1.back())\n",
    "    if a[0] == 'size':\n",
    "        print(stack1.size())\n",
    "    if a[0] == 'clear':\n",
    "        print(stack1.clear())\n",
    "    if a[0] == 'exit':\n",
    "        print('bye')\n",
    "        break\n",
    "    a = list(input().split())"
   ]
  },
  {
   "cell_type": "code",
   "execution_count": null,
   "metadata": {
    "collapsed": true
   },
   "outputs": [],
   "source": [
    "class Deque:\n",
    "    def __init__(self):\n",
    "        self.items = []\n",
    "        \n",
    "    def append_right(self, n):\n",
    "        self.items.append(n)\n",
    "        return('ok')\n",
    "    \n",
    "    def append_left(self,n):\n",
    "        self.items.insert(0,n)\n",
    "        return('ok')\n",
    "    \n",
    "    def pop_right(self):\n",
    "        return self.items.pop()\n",
    "    \n",
    "    def pop_left(self):\n",
    "        return self.items.pop(0)\n",
    "    \n",
    "    def size(self):\n",
    "        return len(self.items)\n",
    "    \n",
    "    def clear(self):\n",
    "        self.items.clear()\n",
    "        return('ok')\n",
    "    \n",
    "    def right(self):\n",
    "        return self.items[-1]\n",
    "    \n",
    "    def left(self):\n",
    "        return self.items[0]\n",
    "    \n",
    "    def rotate(self, n):\n",
    "        for i in range(n):\n",
    "            self.append_right(self.pop_left())\n",
    "        return('ok')\n",
    "    \n",
    "    def __str__(self):\n",
    "        return 'deque({})'.format(', '.join(map(str,self.items)))"
   ]
  },
  {
   "cell_type": "code",
   "execution_count": null,
   "metadata": {
    "collapsed": true
   },
   "outputs": [],
   "source": [
    "import collections\n",
    "\n",
    "deque1 = collections.deque()"
   ]
  }
 ],
 "metadata": {
  "kernelspec": {
   "display_name": "Python [Root]",
   "language": "python",
   "name": "Python [Root]"
  },
  "language_info": {
   "codemirror_mode": {
    "name": "ipython",
    "version": 3
   },
   "file_extension": ".py",
   "mimetype": "text/x-python",
   "name": "python",
   "nbconvert_exporter": "python",
   "pygments_lexer": "ipython3",
   "version": "3.5.2"
  }
 },
 "nbformat": 4,
 "nbformat_minor": 0
}
