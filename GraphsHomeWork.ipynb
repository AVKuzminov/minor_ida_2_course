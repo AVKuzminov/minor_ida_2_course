{
 "cells": [
  {
   "cell_type": "code",
   "execution_count": 5,
   "metadata": {
    "collapsed": false
   },
   "outputs": [
    {
     "name": "stdout",
     "output_type": "stream",
     "text": [
      "5 3\n",
      "1 3\n",
      "2 3\n",
      "2 5\n",
      "0 0 1 0 0\n",
      "0 0 1 0 1\n",
      "1 1 0 0 0\n",
      "0 0 0 0 0\n",
      "0 1 0 0 0\n"
     ]
    }
   ],
   "source": [
    "#1я задача\n",
    "NumberOfVertex,NumberOfEdges = map(int,input().split())\n",
    "matrix = [[0]*NumberOfVertex for i in range(NumberOfVertex)]\n",
    "for i in range(NumberOfEdges):\n",
    "    Vertex1, Vertex2 = map(int,input().split())\n",
    "    matrix[Vertex1-1][Vertex2-1],matrix[Vertex2-1][Vertex1-1] = 1,1\n",
    "for i in range(NumberOfVertex):\n",
    "    print(' '.join(map(str,matrix[i])))"
   ]
  },
  {
   "cell_type": "code",
   "execution_count": null,
   "metadata": {
    "collapsed": true
   },
   "outputs": [],
   "source": [
    "#2я задача - не работает код\n",
    "#ищет количество элементов в компоненте связности, в которой лежит указанная вершина\n",
    "def component(start,NumberOfVertex,matrix):\n",
    "    length = NumberOfVertex\n",
    "    set_v = set()\n",
    "    def dfs(matrix,start,set_v):\n",
    "        for i in range(length):\n",
    "            if (matrix[start][i] == 1) and (not (i in set_v)):\n",
    "                set_v.add(i)\n",
    "                set_v = dfs(matrix,i,set_v)\n",
    "        return set_v\n",
    "    return(dfs(matrix,start-1,set_v))\n",
    "###############################################################################\n",
    "def filling():\n",
    "    NumberOfVertex,NumberOfEdges = map(int,input().split())\n",
    "    matrix = [[0]*NumberOfVertex for i in range(NumberOfVertex)]\n",
    "    for i in range(NumberOfEdges):\n",
    "        Vertex1, Vertex2 = map(int,input().split())\n",
    "        matrix[Vertex1-1][Vertex2-1],matrix[Vertex2-1][Vertex1-1] = 1,1\n",
    "    return matrix,NumberOfVertex,NumberOfEdges\n",
    "################################################################################\n",
    "matrix,NumberOfVertex,NumberOfEdges = filling()\n",
    "print('filling ended!')\n",
    "Vertexes = [i+1 for i in range(NumberOfVertex)]\n",
    "SetOfVertexes = set(Vertexes)\n",
    "j = len(Vertexes)\n",
    "i = 0\n",
    "results = []\n",
    "while len(SetOfVertexes) != 0 and j>0:\n",
    "    temp = []\n",
    "    resultset = component(Vertexes[i],NumberOfVertex,matrix) #в нем вершины, которые в данной компоненте связности\n",
    "    resultlist = list(resultset) #делаем из него список\n",
    "    resultlist.sort() #сортируем по возрастанию\n",
    "    #for h in range(len(resultlist)):\n",
    "    #    resultlist[h] +=1\n",
    "    #print(resultlist)\n",
    "    #f = 0\n",
    "    #for o in range(len(Vertexes)): #удаление повторяющихся вершин из списка вершин\n",
    "    #    for p in range(len(resultlist)):\n",
    "    #        print(resultlist[p])\n",
    "    #        Vertexes.remove(resultlist[p])\n",
    "    #        break\n",
    "    SetOfVertexes.intersection_update(resultset) #множество тех вершин, что есть в SetOfVertexes, но нет в resultset\n",
    "    temp.append(len(resultset))\n",
    "    for k in range(len(resultlist)):\n",
    "        temp.append(resultlist[k])\n",
    "    results.append(temp)\n",
    "    i += 1\n",
    "    j -= 1\n",
    "print(len(results))\n",
    "for i in range(len(results)):\n",
    "    print(results[i][0])\n",
    "    results[i].remove(results[i][0])\n",
    "    print(' '.join(map(str,results[i])))"
   ]
  },
  {
   "cell_type": "code",
   "execution_count": null,
   "metadata": {
    "collapsed": true
   },
   "outputs": [],
   "source": [
    "#2я задача\n",
    "#найти компоненты связности в графе\n",
    "#Вывод: количество компонент, затем сколько в компоненте вершин и потом их вывод через пробел\n",
    "from sys import setrecursionlimit\n",
    "setrecursionlimit(1000000)\n",
    "\n",
    "def dfs(v):\n",
    "    global res\n",
    "    visited[v] = True\n",
    "    for i in adj_list[v]:\n",
    "        if not visited[i]:\n",
    "            dfs(i)\n",
    "    res.append(v + 1)\n",
    "N, M = list(map(int, input().split()))\n",
    "adj_list = []\n",
    "for j in range(N):\n",
    "    adj_list.append([])\n",
    "for j in range(M):\n",
    "    L, P = list(map(int, input().split()))\n",
    "    adj_list[L-1].append(P-1)\n",
    "    adj_list[P-1].append(L-1)\n",
    "visited = [False] * N\n",
    "Q = 0\n",
    "res_1 = []\n",
    "for j in range(N):\n",
    "    if not visited[j]:\n",
    "        res = []\n",
    "        Q += 1\n",
    "        dfs(j)\n",
    "        res_1.append(sorted(res))\n",
    "print(Q)\n",
    "for j in range(len(res_1)):\n",
    "    print(len(res_1[j]))\n",
    "    print(\" \".join(map(str,res_1[j])))"
   ]
  },
  {
   "cell_type": "markdown",
   "metadata": {
    "collapsed": false
   },
   "source": [
    "Тест для второй\n",
    "6 4\n",
    "3 1\n",
    "1 2\n",
    "5 4\n",
    "2 3"
   ]
  },
  {
   "cell_type": "code",
   "execution_count": 40,
   "metadata": {
    "collapsed": false
   },
   "outputs": [
    {
     "name": "stdout",
     "output_type": "stream",
     "text": [
      "5\n",
      "0 0 1 0 0\n",
      "0 0 1 0 1\n",
      "1 1 0 0 0\n",
      "0 0 0 0 0\n",
      "0 1 0 0 0\n",
      "1\n",
      "2\n",
      "2\n",
      "0\n",
      "1\n"
     ]
    }
   ],
   "source": [
    "#3я задача. Степени вершин в графе\n",
    "n = int(input())\n",
    "adj_list = []\n",
    "for i in range(n):\n",
    "    adj_list.append(list(map(int,input().split())))\n",
    "for i in range(n):\n",
    "    count = 0\n",
    "    for j in range(n):\n",
    "        if adj_list[i][j] ==1 :\n",
    "            count +=1\n",
    "    print(count)"
   ]
  },
  {
   "cell_type": "code",
   "execution_count": null,
   "metadata": {
    "collapsed": true
   },
   "outputs": [],
   "source": [
    "#Задача про шахматного коня (4я)\n",
    "class Coordinate:\n",
    "    def __init__ (self, crd_list):\n",
    "          self.x = crd_list[0] - 1\n",
    "          self.y = crd_list[1] - 1\n",
    "\n",
    "possible_m = [(1, 2), (-1, -2), (2, 1), (-2, -1), (-1, 2), (1, -2), (-2, 1), (2, -1)]\n",
    "\n",
    "board_size = int(input())\n",
    "\n",
    "p1 = Coordinate(list(map(int, input().split())))\n",
    "p2 = Coordinate(list(map(int, input().split())))\n",
    "\n",
    "board = [[-1 for x in range(board_size)] for y in range(board_size)]\n",
    "board[p1.x][p1.y] = 0\n",
    "\n",
    "counter = 0\n",
    "\n",
    "while board[p2.x][p2.y] == -1:\n",
    "    for x in range(len(board)):\n",
    "        for y in range(len(board[x])):\n",
    "            if board[x][y] == counter:\n",
    "                for move in possible_m:\n",
    "                    tmp_x = x + move[0]\n",
    "                    tmp_y = y + move[1]\n",
    "                    if tmp_x >= 0 and tmp_y >= 0 and tmp_x < board_size and tmp_y < board_size:\n",
    "                        if board[tmp_x][tmp_y] == -1:\n",
    "                            board[tmp_x][tmp_y] = counter + 1\n",
    "    counter += 1\n",
    "\n",
    "print(board[p2.x][p2.y])"
   ]
  }
 ],
 "metadata": {
  "anaconda-cloud": {},
  "kernelspec": {
   "display_name": "Python [Root]",
   "language": "python",
   "name": "Python [Root]"
  },
  "language_info": {
   "codemirror_mode": {
    "name": "ipython",
    "version": 3
   },
   "file_extension": ".py",
   "mimetype": "text/x-python",
   "name": "python",
   "nbconvert_exporter": "python",
   "pygments_lexer": "ipython3",
   "version": "3.5.2"
  }
 },
 "nbformat": 4,
 "nbformat_minor": 0
}
