{
 "cells": [
  {
   "cell_type": "markdown",
   "metadata": {},
   "source": [
    "Вася подошел к перекрестку и увидел, что на светофоре в этот момент загорелся красный свет. \n",
    "Вася залюбовался тем, как четко переключаются сигналы светофора:\n",
    "красный – желтый – зеленый – желтый – красный – желтый – зеленый - …\n",
    "Когда в очередной раз загорелся зеленый свет, Вася решил-таки перейти дорогу. \n",
    "К этому моменту зеленый свет зажегся в i-ый раз. \n",
    "Напишите программу, которая определит, сколько раз за это время загорался красный свет \n",
    "(считая и тот момент, когда Вася только подошел к перекрестку) и сколько раз — желтый.\n"
   ]
  },
  {
   "cell_type": "code",
   "execution_count": 1,
   "metadata": {
    "collapsed": false
   },
   "outputs": [
    {
     "name": "stdout",
     "output_type": "stream",
     "text": [
      "1\n",
      "1 1\n"
     ]
    }
   ],
   "source": [
    "i = int(input())\n",
    "reds = 0\n",
    "yellows = 0\n",
    "greens = 0\n",
    "while greens != i: #ж-к-ж-з\n",
    "    yellows +=2\n",
    "    reds += 1\n",
    "    greens += 1\n",
    "yellows -= 1\n",
    "print(reds,yellows)"
   ]
  },
  {
   "cell_type": "markdown",
   "metadata": {},
   "source": [
    "Для быстрого вычисления наибольшего общего делителя двух чисел используют алгоритм Евклида. Он построен на следующем соотношении:  .\n",
    "Реализуйте рекурсивный алгоритм Евклида в виде функции gcd(a, b)."
   ]
  },
  {
   "cell_type": "code",
   "execution_count": null,
   "metadata": {
    "collapsed": false
   },
   "outputs": [],
   "source": [
    "\n",
    "\n",
    "#mod == %\n",
    "def gcd(a,b):\n",
    "    if a%b != 0:\n",
    "        return(gcd(b,a % b))\n",
    "    else:\n",
    "        return(min(a,b)) #если среди этой пары чисел уже есть НОД\n",
    "a = int(input())\n",
    "b = int(input())\n",
    "print(gcd(a,b))"
   ]
  },
  {
   "cell_type": "code",
   "execution_count": null,
   "metadata": {
    "collapsed": false
   },
   "outputs": [],
   "source": [
    "i = int(input())\n",
    "reds = 0\n",
    "yellows = 0\n",
    "greens = 0\n",
    "while greens != i: #ж-к-ж-з\n",
    "    yellows +=2\n",
    "    reds += 1\n",
    "    greens += 1\n",
    "yellows -= 1\n",
    "print(reds,yellows)"
   ]
  },
  {
   "cell_type": "markdown",
   "metadata": {},
   "source": [
    "через файл"
   ]
  },
  {
   "cell_type": "code",
   "execution_count": null,
   "metadata": {
    "collapsed": true
   },
   "outputs": [],
   "source": [
    "fd = open('input.txt','r')\n",
    "i = int(fd.read())\n",
    "fd.close()\n",
    "reds = 0\n",
    "yellows = 0\n",
    "greens = 0\n",
    "while greens != i: #ж-к-ж-з\n",
    "    yellows +=2\n",
    "    reds += 1\n",
    "    greens += 1\n",
    "yellows -= 1\n",
    "lst = []\n",
    "lst.append(reds)\n",
    "lst.append(yellows)\n",
    "closefile = open('output.txt','w')\n",
    "str = ' '.join(map(str,lst))\n",
    "closefile.write(str)\n",
    "closefile.close()"
   ]
  }
 ],
 "metadata": {
  "anaconda-cloud": {},
  "kernelspec": {
   "display_name": "Python [Root]",
   "language": "python",
   "name": "Python [Root]"
  },
  "language_info": {
   "codemirror_mode": {
    "name": "ipython",
    "version": 3
   },
   "file_extension": ".py",
   "mimetype": "text/x-python",
   "name": "python",
   "nbconvert_exporter": "python",
   "pygments_lexer": "ipython3",
   "version": "3.5.2"
  }
 },
 "nbformat": 4,
 "nbformat_minor": 0
}
