{
 "cells": [
  {
   "cell_type": "markdown",
   "metadata": {
    "collapsed": true
   },
   "source": [
    "<div style=\"font-size:18pt; padding-top:20px; text-align:center\">СЕМИНАР 18. <b>Кластеризация текстовых документов и </b> <span style=\"font-weight:bold; color:green\">Sklearn/NLTK/Gensim</span></div><hr>\n",
    "<div style=\"text-align:right;\">Папулин С.Ю. <span style=\"font-style: italic;font-weight: bold;\">(papulin_hse@mail.ru)</span></div>"
   ]
  },
  {
   "cell_type": "markdown",
   "metadata": {},
   "source": [
    "<a name=\"0\"></a>\n",
    "<div><span style=\"font-size:14pt; font-weight:bold\">Содержание</span>\n",
    "    <ol>\n",
    "        <li><a href=\"#1\">Загрузка исходных данных</a></li>\n",
    "        <li><a href=\"#2\">Лемматизация, стемминг и POS</a></li>\n",
    "        <li><a href=\"#3\">Latent Semantic Analisys (LSA)</a>\n",
    "        <li><a href=\"#4\">Визуализация с использованием WordCloud</a>\n",
    "        <li><a href=\"#5\">Источники</a>\n",
    "        </li>\n",
    "    </ol>\n",
    "</div>"
   ]
  },
  {
   "cell_type": "code",
   "execution_count": 1,
   "metadata": {
    "collapsed": true
   },
   "outputs": [],
   "source": [
    "import numpy as np"
   ]
  },
  {
   "cell_type": "code",
   "execution_count": 2,
   "metadata": {
    "collapsed": false
   },
   "outputs": [
    {
     "name": "stderr",
     "output_type": "stream",
     "text": [
      "C:\\Users\\akrazer\\Anaconda3\\lib\\site-packages\\gensim\\utils.py:855: UserWarning: detected Windows; aliasing chunkize to chunkize_serial\n",
      "  warnings.warn(\"detected Windows; aliasing chunkize to chunkize_serial\")\n"
     ]
    }
   ],
   "source": [
    "from gensim import corpora, matutils, models\n",
    "from sklearn.datasets import fetch_20newsgroups"
   ]
  },
  {
   "cell_type": "code",
   "execution_count": 3,
   "metadata": {
    "collapsed": true
   },
   "outputs": [],
   "source": [
    "from sklearn.feature_extraction.text import CountVectorizer,TfidfVectorizer"
   ]
  },
  {
   "cell_type": "code",
   "execution_count": 4,
   "metadata": {
    "collapsed": true
   },
   "outputs": [],
   "source": [
    "import matplotlib.pyplot as plt\n",
    "%matplotlib inline"
   ]
  },
  {
   "cell_type": "markdown",
   "metadata": {},
   "source": [
    "<a name=\"1\"></a>\n",
    "<div style=\"display:table; width:100%; padding-top:10px; padding-bottom:10px; border-bottom:1px solid lightgrey\">\n",
    "    <div style=\"display:table-row\">\n",
    "        <div style=\"display:table-cell; width:80%; font-size:14pt; font-weight:bold\">1. Загрузка исходных данных</div>\n",
    "    \t<div style=\"display:table-cell; width:20%; text-align:center; background-color:whitesmoke; border:1px solid lightgrey\"><a href=\"#0\">К содержанию</a></div>\n",
    "    </div>\n",
    "</div>"
   ]
  },
  {
   "cell_type": "markdown",
   "metadata": {},
   "source": [
    "<p><b>Исходные данные</b></p>"
   ]
  },
  {
   "cell_type": "code",
   "execution_count": 5,
   "metadata": {
    "collapsed": true
   },
   "outputs": [],
   "source": [
    "topics = [\"sci.space\", \"soc.religion.christian\", \"rec.sport.baseball\", \"comp.sys.mac.hardware\"]"
   ]
  },
  {
   "cell_type": "code",
   "execution_count": 6,
   "metadata": {
    "collapsed": false
   },
   "outputs": [],
   "source": [
    "newsgroups_train = fetch_20newsgroups(subset=\"train\", data_home=\"data\", #в папке data данные будут; тк fetch  с сервера, так мы их сохраняем\n",
    "                                      categories=topics, remove=[\"headers\", \"footers\", \"quotes\"])"
   ]
  },
  {
   "cell_type": "code",
   "execution_count": 7,
   "metadata": {
    "collapsed": false
   },
   "outputs": [],
   "source": [
    "newsgroups_test = fetch_20newsgroups(subset=\"test\", data_home=\"data\", \n",
    "                                      categories=topics, remove=[\"headers\", \"footers\", \"quotes\"])"
   ]
  },
  {
   "cell_type": "code",
   "execution_count": 8,
   "metadata": {
    "collapsed": false
   },
   "outputs": [
    {
     "data": {
      "text/plain": [
       "['comp.sys.mac.hardware',\n",
       " 'rec.sport.baseball',\n",
       " 'sci.space',\n",
       " 'soc.religion.christian']"
      ]
     },
     "execution_count": 8,
     "metadata": {},
     "output_type": "execute_result"
    }
   ],
   "source": [
    "newsgroups_train.target_names"
   ]
  },
  {
   "cell_type": "code",
   "execution_count": 9,
   "metadata": {
    "collapsed": false
   },
   "outputs": [
    {
     "data": {
      "text/plain": [
       "'\\nI have no doubt that God hears everybody\\'s prayers.\\nHowever, He does things His way, i.e. things will happen\\nonly if it is His will.\\n\\nNow if the question really is \"Does God grant everybody\\'s wishes ?\"\\nthen you\\'ll get a brutal shot of reality similar to when you didn\\'t\\nget that toy you wanted for Christmas. You just cannot expect\\nto get everything you want in this world.\\n\\n-- '"
      ]
     },
     "execution_count": 9,
     "metadata": {},
     "output_type": "execute_result"
    }
   ],
   "source": [
    "documents = newsgroups_train.data\n",
    "topics = newsgroups_train.target\n",
    "documents[0]"
   ]
  },
  {
   "cell_type": "code",
   "execution_count": 10,
   "metadata": {
    "collapsed": false
   },
   "outputs": [],
   "source": [
    "topic_indx = dict(list(zip(newsgroups_train.target_names, range(len(newsgroups_train.target_names)))))"
   ]
  },
  {
   "cell_type": "code",
   "execution_count": 11,
   "metadata": {
    "collapsed": false
   },
   "outputs": [
    {
     "data": {
      "text/plain": [
       "[('comp.sys.mac.hardware', 578),\n",
       " ('rec.sport.baseball', 597),\n",
       " ('sci.space', 593),\n",
       " ('soc.religion.christian', 599)]"
      ]
     },
     "execution_count": 11,
     "metadata": {},
     "output_type": "execute_result"
    }
   ],
   "source": [
    "list(zip(newsgroups_train.target_names, np.bincount(topics)))"
   ]
  },
  {
   "cell_type": "markdown",
   "metadata": {},
   "source": [
    "<a name=\"2\"></a>\n",
    "<div style=\"display:table; width:100%; padding-top:10px; padding-bottom:10px; border-bottom:1px solid lightgrey\">\n",
    "    <div style=\"display:table-row\">\n",
    "        <div style=\"display:table-cell; width:80%; font-size:14pt; font-weight:bold\">2. Лемматизация, стемминг и POS</div>\n",
    "    \t<div style=\"display:table-cell; width:20%; text-align:center; background-color:whitesmoke; border:1px solid lightgrey\"><a href=\"#0\">К содержанию</a></div>\n",
    "    </div>\n",
    "</div>"
   ]
  },
  {
   "cell_type": "code",
   "execution_count": 12,
   "metadata": {
    "collapsed": false
   },
   "outputs": [],
   "source": [
    "import nltk"
   ]
  },
  {
   "cell_type": "code",
   "execution_count": 88,
   "metadata": {
    "collapsed": false
   },
   "outputs": [
    {
     "name": "stdout",
     "output_type": "stream",
     "text": [
      "showing info https://raw.githubusercontent.com/nltk/nltk_data/gh-pages/index.xml\n"
     ]
    },
    {
     "data": {
      "text/plain": [
       "True"
      ]
     },
     "execution_count": 88,
     "metadata": {},
     "output_type": "execute_result"
    }
   ],
   "source": [
    "nltk.download(download_dir = \"C/:Documents\")\n",
    "#много моделей, в том числе обученные"
   ]
  },
  {
   "cell_type": "markdown",
   "metadata": {},
   "source": [
    "<p><b>Разделение текста на токены</b></p>"
   ]
  },
  {
   "cell_type": "code",
   "execution_count": 68,
   "metadata": {
    "collapsed": true
   },
   "outputs": [],
   "source": [
    "from nltk.tokenize import word_tokenize, RegexpTokenizer\n",
    "from nltk.stem.porter import PorterStemmer"
   ]
  },
  {
   "cell_type": "code",
   "execution_count": 69,
   "metadata": {
    "collapsed": true
   },
   "outputs": [],
   "source": [
    "tokenizer = RegexpTokenizer(r\"\\w+\") #регулярные выражения"
   ]
  },
  {
   "cell_type": "code",
   "execution_count": 70,
   "metadata": {
    "collapsed": false
   },
   "outputs": [
    {
     "data": {
      "text/plain": [
       "['I',\n",
       " 'have',\n",
       " 'no',\n",
       " 'doubt',\n",
       " 'that',\n",
       " 'God',\n",
       " 'hears',\n",
       " 'everybody',\n",
       " 's',\n",
       " 'prayers',\n",
       " 'However',\n",
       " 'He',\n",
       " 'does',\n",
       " 'things',\n",
       " 'His',\n",
       " 'way',\n",
       " 'i',\n",
       " 'e',\n",
       " 'things',\n",
       " 'will']"
      ]
     },
     "execution_count": 70,
     "metadata": {},
     "output_type": "execute_result"
    }
   ],
   "source": [
    "doc_tokens = tokenizer.tokenize(documents[0])\n",
    "doc_tokens[:20]"
   ]
  },
  {
   "cell_type": "code",
   "execution_count": 71,
   "metadata": {
    "collapsed": false
   },
   "outputs": [
    {
     "data": {
      "text/plain": [
       "['I',\n",
       " 'have',\n",
       " 'no',\n",
       " 'doubt',\n",
       " 'that',\n",
       " 'God',\n",
       " 'hears',\n",
       " 'everybody',\n",
       " \"'s\",\n",
       " 'prayers',\n",
       " '.',\n",
       " 'However',\n",
       " ',',\n",
       " 'He',\n",
       " 'does',\n",
       " 'things',\n",
       " 'His',\n",
       " 'way',\n",
       " ',',\n",
       " 'i.e']"
      ]
     },
     "execution_count": 71,
     "metadata": {},
     "output_type": "execute_result"
    }
   ],
   "source": [
    "doc_tokens = word_tokenize(documents[0])\n",
    "doc_tokens[:20]"
   ]
  },
  {
   "cell_type": "code",
   "execution_count": 72,
   "metadata": {
    "collapsed": true
   },
   "outputs": [],
   "source": [
    "#в менюшке nltk выбрать то, на что ругается"
   ]
  },
  {
   "cell_type": "markdown",
   "metadata": {},
   "source": [
    "<p><b>Cтемминг</b></p>"
   ]
  },
  {
   "cell_type": "code",
   "execution_count": 73,
   "metadata": {
    "collapsed": true
   },
   "outputs": [],
   "source": [
    "from nltk.corpus import stopwords"
   ]
  },
  {
   "cell_type": "code",
   "execution_count": 74,
   "metadata": {
    "collapsed": false
   },
   "outputs": [
    {
     "data": {
      "text/plain": [
       "['i',\n",
       " 'me',\n",
       " 'my',\n",
       " 'myself',\n",
       " 'we',\n",
       " 'our',\n",
       " 'ours',\n",
       " 'ourselves',\n",
       " 'you',\n",
       " 'your',\n",
       " 'yours',\n",
       " 'yourself',\n",
       " 'yourselves',\n",
       " 'he',\n",
       " 'him',\n",
       " 'his',\n",
       " 'himself',\n",
       " 'she',\n",
       " 'her',\n",
       " 'hers',\n",
       " 'herself',\n",
       " 'it',\n",
       " 'its',\n",
       " 'itself',\n",
       " 'they',\n",
       " 'them',\n",
       " 'their',\n",
       " 'theirs',\n",
       " 'themselves',\n",
       " 'what',\n",
       " 'which',\n",
       " 'who',\n",
       " 'whom',\n",
       " 'this',\n",
       " 'that',\n",
       " 'these',\n",
       " 'those',\n",
       " 'am',\n",
       " 'is',\n",
       " 'are',\n",
       " 'was',\n",
       " 'were',\n",
       " 'be',\n",
       " 'been',\n",
       " 'being',\n",
       " 'have',\n",
       " 'has',\n",
       " 'had',\n",
       " 'having',\n",
       " 'do',\n",
       " 'does',\n",
       " 'did',\n",
       " 'doing',\n",
       " 'a',\n",
       " 'an',\n",
       " 'the',\n",
       " 'and',\n",
       " 'but',\n",
       " 'if',\n",
       " 'or',\n",
       " 'because',\n",
       " 'as',\n",
       " 'until',\n",
       " 'while',\n",
       " 'of',\n",
       " 'at',\n",
       " 'by',\n",
       " 'for',\n",
       " 'with',\n",
       " 'about',\n",
       " 'against',\n",
       " 'between',\n",
       " 'into',\n",
       " 'through',\n",
       " 'during',\n",
       " 'before',\n",
       " 'after',\n",
       " 'above',\n",
       " 'below',\n",
       " 'to',\n",
       " 'from',\n",
       " 'up',\n",
       " 'down',\n",
       " 'in',\n",
       " 'out',\n",
       " 'on',\n",
       " 'off',\n",
       " 'over',\n",
       " 'under',\n",
       " 'again',\n",
       " 'further',\n",
       " 'then',\n",
       " 'once',\n",
       " 'here',\n",
       " 'there',\n",
       " 'when',\n",
       " 'where',\n",
       " 'why',\n",
       " 'how',\n",
       " 'all',\n",
       " 'any',\n",
       " 'both',\n",
       " 'each',\n",
       " 'few',\n",
       " 'more',\n",
       " 'most',\n",
       " 'other',\n",
       " 'some',\n",
       " 'such',\n",
       " 'no',\n",
       " 'nor',\n",
       " 'not',\n",
       " 'only',\n",
       " 'own',\n",
       " 'same',\n",
       " 'so',\n",
       " 'than',\n",
       " 'too',\n",
       " 'very',\n",
       " 's',\n",
       " 't',\n",
       " 'can',\n",
       " 'will',\n",
       " 'just',\n",
       " 'don',\n",
       " 'should',\n",
       " 'now',\n",
       " 'd',\n",
       " 'll',\n",
       " 'm',\n",
       " 'o',\n",
       " 're',\n",
       " 've',\n",
       " 'y',\n",
       " 'ain',\n",
       " 'aren',\n",
       " 'couldn',\n",
       " 'didn',\n",
       " 'doesn',\n",
       " 'hadn',\n",
       " 'hasn',\n",
       " 'haven',\n",
       " 'isn',\n",
       " 'ma',\n",
       " 'mightn',\n",
       " 'mustn',\n",
       " 'needn',\n",
       " 'shan',\n",
       " 'shouldn',\n",
       " 'wasn',\n",
       " 'weren',\n",
       " 'won',\n",
       " 'wouldn']"
      ]
     },
     "execution_count": 74,
     "metadata": {},
     "output_type": "execute_result"
    }
   ],
   "source": [
    "stop_words = stopwords.words(\"english\") \n",
    "stop_words"
   ]
  },
  {
   "cell_type": "code",
   "execution_count": 75,
   "metadata": {
    "collapsed": true
   },
   "outputs": [],
   "source": [
    "stemmer = PorterStemmer()"
   ]
  },
  {
   "cell_type": "code",
   "execution_count": 76,
   "metadata": {
    "collapsed": false
   },
   "outputs": [
    {
     "data": {
      "text/plain": [
       "'everybodi'"
      ]
     },
     "execution_count": 76,
     "metadata": {},
     "output_type": "execute_result"
    }
   ],
   "source": [
    "stemmer.stem(\"everybody\") #stemmer переводит все форрмы слов в одну"
   ]
  },
  {
   "cell_type": "code",
   "execution_count": 77,
   "metadata": {
    "collapsed": false
   },
   "outputs": [
    {
     "data": {
      "text/plain": [
       "'tri'"
      ]
     },
     "execution_count": 77,
     "metadata": {},
     "output_type": "execute_result"
    }
   ],
   "source": [
    "stemmer.stem(\"trying\")"
   ]
  },
  {
   "cell_type": "code",
   "execution_count": 78,
   "metadata": {
    "collapsed": false
   },
   "outputs": [
    {
     "data": {
      "text/plain": [
       "'tri'"
      ]
     },
     "execution_count": 78,
     "metadata": {},
     "output_type": "execute_result"
    }
   ],
   "source": [
    "stemmer.stem(\"tried\")"
   ]
  },
  {
   "cell_type": "code",
   "execution_count": 79,
   "metadata": {
    "collapsed": false
   },
   "outputs": [
    {
     "data": {
      "text/plain": [
       "'tri'"
      ]
     },
     "execution_count": 79,
     "metadata": {},
     "output_type": "execute_result"
    }
   ],
   "source": [
    "stemmer.stem(\"try\")"
   ]
  },
  {
   "cell_type": "markdown",
   "metadata": {},
   "source": [
    "<p>Пример</p>"
   ]
  },
  {
   "cell_type": "code",
   "execution_count": 80,
   "metadata": {
    "collapsed": true
   },
   "outputs": [],
   "source": [
    "chars = \"-[],.<>()={}'\\\"?!`~/|+*&^%$#@;: \\\\_\""
   ]
  },
  {
   "cell_type": "code",
   "execution_count": 81,
   "metadata": {
    "collapsed": false
   },
   "outputs": [
    {
     "data": {
      "text/plain": [
       "[['doubt',\n",
       "  'god',\n",
       "  'hear',\n",
       "  'everybodi',\n",
       "  'prayer',\n",
       "  'howev',\n",
       "  'thing',\n",
       "  'way',\n",
       "  'thing',\n",
       "  'happen',\n",
       "  'question',\n",
       "  'realli',\n",
       "  'god',\n",
       "  'grant',\n",
       "  'everybodi',\n",
       "  'wish',\n",
       "  'get',\n",
       "  'brutal',\n",
       "  'shot',\n",
       "  'realiti',\n",
       "  'similar',\n",
       "  'get',\n",
       "  'toy',\n",
       "  'want',\n",
       "  'christma',\n",
       "  'expect',\n",
       "  'get',\n",
       "  'everyth',\n",
       "  'want',\n",
       "  'world'],\n",
       " ['somebodi',\n",
       "  'mention',\n",
       "  'hst',\n",
       "  'mission',\n",
       "  'mean',\n",
       "  'weight',\n",
       "  'tight',\n",
       "  'margin',\n",
       "  'mission',\n",
       "  'said',\n",
       "  'done',\n",
       "  'grappl',\n",
       "  'hst',\n",
       "  'stow',\n",
       "  'cargo',\n",
       "  'bay',\n",
       "  'om',\n",
       "  'burn',\n",
       "  'high',\n",
       "  'altitud',\n",
       "  'unstow',\n",
       "  'hst',\n",
       "  'repair',\n",
       "  'gyro',\n",
       "  'costar',\n",
       "  'instal',\n",
       "  'fix',\n",
       "  'solar',\n",
       "  'array',\n",
       "  'return',\n",
       "  'earth',\n",
       "  'guess',\n",
       "  'bother',\n",
       "  'usingth',\n",
       "  'shuttl',\n",
       "  'reboost',\n",
       "  'grappl',\n",
       "  'said',\n",
       "  'fix',\n",
       "  'bolt',\n",
       "  'small',\n",
       "  'liquid',\n",
       "  'fuel',\n",
       "  'thruster',\n",
       "  'modul',\n",
       "  'hst',\n",
       "  'let',\n",
       "  'make',\n",
       "  'cheaper',\n",
       "  'mass',\n",
       "  'usingth',\n",
       "  'shuttl',\n",
       "  'tug',\n",
       "  'way',\n",
       "  'go',\n",
       "  'need',\n",
       "  'least',\n",
       "  'spacewalk',\n",
       "  'carri',\n",
       "  'edo',\n",
       "  'pallet',\n",
       "  'sit',\n",
       "  'station',\n",
       "  'even',\n",
       "  'mayb',\n",
       "  'solar',\n",
       "  'array',\n",
       "  'tilt',\n",
       "  'motor',\n",
       "  'fix']]"
      ]
     },
     "execution_count": 81,
     "metadata": {},
     "output_type": "execute_result"
    }
   ],
   "source": [
    "docs_tokens = list()\n",
    "\n",
    "for doc in documents:\n",
    "    doc = doc.lower()\n",
    "    stemmed_tokens = [stemmer.stem(el) for el in word_tokenize(doc) \n",
    "                      if len(el) > 1 and not any(ch.isdigit() or ch in chars for ch in el) \n",
    "                      and el not in stop_words]\n",
    "    docs_tokens.append(stemmed_tokens)\n",
    "    \n",
    "docs_tokens[:2]"
   ]
  },
  {
   "cell_type": "markdown",
   "metadata": {},
   "source": [
    "<p><b>Определение части речи (POS)</b></p>"
   ]
  },
  {
   "cell_type": "code",
   "execution_count": 82,
   "metadata": {
    "collapsed": false
   },
   "outputs": [
    {
     "data": {
      "text/plain": [
       "[('Me', 'NN')]"
      ]
     },
     "execution_count": 82,
     "metadata": {},
     "output_type": "execute_result"
    }
   ],
   "source": [
    "nltk.pos_tag([\"Me\"])"
   ]
  },
  {
   "cell_type": "markdown",
   "metadata": {},
   "source": [
    "<a href=\"http://www.winwaed.com/blog/2011/11/08/part-of-speech-tags/\">Part of Speech Tags</a>"
   ]
  },
  {
   "cell_type": "code",
   "execution_count": 83,
   "metadata": {
    "collapsed": false
   },
   "outputs": [
    {
     "data": {
      "text/plain": [
       "[('I', 'PRP'),\n",
       " ('have', 'VBP'),\n",
       " ('no', 'DT'),\n",
       " ('doubt', 'NN'),\n",
       " ('that', 'IN'),\n",
       " ('God', 'NNP'),\n",
       " ('hears', 'VBZ'),\n",
       " (\"everybody's\", 'JJ'),\n",
       " ('prayers.', 'NN'),\n",
       " ('However,', 'NNP'),\n",
       " ('He', 'PRP'),\n",
       " ('does', 'VBZ'),\n",
       " ('things', 'NNS'),\n",
       " ('His', 'PRP$'),\n",
       " ('way,', 'JJ'),\n",
       " ('i.e.', 'JJ'),\n",
       " ('things', 'NNS'),\n",
       " ('will', 'MD'),\n",
       " ('happen', 'VB'),\n",
       " ('only', 'RB'),\n",
       " ('if', 'IN'),\n",
       " ('it', 'PRP'),\n",
       " ('is', 'VBZ'),\n",
       " ('His', 'PRP$'),\n",
       " ('will.', 'NN'),\n",
       " ('Now', 'RB'),\n",
       " ('if', 'IN'),\n",
       " ('the', 'DT'),\n",
       " ('question', 'NN'),\n",
       " ('really', 'RB'),\n",
       " ('is', 'VBZ'),\n",
       " ('\"Does', 'JJ'),\n",
       " ('God', 'NNP'),\n",
       " ('grant', 'NN'),\n",
       " (\"everybody's\", 'NN'),\n",
       " ('wishes', 'NNS'),\n",
       " ('?\"', 'VBP'),\n",
       " ('then', 'RB'),\n",
       " (\"you'll\", 'RB'),\n",
       " ('get', 'VB'),\n",
       " ('a', 'DT'),\n",
       " ('brutal', 'JJ'),\n",
       " ('shot', 'NN'),\n",
       " ('of', 'IN'),\n",
       " ('reality', 'NN'),\n",
       " ('similar', 'JJ'),\n",
       " ('to', 'TO'),\n",
       " ('when', 'WRB'),\n",
       " ('you', 'PRP'),\n",
       " (\"didn't\", 'VBP'),\n",
       " ('get', 'VB'),\n",
       " ('that', 'IN'),\n",
       " ('toy', 'NN'),\n",
       " ('you', 'PRP'),\n",
       " ('wanted', 'VBD'),\n",
       " ('for', 'IN'),\n",
       " ('Christmas.', 'NNP'),\n",
       " ('You', 'PRP'),\n",
       " ('just', 'RB'),\n",
       " ('cannot', 'VB'),\n",
       " ('expect', 'VB'),\n",
       " ('to', 'TO'),\n",
       " ('get', 'VB'),\n",
       " ('everything', 'NN'),\n",
       " ('you', 'PRP'),\n",
       " ('want', 'VBP'),\n",
       " ('in', 'IN'),\n",
       " ('this', 'DT'),\n",
       " ('world.', 'NN'),\n",
       " ('--', ':')]"
      ]
     },
     "execution_count": 83,
     "metadata": {},
     "output_type": "execute_result"
    }
   ],
   "source": [
    "nltk.pos_tag(documents[0].split())"
   ]
  },
  {
   "cell_type": "markdown",
   "metadata": {},
   "source": [
    "<a name=\"3\"></a>\n",
    "<div style=\"display:table; width:100%; padding-top:10px; padding-bottom:10px; border-bottom:1px solid lightgrey\">\n",
    "    <div style=\"display:table-row\">\n",
    "        <div style=\"display:table-cell; width:80%; font-size:14pt; font-weight:bold\">3. Latent Dirichlet Allocation (LDA)</div>\n",
    "    \t<div style=\"display:table-cell; width:20%; text-align:center; background-color:whitesmoke; border:1px solid lightgrey\"><a href=\"#0\">К содержанию</a></div>\n",
    "    </div>\n",
    "</div>"
   ]
  },
  {
   "cell_type": "markdown",
   "metadata": {},
   "source": [
    "<p>Векторизация TF-IDF</p>"
   ]
  },
  {
   "cell_type": "code",
   "execution_count": 84,
   "metadata": {
    "collapsed": false
   },
   "outputs": [],
   "source": [
    "def mytokenizer(x):\n",
    "    for el in x.split():\n",
    "        if len(el) > 1 and not any(ch.isdigit() or ch in chars for ch in el) \\\n",
    "        and el not in stop_words and nltk.pos_tag([el])[0][1]==\"NN\":\n",
    "            yield el #stemmer.stem(el)"
   ]
  },
  {
   "cell_type": "code",
   "execution_count": 85,
   "metadata": {
    "collapsed": true
   },
   "outputs": [],
   "source": [
    "vectorizer = TfidfVectorizer(min_df=20,\n",
    "                             max_df=0.1, tokenizer=mytokenizer,\n",
    "                             lowercase=True)#\"english\")#, max_features=1000)"
   ]
  },
  {
   "cell_type": "code",
   "execution_count": 90,
   "metadata": {
    "collapsed": false
   },
   "outputs": [],
   "source": [
    "X = vectorizer.fit_transform(documents)"
   ]
  },
  {
   "cell_type": "code",
   "execution_count": 91,
   "metadata": {
    "collapsed": false
   },
   "outputs": [
    {
     "data": {
      "text/plain": [
       "{'ability': 0,\n",
       " 'absolute': 1,\n",
       " 'accept': 2,\n",
       " 'access': 3,\n",
       " 'account': 4,\n",
       " 'act': 5,\n",
       " 'action': 6,\n",
       " 'address': 7,\n",
       " 'admit': 8,\n",
       " 'advance': 9,\n",
       " 'advantage': 10,\n",
       " 'age': 11,\n",
       " 'agency': 12,\n",
       " 'agree': 13,\n",
       " 'air': 14,\n",
       " 'al': 15,\n",
       " 'allen': 16,\n",
       " 'alomar': 17,\n",
       " 'amount': 18,\n",
       " 'analysis': 19,\n",
       " 'answer': 20,\n",
       " 'anybody': 21,\n",
       " 'anything': 22,\n",
       " 'apollo': 23,\n",
       " 'apple': 24,\n",
       " 'application': 25,\n",
       " 'appreciate': 26,\n",
       " 'approach': 27,\n",
       " 'appropriate': 28,\n",
       " 'april': 29,\n",
       " 'area': 30,\n",
       " 'argue': 31,\n",
       " 'argument': 32,\n",
       " 'article': 33,\n",
       " 'ask': 34,\n",
       " 'astronomy': 35,\n",
       " 'attempt': 36,\n",
       " 'attention': 37,\n",
       " 'attitude': 38,\n",
       " 'authority': 39,\n",
       " 'avoid': 40,\n",
       " 'ball': 41,\n",
       " 'base': 42,\n",
       " 'baseball': 43,\n",
       " 'basis': 44,\n",
       " 'batting': 45,\n",
       " 'become': 46,\n",
       " 'begin': 47,\n",
       " 'belief': 48,\n",
       " 'bill': 49,\n",
       " 'bit': 50,\n",
       " 'blue': 51,\n",
       " 'board': 52,\n",
       " 'bob': 53,\n",
       " 'body': 54,\n",
       " 'book': 55,\n",
       " 'born': 56,\n",
       " 'boston': 57,\n",
       " 'bought': 58,\n",
       " 'box': 59,\n",
       " 'bring': 60,\n",
       " 'brought': 61,\n",
       " 'build': 62,\n",
       " 'building': 63,\n",
       " 'built': 64,\n",
       " 'business': 65,\n",
       " 'buying': 66,\n",
       " 'cable': 67,\n",
       " 'california': 68,\n",
       " 'call': 69,\n",
       " 'cannot': 70,\n",
       " 'card': 71,\n",
       " 'care': 72,\n",
       " 'career': 73,\n",
       " 'careful': 74,\n",
       " 'carry': 75,\n",
       " 'case': 76,\n",
       " 'catholic': 77,\n",
       " 'cause': 78,\n",
       " 'center': 79,\n",
       " 'centris': 80,\n",
       " 'chance': 81,\n",
       " 'change': 82,\n",
       " 'chapter': 83,\n",
       " 'charge': 84,\n",
       " 'cheaper': 85,\n",
       " 'check': 86,\n",
       " 'chip': 87,\n",
       " 'choose': 88,\n",
       " 'christ': 89,\n",
       " 'christian': 90,\n",
       " 'christianity': 91,\n",
       " 'church': 92,\n",
       " 'city': 93,\n",
       " 'claim': 94,\n",
       " 'claimed': 95,\n",
       " 'class': 96,\n",
       " 'clock': 97,\n",
       " 'closer': 98,\n",
       " 'code': 99,\n",
       " 'college': 100,\n",
       " 'color': 101,\n",
       " 'colorado': 102,\n",
       " 'command': 103,\n",
       " 'comment': 104,\n",
       " 'company': 105,\n",
       " 'compare': 106,\n",
       " 'computer': 107,\n",
       " 'concept': 108,\n",
       " 'conclusion': 109,\n",
       " 'connect': 110,\n",
       " 'connection': 111,\n",
       " 'contact': 112,\n",
       " 'continue': 113,\n",
       " 'control': 114,\n",
       " 'copy': 115,\n",
       " 'correct': 116,\n",
       " 'cost': 117,\n",
       " 'count': 118,\n",
       " 'couple': 119,\n",
       " 'course': 120,\n",
       " 'cover': 121,\n",
       " 'cpu': 122,\n",
       " 'create': 123,\n",
       " 'cut': 124,\n",
       " 'date': 125,\n",
       " 'dave': 126,\n",
       " 'david': 127,\n",
       " 'day': 128,\n",
       " 'dc': 129,\n",
       " 'deal': 130,\n",
       " 'death': 131,\n",
       " 'decent': 132,\n",
       " 'decide': 133,\n",
       " 'defense': 134,\n",
       " 'defensive': 135,\n",
       " 'definition': 136,\n",
       " 'deny': 137,\n",
       " 'department': 138,\n",
       " 'described': 139,\n",
       " 'design': 140,\n",
       " 'determine': 141,\n",
       " 'developed': 142,\n",
       " 'development': 143,\n",
       " 'die': 144,\n",
       " 'difference': 145,\n",
       " 'disagree': 146,\n",
       " 'discuss': 147,\n",
       " 'discussion': 148,\n",
       " 'disk': 149,\n",
       " 'display': 150,\n",
       " 'divine': 151,\n",
       " 'division': 152,\n",
       " 'doctrine': 153,\n",
       " 'doubt': 154,\n",
       " 'drive': 155,\n",
       " 'drop': 156,\n",
       " 'duo': 157,\n",
       " 'earth': 158,\n",
       " 'east': 159,\n",
       " 'effect': 160,\n",
       " 'effort': 161,\n",
       " 'email': 162,\n",
       " 'end': 163,\n",
       " 'energy': 164,\n",
       " 'engineering': 165,\n",
       " 'equivalent': 166,\n",
       " 'era': 167,\n",
       " 'error': 168,\n",
       " 'everyone': 169,\n",
       " 'everything': 170,\n",
       " 'evidence': 171,\n",
       " 'exact': 172,\n",
       " 'example': 173,\n",
       " 'excellent': 174,\n",
       " 'excuse': 175,\n",
       " 'exist': 176,\n",
       " 'existence': 177,\n",
       " 'expansion': 178,\n",
       " 'experience': 179,\n",
       " 'explain': 180,\n",
       " 'explanation': 181,\n",
       " 'exploration': 182,\n",
       " 'face': 183,\n",
       " 'fact': 184,\n",
       " 'faith': 185,\n",
       " 'fall': 186,\n",
       " 'family': 187,\n",
       " 'fan': 188,\n",
       " 'fast': 189,\n",
       " 'faster': 190,\n",
       " 'father': 191,\n",
       " 'favorite': 192,\n",
       " 'fax': 193,\n",
       " 'fear': 194,\n",
       " 'feel': 195,\n",
       " 'felt': 196,\n",
       " 'field': 197,\n",
       " 'figure': 198,\n",
       " 'file': 199,\n",
       " 'fine': 200,\n",
       " 'finish': 201,\n",
       " 'fit': 202,\n",
       " 'fix': 203,\n",
       " 'flight': 204,\n",
       " 'fly': 205,\n",
       " 'force': 206,\n",
       " 'forget': 207,\n",
       " 'form': 208,\n",
       " 'found': 209,\n",
       " 'frank': 210,\n",
       " 'friend': 211,\n",
       " 'front': 212,\n",
       " 'ftp': 213,\n",
       " 'fuel': 214,\n",
       " 'funding': 215,\n",
       " 'future': 216,\n",
       " 'game': 217,\n",
       " 'george': 218,\n",
       " 'god': 219,\n",
       " 'gospel': 220,\n",
       " 'government': 221,\n",
       " 'grace': 222,\n",
       " 'ground': 223,\n",
       " 'group': 224,\n",
       " 'guess': 225,\n",
       " 'guy': 226,\n",
       " 'half': 227,\n",
       " 'hand': 228,\n",
       " 'hardware': 229,\n",
       " 'head': 230,\n",
       " 'hear': 231,\n",
       " 'heard': 232,\n",
       " 'heaven': 233,\n",
       " 'held': 234,\n",
       " 'hell': 235,\n",
       " 'help': 236,\n",
       " 'hi': 237,\n",
       " 'history': 238,\n",
       " 'hit': 239,\n",
       " 'hold': 240,\n",
       " 'holy': 241,\n",
       " 'home': 242,\n",
       " 'hope': 243,\n",
       " 'human': 244,\n",
       " 'hurt': 245,\n",
       " 'idea': 246,\n",
       " 'ii': 247,\n",
       " 'iisi': 248,\n",
       " 'image': 249,\n",
       " 'imagine': 250,\n",
       " 'include': 251,\n",
       " 'increase': 252,\n",
       " 'info': 253,\n",
       " 'information': 254,\n",
       " 'institute': 255,\n",
       " 'interest': 256,\n",
       " 'interpretation': 257,\n",
       " 'issue': 258,\n",
       " 'jeff': 259,\n",
       " 'jesus': 260,\n",
       " 'jewish': 261,\n",
       " 'job': 262,\n",
       " 'joe': 263,\n",
       " 'john': 264,\n",
       " 'johnson': 265,\n",
       " 'judge': 266,\n",
       " 'kept': 267,\n",
       " 'key': 268,\n",
       " 'kind': 269,\n",
       " 'kingdom': 270,\n",
       " 'knowledge': 271,\n",
       " 'lack': 272,\n",
       " 'language': 273,\n",
       " 'launch': 274,\n",
       " 'law': 275,\n",
       " 'lc': 276,\n",
       " 'lead': 277,\n",
       " 'league': 278,\n",
       " 'learn': 279,\n",
       " 'left': 280,\n",
       " 'letter': 281,\n",
       " 'level': 282,\n",
       " 'life': 283,\n",
       " 'light': 284,\n",
       " 'line': 285,\n",
       " 'list': 286,\n",
       " 'living': 287,\n",
       " 'logic': 288,\n",
       " 'longer': 289,\n",
       " 'look': 290,\n",
       " 'lord': 291,\n",
       " 'los': 292,\n",
       " 'loss': 293,\n",
       " 'lot': 294,\n",
       " 'love': 295,\n",
       " 'lunar': 296,\n",
       " 'mac': 297,\n",
       " 'machine': 298,\n",
       " 'macintosh': 299,\n",
       " 'macs': 300,\n",
       " 'mail': 301,\n",
       " 'man': 302,\n",
       " 'management': 303,\n",
       " 'manager': 304,\n",
       " 'mark': 305,\n",
       " 'market': 306,\n",
       " 'mary': 307,\n",
       " 'mass': 308,\n",
       " 'material': 309,\n",
       " 'matter': 310,\n",
       " 'mean': 311,\n",
       " 'meaning': 312,\n",
       " 'meant': 313,\n",
       " 'meet': 314,\n",
       " 'meg': 315,\n",
       " 'member': 316,\n",
       " 'memory': 317,\n",
       " 'mention': 318,\n",
       " 'message': 319,\n",
       " 'michael': 320,\n",
       " 'middle': 321,\n",
       " 'mike': 322,\n",
       " 'mind': 323,\n",
       " 'mine': 324,\n",
       " 'minor': 325,\n",
       " 'miss': 326,\n",
       " 'mission': 327,\n",
       " 'model': 328,\n",
       " 'modem': 329,\n",
       " 'moment': 330,\n",
       " 'money': 331,\n",
       " 'monitor': 332,\n",
       " 'moon': 333,\n",
       " 'morning': 334,\n",
       " 'mother': 335,\n",
       " 'move': 336,\n",
       " 'multiple': 337,\n",
       " 'name': 338,\n",
       " 'nasa': 339,\n",
       " 'nature': 340,\n",
       " 'need': 341,\n",
       " 'net': 342,\n",
       " 'network': 343,\n",
       " 'news': 344,\n",
       " 'night': 345,\n",
       " 'nl': 346,\n",
       " 'nobody': 347,\n",
       " 'none': 348,\n",
       " 'note': 349,\n",
       " 'nothing': 350,\n",
       " 'nubus': 351,\n",
       " 'number': 352,\n",
       " 'offense': 353,\n",
       " 'offer': 354,\n",
       " 'office': 355,\n",
       " 'oh': 356,\n",
       " 'opinion': 357,\n",
       " 'orbit': 358,\n",
       " 'orbital': 359,\n",
       " 'order': 360,\n",
       " 'organization': 361,\n",
       " 'orthodox': 362,\n",
       " 'paper': 363,\n",
       " 'part': 364,\n",
       " 'passage': 365,\n",
       " 'past': 366,\n",
       " 'paul': 367,\n",
       " 'pay': 368,\n",
       " 'pds': 369,\n",
       " 'peace': 370,\n",
       " 'perfect': 371,\n",
       " 'performance': 372,\n",
       " 'period': 373,\n",
       " 'person': 374,\n",
       " 'peter': 375,\n",
       " 'phone': 376,\n",
       " 'pick': 377,\n",
       " 'picture': 378,\n",
       " 'piece': 379,\n",
       " 'pitch': 380,\n",
       " 'pitcher': 381,\n",
       " 'place': 382,\n",
       " 'plan': 383,\n",
       " 'planet': 384,\n",
       " 'play': 385,\n",
       " 'player': 386,\n",
       " 'please': 387,\n",
       " 'point': 388,\n",
       " 'port': 389,\n",
       " 'position': 390,\n",
       " 'possibility': 391,\n",
       " 'post': 392,\n",
       " 'power': 393,\n",
       " 'powerbook': 394,\n",
       " 'practice': 395,\n",
       " 'pray': 396,\n",
       " 'prefer': 397,\n",
       " 'presence': 398,\n",
       " 'present': 399,\n",
       " 'press': 400,\n",
       " 'pressure': 401,\n",
       " 'price': 402,\n",
       " 'primary': 403,\n",
       " 'print': 404,\n",
       " 'problem': 405,\n",
       " 'process': 406,\n",
       " 'produce': 407,\n",
       " 'product': 408,\n",
       " 'program': 409,\n",
       " 'project': 410,\n",
       " 'proper': 411,\n",
       " 'prove': 412,\n",
       " 'provide': 413,\n",
       " 'public': 414,\n",
       " 'purpose': 415,\n",
       " 'put': 416,\n",
       " 'quadra': 417,\n",
       " 'quality': 418,\n",
       " 'question': 419,\n",
       " 'quick': 420,\n",
       " 'quote': 421,\n",
       " 'radio': 422,\n",
       " 'ram': 423,\n",
       " 'ran': 424,\n",
       " 'range': 425,\n",
       " 'rate': 426,\n",
       " 'reach': 427,\n",
       " 'read': 428,\n",
       " 'reading': 429,\n",
       " 'reality': 430,\n",
       " 'reason': 431,\n",
       " 'recall': 432,\n",
       " 'receive': 433,\n",
       " 'recommend': 434,\n",
       " 'record': 435,\n",
       " 'reference': 436,\n",
       " 'reject': 437,\n",
       " 'relationship': 438,\n",
       " 'release': 439,\n",
       " 'relevant': 440,\n",
       " 'religion': 441,\n",
       " 'remain': 442,\n",
       " 'reply': 443,\n",
       " 'report': 444,\n",
       " 'require': 445,\n",
       " 'research': 446,\n",
       " 'respect': 447,\n",
       " 'respond': 448,\n",
       " 'response': 449,\n",
       " 'rest': 450,\n",
       " 'result': 451,\n",
       " 'resurrection': 452,\n",
       " 'return': 453,\n",
       " 'revelation': 454,\n",
       " 'right': 455,\n",
       " 'road': 456,\n",
       " 'robert': 457,\n",
       " 'rocket': 458,\n",
       " 'role': 459,\n",
       " 'roman': 460,\n",
       " 'ron': 461,\n",
       " 'room': 462,\n",
       " 'safety': 463,\n",
       " 'san': 464,\n",
       " 'satellite': 465,\n",
       " 'saw': 466,\n",
       " 'school': 467,\n",
       " 'science': 468,\n",
       " 'score': 469,\n",
       " 'screen': 470,\n",
       " 'scripture': 471,\n",
       " 'scsi': 472,\n",
       " 'search': 473,\n",
       " 'season': 474,\n",
       " 'section': 475,\n",
       " 'seem': 476,\n",
       " 'sell': 477,\n",
       " 'send': 478,\n",
       " 'sense': 479,\n",
       " 'sent': 480,\n",
       " 'series': 481,\n",
       " 'service': 482,\n",
       " 'set': 483,\n",
       " 'share': 484,\n",
       " 'show': 485,\n",
       " 'shuttle': 486,\n",
       " 'side': 487,\n",
       " 'sign': 488,\n",
       " 'signal': 489,\n",
       " 'simm': 490,\n",
       " 'simms': 491,\n",
       " 'simple': 492,\n",
       " 'sin': 493,\n",
       " 'situation': 494,\n",
       " 'size': 495,\n",
       " 'smith': 496,\n",
       " 'society': 497,\n",
       " 'software': 498,\n",
       " 'solar': 499,\n",
       " 'somebody': 500,\n",
       " 'someone': 501,\n",
       " 'something': 502,\n",
       " 'son': 503,\n",
       " 'sorry': 504,\n",
       " 'sort': 505,\n",
       " 'soul': 506,\n",
       " 'sound': 507,\n",
       " 'source': 508,\n",
       " 'sox': 509,\n",
       " 'space': 510,\n",
       " 'spacecraft': 511,\n",
       " 'speak': 512,\n",
       " 'speed': 513,\n",
       " 'spend': 514,\n",
       " 'spent': 515,\n",
       " 'spirit': 516,\n",
       " 'spot': 517,\n",
       " 'spring': 518,\n",
       " 'staff': 519,\n",
       " 'stand': 520,\n",
       " 'standard': 521,\n",
       " 'star': 522,\n",
       " 'start': 523,\n",
       " 'state': 524,\n",
       " 'statement': 525,\n",
       " 'station': 526,\n",
       " 'status': 527,\n",
       " 'stay': 528,\n",
       " 'step': 529,\n",
       " 'steve': 530,\n",
       " 'stop': 531,\n",
       " 'story': 532,\n",
       " 'straight': 533,\n",
       " 'student': 534,\n",
       " 'study': 535,\n",
       " 'stuff': 536,\n",
       " 'subject': 537,\n",
       " 'suggest': 538,\n",
       " 'summary': 539,\n",
       " 'sun': 540,\n",
       " 'supply': 541,\n",
       " 'support': 542,\n",
       " 'suppose': 543,\n",
       " 'sure': 544,\n",
       " 'surface': 545,\n",
       " 'suspect': 546,\n",
       " 'system': 547,\n",
       " 'talk': 548,\n",
       " 'taught': 549,\n",
       " 'teach': 550,\n",
       " 'team': 551,\n",
       " 'technology': 552,\n",
       " 'tell': 553,\n",
       " 'tend': 554,\n",
       " 'term': 555,\n",
       " 'test': 556,\n",
       " 'texas': 557,\n",
       " 'text': 558,\n",
       " 'thank': 559,\n",
       " 'theory': 560,\n",
       " 'thing': 561,\n",
       " 'thomas': 562,\n",
       " 'thought': 563,\n",
       " 'throw': 564,\n",
       " 'today': 565,\n",
       " 'told': 566,\n",
       " 'tom': 567,\n",
       " 'top': 568,\n",
       " 'topic': 569,\n",
       " 'toronto': 570,\n",
       " 'track': 571,\n",
       " 'trade': 572,\n",
       " 'transfer': 573,\n",
       " 'trouble': 574,\n",
       " 'trust': 575,\n",
       " 'truth': 576,\n",
       " 'try': 577,\n",
       " 'turn': 578,\n",
       " 'tv': 579,\n",
       " 'type': 580,\n",
       " 'understand': 581,\n",
       " 'university': 582,\n",
       " 'upgrade': 583,\n",
       " 'value': 584,\n",
       " 'vehicle': 585,\n",
       " 'version': 586,\n",
       " 'video': 587,\n",
       " 'view': 588,\n",
       " 'vram': 589,\n",
       " 'wait': 590,\n",
       " 'want': 591,\n",
       " 'war': 592,\n",
       " 'watch': 593,\n",
       " 'water': 594,\n",
       " 'way': 595,\n",
       " 'week': 596,\n",
       " 'west': 597,\n",
       " 'wife': 598,\n",
       " 'win': 599,\n",
       " 'wish': 600,\n",
       " 'woman': 601,\n",
       " 'wonder': 602,\n",
       " 'word': 603,\n",
       " 'work': 604,\n",
       " 'world': 605,\n",
       " 'worry': 606,\n",
       " 'worship': 607,\n",
       " 'worth': 608,\n",
       " 'write': 609,\n",
       " 'year': 610,\n",
       " 'york': 611}"
      ]
     },
     "execution_count": 91,
     "metadata": {},
     "output_type": "execute_result"
    }
   ],
   "source": [
    "vectorizer.vocabulary_"
   ]
  },
  {
   "cell_type": "code",
   "execution_count": 92,
   "metadata": {
    "collapsed": false
   },
   "outputs": [
    {
     "data": {
      "text/plain": [
       "['ability',\n",
       " 'absolute',\n",
       " 'accept',\n",
       " 'access',\n",
       " 'account',\n",
       " 'act',\n",
       " 'action',\n",
       " 'address',\n",
       " 'admit',\n",
       " 'advance',\n",
       " 'advantage',\n",
       " 'age',\n",
       " 'agency',\n",
       " 'agree',\n",
       " 'air',\n",
       " 'al',\n",
       " 'allen',\n",
       " 'alomar',\n",
       " 'amount',\n",
       " 'analysis',\n",
       " 'answer',\n",
       " 'anybody',\n",
       " 'anything',\n",
       " 'apollo',\n",
       " 'apple',\n",
       " 'application',\n",
       " 'appreciate',\n",
       " 'approach',\n",
       " 'appropriate',\n",
       " 'april',\n",
       " 'area',\n",
       " 'argue',\n",
       " 'argument',\n",
       " 'article',\n",
       " 'ask',\n",
       " 'astronomy',\n",
       " 'attempt',\n",
       " 'attention',\n",
       " 'attitude',\n",
       " 'authority',\n",
       " 'avoid',\n",
       " 'ball',\n",
       " 'base',\n",
       " 'baseball',\n",
       " 'basis',\n",
       " 'batting',\n",
       " 'become',\n",
       " 'begin',\n",
       " 'belief',\n",
       " 'bill',\n",
       " 'bit',\n",
       " 'blue',\n",
       " 'board',\n",
       " 'bob',\n",
       " 'body',\n",
       " 'book',\n",
       " 'born',\n",
       " 'boston',\n",
       " 'bought',\n",
       " 'box',\n",
       " 'bring',\n",
       " 'brought',\n",
       " 'build',\n",
       " 'building',\n",
       " 'built',\n",
       " 'business',\n",
       " 'buying',\n",
       " 'cable',\n",
       " 'california',\n",
       " 'call',\n",
       " 'cannot',\n",
       " 'card',\n",
       " 'care',\n",
       " 'career',\n",
       " 'careful',\n",
       " 'carry',\n",
       " 'case',\n",
       " 'catholic',\n",
       " 'cause',\n",
       " 'center',\n",
       " 'centris',\n",
       " 'chance',\n",
       " 'change',\n",
       " 'chapter',\n",
       " 'charge',\n",
       " 'cheaper',\n",
       " 'check',\n",
       " 'chip',\n",
       " 'choose',\n",
       " 'christ',\n",
       " 'christian',\n",
       " 'christianity',\n",
       " 'church',\n",
       " 'city',\n",
       " 'claim',\n",
       " 'claimed',\n",
       " 'class',\n",
       " 'clock',\n",
       " 'closer',\n",
       " 'code',\n",
       " 'college',\n",
       " 'color',\n",
       " 'colorado',\n",
       " 'command',\n",
       " 'comment',\n",
       " 'company',\n",
       " 'compare',\n",
       " 'computer',\n",
       " 'concept',\n",
       " 'conclusion',\n",
       " 'connect',\n",
       " 'connection',\n",
       " 'contact',\n",
       " 'continue',\n",
       " 'control',\n",
       " 'copy',\n",
       " 'correct',\n",
       " 'cost',\n",
       " 'count',\n",
       " 'couple',\n",
       " 'course',\n",
       " 'cover',\n",
       " 'cpu',\n",
       " 'create',\n",
       " 'cut',\n",
       " 'date',\n",
       " 'dave',\n",
       " 'david',\n",
       " 'day',\n",
       " 'dc',\n",
       " 'deal',\n",
       " 'death',\n",
       " 'decent',\n",
       " 'decide',\n",
       " 'defense',\n",
       " 'defensive',\n",
       " 'definition',\n",
       " 'deny',\n",
       " 'department',\n",
       " 'described',\n",
       " 'design',\n",
       " 'determine',\n",
       " 'developed',\n",
       " 'development',\n",
       " 'die',\n",
       " 'difference',\n",
       " 'disagree',\n",
       " 'discuss',\n",
       " 'discussion',\n",
       " 'disk',\n",
       " 'display',\n",
       " 'divine',\n",
       " 'division',\n",
       " 'doctrine',\n",
       " 'doubt',\n",
       " 'drive',\n",
       " 'drop',\n",
       " 'duo',\n",
       " 'earth',\n",
       " 'east',\n",
       " 'effect',\n",
       " 'effort',\n",
       " 'email',\n",
       " 'end',\n",
       " 'energy',\n",
       " 'engineering',\n",
       " 'equivalent',\n",
       " 'era',\n",
       " 'error',\n",
       " 'everyone',\n",
       " 'everything',\n",
       " 'evidence',\n",
       " 'exact',\n",
       " 'example',\n",
       " 'excellent',\n",
       " 'excuse',\n",
       " 'exist',\n",
       " 'existence',\n",
       " 'expansion',\n",
       " 'experience',\n",
       " 'explain',\n",
       " 'explanation',\n",
       " 'exploration',\n",
       " 'face',\n",
       " 'fact',\n",
       " 'faith',\n",
       " 'fall',\n",
       " 'family',\n",
       " 'fan',\n",
       " 'fast',\n",
       " 'faster',\n",
       " 'father',\n",
       " 'favorite',\n",
       " 'fax',\n",
       " 'fear',\n",
       " 'feel',\n",
       " 'felt',\n",
       " 'field',\n",
       " 'figure',\n",
       " 'file',\n",
       " 'fine',\n",
       " 'finish',\n",
       " 'fit',\n",
       " 'fix',\n",
       " 'flight',\n",
       " 'fly',\n",
       " 'force',\n",
       " 'forget',\n",
       " 'form',\n",
       " 'found',\n",
       " 'frank',\n",
       " 'friend',\n",
       " 'front',\n",
       " 'ftp',\n",
       " 'fuel',\n",
       " 'funding',\n",
       " 'future',\n",
       " 'game',\n",
       " 'george',\n",
       " 'god',\n",
       " 'gospel',\n",
       " 'government',\n",
       " 'grace',\n",
       " 'ground',\n",
       " 'group',\n",
       " 'guess',\n",
       " 'guy',\n",
       " 'half',\n",
       " 'hand',\n",
       " 'hardware',\n",
       " 'head',\n",
       " 'hear',\n",
       " 'heard',\n",
       " 'heaven',\n",
       " 'held',\n",
       " 'hell',\n",
       " 'help',\n",
       " 'hi',\n",
       " 'history',\n",
       " 'hit',\n",
       " 'hold',\n",
       " 'holy',\n",
       " 'home',\n",
       " 'hope',\n",
       " 'human',\n",
       " 'hurt',\n",
       " 'idea',\n",
       " 'ii',\n",
       " 'iisi',\n",
       " 'image',\n",
       " 'imagine',\n",
       " 'include',\n",
       " 'increase',\n",
       " 'info',\n",
       " 'information',\n",
       " 'institute',\n",
       " 'interest',\n",
       " 'interpretation',\n",
       " 'issue',\n",
       " 'jeff',\n",
       " 'jesus',\n",
       " 'jewish',\n",
       " 'job',\n",
       " 'joe',\n",
       " 'john',\n",
       " 'johnson',\n",
       " 'judge',\n",
       " 'kept',\n",
       " 'key',\n",
       " 'kind',\n",
       " 'kingdom',\n",
       " 'knowledge',\n",
       " 'lack',\n",
       " 'language',\n",
       " 'launch',\n",
       " 'law',\n",
       " 'lc',\n",
       " 'lead',\n",
       " 'league',\n",
       " 'learn',\n",
       " 'left',\n",
       " 'letter',\n",
       " 'level',\n",
       " 'life',\n",
       " 'light',\n",
       " 'line',\n",
       " 'list',\n",
       " 'living',\n",
       " 'logic',\n",
       " 'longer',\n",
       " 'look',\n",
       " 'lord',\n",
       " 'los',\n",
       " 'loss',\n",
       " 'lot',\n",
       " 'love',\n",
       " 'lunar',\n",
       " 'mac',\n",
       " 'machine',\n",
       " 'macintosh',\n",
       " 'macs',\n",
       " 'mail',\n",
       " 'man',\n",
       " 'management',\n",
       " 'manager',\n",
       " 'mark',\n",
       " 'market',\n",
       " 'mary',\n",
       " 'mass',\n",
       " 'material',\n",
       " 'matter',\n",
       " 'mean',\n",
       " 'meaning',\n",
       " 'meant',\n",
       " 'meet',\n",
       " 'meg',\n",
       " 'member',\n",
       " 'memory',\n",
       " 'mention',\n",
       " 'message',\n",
       " 'michael',\n",
       " 'middle',\n",
       " 'mike',\n",
       " 'mind',\n",
       " 'mine',\n",
       " 'minor',\n",
       " 'miss',\n",
       " 'mission',\n",
       " 'model',\n",
       " 'modem',\n",
       " 'moment',\n",
       " 'money',\n",
       " 'monitor',\n",
       " 'moon',\n",
       " 'morning',\n",
       " 'mother',\n",
       " 'move',\n",
       " 'multiple',\n",
       " 'name',\n",
       " 'nasa',\n",
       " 'nature',\n",
       " 'need',\n",
       " 'net',\n",
       " 'network',\n",
       " 'news',\n",
       " 'night',\n",
       " 'nl',\n",
       " 'nobody',\n",
       " 'none',\n",
       " 'note',\n",
       " 'nothing',\n",
       " 'nubus',\n",
       " 'number',\n",
       " 'offense',\n",
       " 'offer',\n",
       " 'office',\n",
       " 'oh',\n",
       " 'opinion',\n",
       " 'orbit',\n",
       " 'orbital',\n",
       " 'order',\n",
       " 'organization',\n",
       " 'orthodox',\n",
       " 'paper',\n",
       " 'part',\n",
       " 'passage',\n",
       " 'past',\n",
       " 'paul',\n",
       " 'pay',\n",
       " 'pds',\n",
       " 'peace',\n",
       " 'perfect',\n",
       " 'performance',\n",
       " 'period',\n",
       " 'person',\n",
       " 'peter',\n",
       " 'phone',\n",
       " 'pick',\n",
       " 'picture',\n",
       " 'piece',\n",
       " 'pitch',\n",
       " 'pitcher',\n",
       " 'place',\n",
       " 'plan',\n",
       " 'planet',\n",
       " 'play',\n",
       " 'player',\n",
       " 'please',\n",
       " 'point',\n",
       " 'port',\n",
       " 'position',\n",
       " 'possibility',\n",
       " 'post',\n",
       " 'power',\n",
       " 'powerbook',\n",
       " 'practice',\n",
       " 'pray',\n",
       " 'prefer',\n",
       " 'presence',\n",
       " 'present',\n",
       " 'press',\n",
       " 'pressure',\n",
       " 'price',\n",
       " 'primary',\n",
       " 'print',\n",
       " 'problem',\n",
       " 'process',\n",
       " 'produce',\n",
       " 'product',\n",
       " 'program',\n",
       " 'project',\n",
       " 'proper',\n",
       " 'prove',\n",
       " 'provide',\n",
       " 'public',\n",
       " 'purpose',\n",
       " 'put',\n",
       " 'quadra',\n",
       " 'quality',\n",
       " 'question',\n",
       " 'quick',\n",
       " 'quote',\n",
       " 'radio',\n",
       " 'ram',\n",
       " 'ran',\n",
       " 'range',\n",
       " 'rate',\n",
       " 'reach',\n",
       " 'read',\n",
       " 'reading',\n",
       " 'reality',\n",
       " 'reason',\n",
       " 'recall',\n",
       " 'receive',\n",
       " 'recommend',\n",
       " 'record',\n",
       " 'reference',\n",
       " 'reject',\n",
       " 'relationship',\n",
       " 'release',\n",
       " 'relevant',\n",
       " 'religion',\n",
       " 'remain',\n",
       " 'reply',\n",
       " 'report',\n",
       " 'require',\n",
       " 'research',\n",
       " 'respect',\n",
       " 'respond',\n",
       " 'response',\n",
       " 'rest',\n",
       " 'result',\n",
       " 'resurrection',\n",
       " 'return',\n",
       " 'revelation',\n",
       " 'right',\n",
       " 'road',\n",
       " 'robert',\n",
       " 'rocket',\n",
       " 'role',\n",
       " 'roman',\n",
       " 'ron',\n",
       " 'room',\n",
       " 'safety',\n",
       " 'san',\n",
       " 'satellite',\n",
       " 'saw',\n",
       " 'school',\n",
       " 'science',\n",
       " 'score',\n",
       " 'screen',\n",
       " 'scripture',\n",
       " 'scsi',\n",
       " 'search',\n",
       " 'season',\n",
       " 'section',\n",
       " 'seem',\n",
       " 'sell',\n",
       " 'send',\n",
       " 'sense',\n",
       " 'sent',\n",
       " 'series',\n",
       " 'service',\n",
       " 'set',\n",
       " 'share',\n",
       " 'show',\n",
       " 'shuttle',\n",
       " 'side',\n",
       " 'sign',\n",
       " 'signal',\n",
       " 'simm',\n",
       " 'simms',\n",
       " 'simple',\n",
       " 'sin',\n",
       " 'situation',\n",
       " 'size',\n",
       " 'smith',\n",
       " 'society',\n",
       " 'software',\n",
       " 'solar',\n",
       " 'somebody',\n",
       " 'someone',\n",
       " 'something',\n",
       " 'son',\n",
       " 'sorry',\n",
       " 'sort',\n",
       " 'soul',\n",
       " 'sound',\n",
       " 'source',\n",
       " 'sox',\n",
       " 'space',\n",
       " 'spacecraft',\n",
       " 'speak',\n",
       " 'speed',\n",
       " 'spend',\n",
       " 'spent',\n",
       " 'spirit',\n",
       " 'spot',\n",
       " 'spring',\n",
       " 'staff',\n",
       " 'stand',\n",
       " 'standard',\n",
       " 'star',\n",
       " 'start',\n",
       " 'state',\n",
       " 'statement',\n",
       " 'station',\n",
       " 'status',\n",
       " 'stay',\n",
       " 'step',\n",
       " 'steve',\n",
       " 'stop',\n",
       " 'story',\n",
       " 'straight',\n",
       " 'student',\n",
       " 'study',\n",
       " 'stuff',\n",
       " 'subject',\n",
       " 'suggest',\n",
       " 'summary',\n",
       " 'sun',\n",
       " 'supply',\n",
       " 'support',\n",
       " 'suppose',\n",
       " 'sure',\n",
       " 'surface',\n",
       " 'suspect',\n",
       " 'system',\n",
       " 'talk',\n",
       " 'taught',\n",
       " 'teach',\n",
       " 'team',\n",
       " 'technology',\n",
       " 'tell',\n",
       " 'tend',\n",
       " 'term',\n",
       " 'test',\n",
       " 'texas',\n",
       " 'text',\n",
       " 'thank',\n",
       " 'theory',\n",
       " 'thing',\n",
       " 'thomas',\n",
       " 'thought',\n",
       " 'throw',\n",
       " 'today',\n",
       " 'told',\n",
       " 'tom',\n",
       " 'top',\n",
       " 'topic',\n",
       " 'toronto',\n",
       " 'track',\n",
       " 'trade',\n",
       " 'transfer',\n",
       " 'trouble',\n",
       " 'trust',\n",
       " 'truth',\n",
       " 'try',\n",
       " 'turn',\n",
       " 'tv',\n",
       " 'type',\n",
       " 'understand',\n",
       " 'university',\n",
       " 'upgrade',\n",
       " 'value',\n",
       " 'vehicle',\n",
       " 'version',\n",
       " 'video',\n",
       " 'view',\n",
       " 'vram',\n",
       " 'wait',\n",
       " 'want',\n",
       " 'war',\n",
       " 'watch',\n",
       " 'water',\n",
       " 'way',\n",
       " 'week',\n",
       " 'west',\n",
       " 'wife',\n",
       " 'win',\n",
       " 'wish',\n",
       " 'woman',\n",
       " 'wonder',\n",
       " 'word',\n",
       " 'work',\n",
       " 'world',\n",
       " 'worry',\n",
       " 'worship',\n",
       " 'worth',\n",
       " 'write',\n",
       " 'year',\n",
       " 'york']"
      ]
     },
     "execution_count": 92,
     "metadata": {},
     "output_type": "execute_result"
    }
   ],
   "source": [
    "tokens = vectorizer.get_feature_names()\n",
    "tokens"
   ]
  },
  {
   "cell_type": "code",
   "execution_count": 93,
   "metadata": {
    "collapsed": true
   },
   "outputs": [],
   "source": [
    "id2token = dict()\n",
    "for tid in range(len(tokens)):\n",
    "    id2token[tid] = tokens[tid]"
   ]
  },
  {
   "cell_type": "code",
   "execution_count": 94,
   "metadata": {
    "collapsed": true
   },
   "outputs": [],
   "source": [
    "corpus_new = list()\n",
    "for el in X:\n",
    "    corpus_new.append(list(zip(el.indices, el.data)))"
   ]
  },
  {
   "cell_type": "code",
   "execution_count": 95,
   "metadata": {
    "collapsed": false
   },
   "outputs": [
    {
     "data": {
      "text/plain": [
       "[(500, 0.24675995479523452),\n",
       " (312, 0.24424189709064797),\n",
       " (203, 0.26551213163162829),\n",
       " (499, 0.48139432168768415),\n",
       " (453, 0.23739709034908171)]"
      ]
     },
     "execution_count": 95,
     "metadata": {},
     "output_type": "execute_result"
    }
   ],
   "source": [
    "corpus_new[1][:5]"
   ]
  },
  {
   "cell_type": "markdown",
   "metadata": {},
   "source": [
    "<p>Кластеризация</p>"
   ]
  },
  {
   "cell_type": "code",
   "execution_count": 96,
   "metadata": {
    "collapsed": false
   },
   "outputs": [],
   "source": [
    "lda = models.ldamodel.LdaModel(corpus=corpus_new, num_topics=4, id2word=id2token, passes=5) #passes - 5 раз пройдемся для обучения"
   ]
  },
  {
   "cell_type": "code",
   "execution_count": 97,
   "metadata": {
    "collapsed": false
   },
   "outputs": [
    {
     "data": {
      "text/plain": [
       "[(0,\n",
       "  '0.017*\"year\" + 0.013*\"baseball\" + 0.012*\"team\" + 0.011*\"sox\" + 0.011*\"lot\" + 0.011*\"league\" + 0.010*\"please\" + 0.009*\"win\" + 0.009*\"play\" + 0.008*\"game\"'),\n",
       " (1,\n",
       "  '0.030*\"space\" + 0.014*\"nasa\" + 0.012*\"launch\" + 0.011*\"orbit\" + 0.011*\"lunar\" + 0.010*\"shuttle\" + 0.009*\"heard\" + 0.009*\"program\" + 0.009*\"home\" + 0.009*\"figure\"'),\n",
       " (2,\n",
       "  '0.027*\"god\" + 0.019*\"jesus\" + 0.010*\"part\" + 0.010*\"day\" + 0.010*\"man\" + 0.009*\"church\" + 0.009*\"christianity\" + 0.008*\"christ\" + 0.008*\"way\" + 0.008*\"hell\"'),\n",
       " (3,\n",
       "  '0.021*\"mac\" + 0.013*\"book\" + 0.012*\"apple\" + 0.012*\"scsi\" + 0.011*\"system\" + 0.011*\"problem\" + 0.011*\"disk\" + 0.011*\"want\" + 0.010*\"drive\" + 0.010*\"color\"')]"
      ]
     },
     "execution_count": 97,
     "metadata": {},
     "output_type": "execute_result"
    }
   ],
   "source": [
    "lda.print_topics(20)"
   ]
  },
  {
   "cell_type": "code",
   "execution_count": 98,
   "metadata": {
    "collapsed": false
   },
   "outputs": [
    {
     "data": {
      "text/plain": [
       "[(219, 0.027449347235968955),\n",
       " (260, 0.018702710614444729),\n",
       " (364, 0.0098985503446653023),\n",
       " (128, 0.0096877207219859037)]"
      ]
     },
     "execution_count": 98,
     "metadata": {},
     "output_type": "execute_result"
    }
   ],
   "source": [
    "tops = lda.get_topic_terms(2, topn=100)\n",
    "tops[:4]"
   ]
  },
  {
   "cell_type": "markdown",
   "metadata": {},
   "source": [
    "<p>Простой тест</p>"
   ]
  },
  {
   "cell_type": "code",
   "execution_count": 99,
   "metadata": {
    "collapsed": false
   },
   "outputs": [
    {
     "data": {
      "text/plain": [
       "'So what is your definition of \"interfering with the fielder taking the throw\"?\\n\\nThe rule book certainly doesn\\'t have a definiton or clarification, so it\\'s\\npossible to interpret the rule as saying that if the catcher has to alter\\nhis throw to avoid hitting the batter-runner, then again we have interference.\\nYou know, it seems that there is no way to apply this rule justly--if the\\ncatcher (or the pitcher, say Rob Dibble, for example) throws toward first\\nand hits the runner running inside the baseline, the fielder takes the chance\\nof being ejected.  Therefore he probably would throw around the runner or\\n(your scenario) above him.\\n\\nYou should note that in our American Legion League, (which uses MLB rules) we\\ninterpret the rule to say in this very circumstance there IS interference\\nper rule 7.09.'"
      ]
     },
     "execution_count": 99,
     "metadata": {},
     "output_type": "execute_result"
    }
   ],
   "source": [
    "x_test = newsgroups_test.data[1]\n",
    "x_test"
   ]
  },
  {
   "cell_type": "code",
   "execution_count": 100,
   "metadata": {
    "collapsed": false
   },
   "outputs": [
    {
     "data": {
      "text/plain": [
       "[(136, 1.0),\n",
       " (55, 1.0),\n",
       " (564, 1.0),\n",
       " (40, 1.0),\n",
       " (595, 1.0),\n",
       " (81, 1.0),\n",
       " (564, 1.0),\n",
       " (349, 1.0)]"
      ]
     },
     "execution_count": 100,
     "metadata": {},
     "output_type": "execute_result"
    }
   ],
   "source": [
    "corpus_test = list()\n",
    "for el in mytokenizer(x_test):\n",
    "    \n",
    "    if el in vectorizer.vocabulary_:\n",
    "        corpus_test.append((vectorizer.vocabulary_[el], 1.0))\n",
    "\n",
    "corpus_test"
   ]
  },
  {
   "cell_type": "code",
   "execution_count": 101,
   "metadata": {
    "collapsed": false
   },
   "outputs": [
    {
     "data": {
      "text/plain": [
       "array([3, 1, 3, ..., 3, 2, 1], dtype=int64)"
      ]
     },
     "execution_count": 101,
     "metadata": {},
     "output_type": "execute_result"
    }
   ],
   "source": [
    "newsgroups_test.target"
   ]
  },
  {
   "cell_type": "code",
   "execution_count": 102,
   "metadata": {
    "collapsed": false
   },
   "outputs": [
    {
     "data": {
      "text/plain": [
       "[(0, 0.40979828990102418),\n",
       " (1, 0.029146764800081531),\n",
       " (2, 0.52868915339238276),\n",
       " (3, 0.032365791906511635)]"
      ]
     },
     "execution_count": 102,
     "metadata": {},
     "output_type": "execute_result"
    }
   ],
   "source": [
    "lda.get_document_topics(corpus_test)"
   ]
  },
  {
   "cell_type": "markdown",
   "metadata": {},
   "source": [
    "<a name=\"4\"></a>\n",
    "<div style=\"display:table; width:100%; padding-top:10px; padding-bottom:10px; border-bottom:1px solid lightgrey\">\n",
    "    <div style=\"display:table-row\">\n",
    "        <div style=\"display:table-cell; width:80%; font-size:14pt; font-weight:bold\">4. Визуализация с использованием WordCloud</div>\n",
    "    \t<div style=\"display:table-cell; width:20%; text-align:center; background-color:whitesmoke; border:1px solid lightgrey\"><a href=\"#0\">К содержанию</a></div>\n",
    "    </div>\n",
    "</div>"
   ]
  },
  {
   "cell_type": "code",
   "execution_count": 1,
   "metadata": {
    "collapsed": false
   },
   "outputs": [
    {
     "ename": "ModuleNotFoundError",
     "evalue": "No module named 'wordcloud'",
     "output_type": "error",
     "traceback": [
      "\u001b[0;31m---------------------------------------------------------------------------\u001b[0m",
      "\u001b[0;31mModuleNotFoundError\u001b[0m                       Traceback (most recent call last)",
      "\u001b[0;32m<ipython-input-1-8038e19af624>\u001b[0m in \u001b[0;36m<module>\u001b[0;34m()\u001b[0m\n\u001b[0;32m----> 1\u001b[0;31m \u001b[1;32mfrom\u001b[0m \u001b[0mwordcloud\u001b[0m \u001b[1;32mimport\u001b[0m \u001b[0mWordCloud\u001b[0m\u001b[1;33m\u001b[0m\u001b[0m\n\u001b[0m",
      "\u001b[0;31mModuleNotFoundError\u001b[0m: No module named 'wordcloud'"
     ]
    }
   ],
   "source": [
    "from wordcloud import WordCloud"
   ]
  },
  {
   "cell_type": "code",
   "execution_count": 107,
   "metadata": {
    "collapsed": false
   },
   "outputs": [
    {
     "data": {
      "text/plain": [
       "{'accept': 0.0042006939473176004,\n",
       " 'answer': 0.0057221349129499286,\n",
       " 'ask': 0.0052369813648890694,\n",
       " 'bill': 0.0031230515335756012,\n",
       " 'body': 0.0073567663350291865,\n",
       " 'cannot': 0.0040565110819015303,\n",
       " 'cause': 0.0042517525287223048,\n",
       " 'centris': 0.0039903741332256324,\n",
       " 'check': 0.004203106288183588,\n",
       " 'choose': 0.0045641224658503647,\n",
       " 'christ': 0.0084791612066368247,\n",
       " 'christian': 0.0041253753293957482,\n",
       " 'christianity': 0.0087333396885486986,\n",
       " 'church': 0.0094201428976230413,\n",
       " 'claim': 0.0043485718620933948,\n",
       " 'claimed': 0.0032330748536481637,\n",
       " 'concept': 0.0031762138190376999,\n",
       " 'day': 0.0096877207219859037,\n",
       " 'death': 0.0051422983089297464,\n",
       " 'defensive': 0.0036158841426596573,\n",
       " 'existence': 0.0032252710754860476,\n",
       " 'experience': 0.0038184282165291726,\n",
       " 'explain': 0.0043013168960917801,\n",
       " 'fact': 0.0046143808241997071,\n",
       " 'faith': 0.0051061641377886484,\n",
       " 'father': 0.0047808214055777825,\n",
       " 'fear': 0.0035163153563122036,\n",
       " 'felt': 0.0037651222529385834,\n",
       " 'found': 0.0036000603867523805,\n",
       " 'friend': 0.0038370073705028111,\n",
       " 'game': 0.005190703730201183,\n",
       " 'god': 0.027449347235968955,\n",
       " 'group': 0.00355298805839046,\n",
       " 'heaven': 0.0063750584008396959,\n",
       " 'hell': 0.0080584420542742993,\n",
       " 'hi': 0.004382244587881572,\n",
       " 'holy': 0.0044789857680296681,\n",
       " 'human': 0.0053081085210931632,\n",
       " 'idea': 0.0039013487463474485,\n",
       " 'imagine': 0.0033531255864349494,\n",
       " 'jesus': 0.018702710614444729,\n",
       " 'job': 0.0031770220058151659,\n",
       " 'john': 0.00534574011226128,\n",
       " 'kind': 0.0073927940106508234,\n",
       " 'law': 0.0034583881006075112,\n",
       " 'life': 0.0063221760316246036,\n",
       " 'light': 0.0040259300244802967,\n",
       " 'logic': 0.0040291124419998998,\n",
       " 'look': 0.003893764090376067,\n",
       " 'lord': 0.0059602469737640093,\n",
       " 'love': 0.0074874398846866575,\n",
       " 'man': 0.0095406521301404038,\n",
       " 'mean': 0.0035175253985868602,\n",
       " 'message': 0.0058371634481026403,\n",
       " 'michael': 0.0072087063310404742,\n",
       " 'money': 0.0036860621245954584,\n",
       " 'name': 0.0042134977540243951,\n",
       " 'need': 0.0043634785760081514,\n",
       " 'net': 0.004219319523967288,\n",
       " 'nothing': 0.0054339526856853147,\n",
       " 'part': 0.0098985503446653023,\n",
       " 'past': 0.0039346175981799228,\n",
       " 'paul': 0.0056631966029374462,\n",
       " 'person': 0.0058888556262629973,\n",
       " 'pitcher': 0.003283772937953617,\n",
       " 'place': 0.0035963749156189733,\n",
       " 'play': 0.0044543871431969558,\n",
       " 'please': 0.0040933235883220849,\n",
       " 'point': 0.0058638766223513463,\n",
       " 'post': 0.0043780192097197714,\n",
       " 'problem': 0.0040894090708884882,\n",
       " 'put': 0.0049210619572828285,\n",
       " 'question': 0.0068382281512106326,\n",
       " 'read': 0.0060962131520278873,\n",
       " 'reason': 0.0063134169069836675,\n",
       " 'record': 0.0046052517065518087,\n",
       " 'reject': 0.0032560451507406426,\n",
       " 'respect': 0.0039210976905751267,\n",
       " 'response': 0.0047244544518687294,\n",
       " 'right': 0.0070126111416661321,\n",
       " 'saw': 0.0043450313887122404,\n",
       " 'scripture': 0.0035647361923622418,\n",
       " 'seem': 0.0037237939636198757,\n",
       " 'simm': 0.0047724025164992837,\n",
       " 'sin': 0.0060789052407575223,\n",
       " 'someone': 0.0053319014780749381,\n",
       " 'something': 0.0059278805830977228,\n",
       " 'son': 0.0035160684440891455,\n",
       " 'soul': 0.0036160349998640394,\n",
       " 'stay': 0.0031327297475377256,\n",
       " 'sure': 0.0043623253791056802,\n",
       " 'thing': 0.0033153979444214615,\n",
       " 'thought': 0.0040837487635165086,\n",
       " 'truth': 0.0051450776053501204,\n",
       " 'try': 0.0048039647480947372,\n",
       " 'want': 0.005372021427459568,\n",
       " 'way': 0.0082686213457888302,\n",
       " 'word': 0.0062972196869412961,\n",
       " 'world': 0.0048330158311923376,\n",
       " 'worship': 0.0042795731620173198}"
      ]
     },
     "execution_count": 107,
     "metadata": {},
     "output_type": "execute_result"
    }
   ],
   "source": [
    "dict_top = {id2token[id]:pr for id, pr in tops}\n",
    "dict_top"
   ]
  },
  {
   "cell_type": "code",
   "execution_count": 108,
   "metadata": {
    "collapsed": false
   },
   "outputs": [
    {
     "ename": "NameError",
     "evalue": "name 'WordCloud' is not defined",
     "output_type": "error",
     "traceback": [
      "\u001b[0;31m---------------------------------------------------------------------------\u001b[0m",
      "\u001b[0;31mNameError\u001b[0m                                 Traceback (most recent call last)",
      "\u001b[0;32m<ipython-input-108-f3995f305bb0>\u001b[0m in \u001b[0;36m<module>\u001b[0;34m()\u001b[0m\n\u001b[0;32m----> 1\u001b[0;31m wc = WordCloud(background_color=\"white\", \n\u001b[0m\u001b[1;32m      2\u001b[0m                \u001b[0mmax_words\u001b[0m\u001b[1;33m=\u001b[0m\u001b[1;36m100\u001b[0m\u001b[1;33m,\u001b[0m\u001b[1;33m\u001b[0m\u001b[0m\n\u001b[1;32m      3\u001b[0m                \u001b[0mwidth\u001b[0m\u001b[1;33m=\u001b[0m\u001b[1;36m1600\u001b[0m\u001b[1;33m,\u001b[0m\u001b[1;33m\u001b[0m\u001b[0m\n\u001b[1;32m      4\u001b[0m                height=1200).generate_from_frequencies(dict_top)\n",
      "\u001b[0;31mNameError\u001b[0m: name 'WordCloud' is not defined"
     ]
    }
   ],
   "source": [
    "wc = WordCloud(background_color=\"white\", \n",
    "               max_words=100, \n",
    "               width=1600,\n",
    "               height=1200).generate_from_frequencies(dict_top)"
   ]
  },
  {
   "cell_type": "code",
   "execution_count": null,
   "metadata": {
    "collapsed": false
   },
   "outputs": [],
   "source": [
    "plt.figure(figsize=[10,10])\n",
    "plt.imshow(wc, interpolation=\"bilinear\")\n",
    "plt.axis(\"off\")\n",
    "plt.show()"
   ]
  },
  {
   "cell_type": "markdown",
   "metadata": {},
   "source": [
    "<a name=\"5\"></a>\n",
    "<div style=\"display:table; width:100%; padding-top:10px; padding-bottom:10px; border-bottom:1px solid lightgrey\">\n",
    "    <div style=\"display:table-row\">\n",
    "        <div style=\"display:table-cell; width:80%; font-size:14pt; font-weight:bold\">5. Источники</div>\n",
    "    \t<div style=\"display:table-cell; width:20%; text-align:center; background-color:whitesmoke; border:1px solid lightgrey\"><a href=\"#0\">К содержанию</a></div>\n",
    "    </div>\n",
    "</div>"
   ]
  },
  {
   "cell_type": "code",
   "execution_count": null,
   "metadata": {
    "collapsed": true
   },
   "outputs": [],
   "source": [
    "http://qwone.com/~jason/20Newsgroups/\n",
    "http://scikit-learn.org/stable/datasets/twenty_newsgroups.html"
   ]
  },
  {
   "cell_type": "code",
   "execution_count": null,
   "metadata": {
    "collapsed": true
   },
   "outputs": [],
   "source": [
    "https://radimrehurek.com/gensim/models/ldamodel.html\n",
    "https://amueller.github.io/word_cloud/auto_examples/simple.html\n",
    "http://www.peculiarparity.com/using-gensim-with-andreas-muellers-word-cloud/"
   ]
  }
 ],
 "metadata": {
  "kernelspec": {
   "display_name": "Python 3",
   "language": "python",
   "name": "python3"
  },
  "language_info": {
   "codemirror_mode": {
    "name": "ipython",
    "version": 3
   },
   "file_extension": ".py",
   "mimetype": "text/x-python",
   "name": "python",
   "nbconvert_exporter": "python",
   "pygments_lexer": "ipython3",
   "version": "3.6.0"
  }
 },
 "nbformat": 4,
 "nbformat_minor": 2
}
