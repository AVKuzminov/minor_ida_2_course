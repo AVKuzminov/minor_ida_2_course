{
 "cells": [
  {
   "cell_type": "markdown",
   "metadata": {
    "collapsed": true
   },
   "source": [
    "<div style=\"font-size:18pt; padding-top:20px; text-align:center\">СЕМИНАР 17. <b>Кластеризация текстовых документов и </b> <span style=\"font-weight:bold; color:green\">NumPy/SciPy/Sklearn</span></div><hr>\n",
    "<div style=\"text-align:right;\">Папулин С.Ю. <span style=\"font-style: italic;font-weight: bold;\">(papulin_hse@mail.ru)</span></div>"
   ]
  },
  {
   "cell_type": "markdown",
   "metadata": {},
   "source": [
    "<a name=\"0\"></a>\n",
    "<div><span style=\"font-size:14pt; font-weight:bold\">Содержание</span>\n",
    "    <ol>\n",
    "        <li><a href=\"#1\">Загрузка исходных данных</a></li>\n",
    "        <li><a href=\"#2\">K-means</a></li>\n",
    "        <li><a href=\"#3\">Latent Semantic Analisys (LSA)</a>\n",
    "        <li><a href=\"#4\">Latent Dirichlet Allocation (LDA)</a>\n",
    "        <li><a href=\"#5\">Источники</a>\n",
    "        </li>\n",
    "    </ol>\n",
    "</div>"
   ]
  },
  {
   "cell_type": "code",
   "execution_count": 1,
   "metadata": {
    "collapsed": false
   },
   "outputs": [],
   "source": [
    "import numpy as np\n",
    "from sklearn.feature_extraction.text import TfidfVectorizer, CountVectorizer\n",
    "from sklearn.cluster import KMeans, MiniBatchKMeans\n",
    "from sklearn.decomposition import TruncatedSVD, LatentDirichletAllocation\n",
    "\n",
    "from sklearn import metrics"
   ]
  },
  {
   "cell_type": "code",
   "execution_count": 2,
   "metadata": {
    "collapsed": true
   },
   "outputs": [],
   "source": [
    "import matplotlib.pyplot as plt\n",
    "%matplotlib inline"
   ]
  },
  {
   "cell_type": "code",
   "execution_count": 3,
   "metadata": {
    "collapsed": true
   },
   "outputs": [],
   "source": [
    "from sklearn.preprocessing import Normalizer"
   ]
  },
  {
   "cell_type": "code",
   "execution_count": 4,
   "metadata": {
    "collapsed": true
   },
   "outputs": [],
   "source": [
    "from sklearn.datasets import fetch_20newsgroups"
   ]
  },
  {
   "cell_type": "markdown",
   "metadata": {},
   "source": [
    "<a name=\"1\"></a>\n",
    "<div style=\"display:table; width:100%; padding-top:10px; padding-bottom:10px; border-bottom:1px solid lightgrey\">\n",
    "    <div style=\"display:table-row\">\n",
    "        <div style=\"display:table-cell; width:80%; font-size:14pt; font-weight:bold\">1. Загрузка исходных данных</div>\n",
    "    \t<div style=\"display:table-cell; width:20%; text-align:center; background-color:whitesmoke; border:1px solid lightgrey\"><a href=\"#0\">К содержанию</a></div>\n",
    "    </div>\n",
    "</div>"
   ]
  },
  {
   "cell_type": "markdown",
   "metadata": {},
   "source": [
    "<p><b>Исходные данные</b></p>"
   ]
  },
  {
   "cell_type": "code",
   "execution_count": 5,
   "metadata": {
    "collapsed": false
   },
   "outputs": [],
   "source": [
    "newsgroups_train = fetch_20newsgroups(subset=\"train\")#естьall,train,test"
   ]
  },
  {
   "cell_type": "code",
   "execution_count": 6,
   "metadata": {
    "collapsed": false
   },
   "outputs": [
    {
     "data": {
      "text/plain": [
       "[\"From: lerxst@wam.umd.edu (where's my thing)\\nSubject: WHAT car is this!?\\nNntp-Posting-Host: rac3.wam.umd.edu\\nOrganization: University of Maryland, College Park\\nLines: 15\\n\\n I was wondering if anyone out there could enlighten me on this car I saw\\nthe other day. It was a 2-door sports car, looked to be from the late 60s/\\nearly 70s. It was called a Bricklin. The doors were really small. In addition,\\nthe front bumper was separate from the rest of the body. This is \\nall I know. If anyone can tellme a model name, engine specs, years\\nof production, where this car is made, history, or whatever info you\\nhave on this funky looking car, please e-mail.\\n\\nThanks,\\n- IL\\n   ---- brought to you by your neighborhood Lerxst ----\\n\\n\\n\\n\\n\"]"
      ]
     },
     "execution_count": 6,
     "metadata": {},
     "output_type": "execute_result"
    }
   ],
   "source": [
    "newsgroups_train[\"data\"][:1]"
   ]
  },
  {
   "cell_type": "code",
   "execution_count": 7,
   "metadata": {
    "collapsed": false
   },
   "outputs": [
    {
     "data": {
      "text/plain": [
       "['alt.atheism',\n",
       " 'comp.graphics',\n",
       " 'comp.os.ms-windows.misc',\n",
       " 'comp.sys.ibm.pc.hardware',\n",
       " 'comp.sys.mac.hardware',\n",
       " 'comp.windows.x',\n",
       " 'misc.forsale',\n",
       " 'rec.autos',\n",
       " 'rec.motorcycles',\n",
       " 'rec.sport.baseball',\n",
       " 'rec.sport.hockey',\n",
       " 'sci.crypt',\n",
       " 'sci.electronics',\n",
       " 'sci.med',\n",
       " 'sci.space',\n",
       " 'soc.religion.christian',\n",
       " 'talk.politics.guns',\n",
       " 'talk.politics.mideast',\n",
       " 'talk.politics.misc',\n",
       " 'talk.religion.misc']"
      ]
     },
     "execution_count": 7,
     "metadata": {},
     "output_type": "execute_result"
    }
   ],
   "source": [
    "newsgroups_train.target_names"
   ]
  },
  {
   "cell_type": "code",
   "execution_count": 8,
   "metadata": {
    "collapsed": false
   },
   "outputs": [
    {
     "data": {
      "text/plain": [
       "array([7, 4, 4, ..., 3, 1, 8])"
      ]
     },
     "execution_count": 8,
     "metadata": {},
     "output_type": "execute_result"
    }
   ],
   "source": [
    "x = newsgroups_train.data\n",
    "y = newsgroups_train.target\n",
    "y"
   ]
  },
  {
   "cell_type": "code",
   "execution_count": 9,
   "metadata": {
    "collapsed": false
   },
   "outputs": [
    {
     "data": {
      "text/plain": [
       "11314"
      ]
     },
     "execution_count": 9,
     "metadata": {},
     "output_type": "execute_result"
    }
   ],
   "source": [
    "len(x)"
   ]
  },
  {
   "cell_type": "code",
   "execution_count": 10,
   "metadata": {
    "collapsed": false
   },
   "outputs": [
    {
     "data": {
      "text/plain": [
       "array([ 0,  1,  2,  3,  4,  5,  6,  7,  8,  9, 10, 11, 12, 13, 14, 15, 16,\n",
       "       17, 18, 19])"
      ]
     },
     "execution_count": 10,
     "metadata": {},
     "output_type": "execute_result"
    }
   ],
   "source": [
    "np.unique(y)"
   ]
  },
  {
   "cell_type": "markdown",
   "metadata": {},
   "source": [
    "<p><b>Предобработка</b></p>"
   ]
  },
  {
   "cell_type": "markdown",
   "metadata": {},
   "source": [
    "<p>CountVectorizer</p>"
   ]
  },
  {
   "cell_type": "code",
   "execution_count": 11,
   "metadata": {
    "collapsed": true
   },
   "outputs": [],
   "source": [
    "tf_vectorizer = CountVectorizer(max_df=0.90, min_df=10, max_features=1000, stop_words=\"english\") #типо рекомендует LDA \n",
    "#max_df - оставляет столько долей частовстречающихся слов, ипо если больше 0,9 частовстречаемость - то вон их\n",
    "#min_df - отбрасывает редковстречающихся слов (меньше 10 раз)\n",
    "#Count просто считает, а TFIDF как-то по умному (маша) "
   ]
  },
  {
   "cell_type": "code",
   "execution_count": 12,
   "metadata": {
    "collapsed": true
   },
   "outputs": [],
   "source": [
    "x_tf = tf_vectorizer.fit_transform(x)"
   ]
  },
  {
   "cell_type": "code",
   "execution_count": 13,
   "metadata": {
    "collapsed": false
   },
   "outputs": [
    {
     "data": {
      "text/plain": [
       "array([[0, 0, 0, ..., 0, 0, 0],\n",
       "       [0, 0, 0, ..., 0, 0, 0],\n",
       "       [0, 0, 0, ..., 0, 0, 0],\n",
       "       [0, 0, 0, ..., 0, 0, 0],\n",
       "       [0, 0, 0, ..., 1, 0, 0]], dtype=int64)"
      ]
     },
     "execution_count": 13,
     "metadata": {},
     "output_type": "execute_result"
    }
   ],
   "source": [
    "x_tf[:5].toarray()"
   ]
  },
  {
   "cell_type": "code",
   "execution_count": 14,
   "metadata": {
    "collapsed": false
   },
   "outputs": [
    {
     "data": {
      "text/plain": [
       "(11314, 1000)"
      ]
     },
     "execution_count": 14,
     "metadata": {},
     "output_type": "execute_result"
    }
   ],
   "source": [
    "x_tf.shape"
   ]
  },
  {
   "cell_type": "code",
   "execution_count": 15,
   "metadata": {
    "collapsed": false
   },
   "outputs": [
    {
     "data": {
      "text/plain": [
       "['00',\n",
       " '000',\n",
       " '01',\n",
       " '02',\n",
       " '03',\n",
       " '04',\n",
       " '0d',\n",
       " '0t',\n",
       " '10',\n",
       " '100',\n",
       " '11',\n",
       " '12',\n",
       " '13',\n",
       " '14',\n",
       " '145',\n",
       " '15',\n",
       " '16',\n",
       " '17',\n",
       " '18',\n",
       " '19',\n",
       " '1992',\n",
       " '1993',\n",
       " '1993apr15',\n",
       " '1d9',\n",
       " '1t',\n",
       " '20',\n",
       " '200',\n",
       " '21',\n",
       " '22',\n",
       " '23',\n",
       " '24',\n",
       " '25',\n",
       " '26',\n",
       " '27',\n",
       " '28',\n",
       " '29',\n",
       " '2tm',\n",
       " '30',\n",
       " '31',\n",
       " '32',\n",
       " '33',\n",
       " '34',\n",
       " '34u',\n",
       " '35',\n",
       " '36',\n",
       " '37',\n",
       " '38',\n",
       " '39',\n",
       " '3d',\n",
       " '3t',\n",
       " '40',\n",
       " '408',\n",
       " '41',\n",
       " '42',\n",
       " '43',\n",
       " '44',\n",
       " '45',\n",
       " '46',\n",
       " '48',\n",
       " '49',\n",
       " '50',\n",
       " '500',\n",
       " '51',\n",
       " '55',\n",
       " '60',\n",
       " '6ei',\n",
       " '70',\n",
       " '75',\n",
       " '75u',\n",
       " '80',\n",
       " '800',\n",
       " '90',\n",
       " '91',\n",
       " '92',\n",
       " '93',\n",
       " '__',\n",
       " '___',\n",
       " 'a86',\n",
       " 'able',\n",
       " 'ac',\n",
       " 'accept',\n",
       " 'access',\n",
       " 'according',\n",
       " 'acs',\n",
       " 'act',\n",
       " 'action',\n",
       " 'actually',\n",
       " 'add',\n",
       " 'address',\n",
       " 'administration',\n",
       " 'advance',\n",
       " 'advice',\n",
       " 'ago',\n",
       " 'agree',\n",
       " 'ah',\n",
       " 'ai',\n",
       " 'air',\n",
       " 'al',\n",
       " 'algorithm',\n",
       " 'allow',\n",
       " 'alt',\n",
       " 'america',\n",
       " 'american',\n",
       " 'andrew',\n",
       " 'anonymous',\n",
       " 'answer',\n",
       " 'answers',\n",
       " 'anti',\n",
       " 'anybody',\n",
       " 'appears',\n",
       " 'apple',\n",
       " 'application',\n",
       " 'applications',\n",
       " 'appreciated',\n",
       " 'apr',\n",
       " 'april',\n",
       " 'arab',\n",
       " 'archive',\n",
       " 'area',\n",
       " 'aren',\n",
       " 'argument',\n",
       " 'armenia',\n",
       " 'armenian',\n",
       " 'armenians',\n",
       " 'arms',\n",
       " 'army',\n",
       " 'article',\n",
       " 'ask',\n",
       " 'asked',\n",
       " 'asking',\n",
       " 'assume',\n",
       " 'atheism',\n",
       " 'atheists',\n",
       " 'att',\n",
       " 'attack',\n",
       " 'au',\n",
       " 'austin',\n",
       " 'author',\n",
       " 'available',\n",
       " 'average',\n",
       " 'avoid',\n",
       " 'away',\n",
       " 'ax',\n",
       " 'b8f',\n",
       " 'bad',\n",
       " 'banks',\n",
       " 'base',\n",
       " 'baseball',\n",
       " 'based',\n",
       " 'basic',\n",
       " 'bbs',\n",
       " 'belief',\n",
       " 'believe',\n",
       " 'berkeley',\n",
       " 'best',\n",
       " 'better',\n",
       " 'bhj',\n",
       " 'bible',\n",
       " 'big',\n",
       " 'bike',\n",
       " 'bit',\n",
       " 'bitnet',\n",
       " 'bits',\n",
       " 'black',\n",
       " 'blood',\n",
       " 'blue',\n",
       " 'bnr',\n",
       " 'board',\n",
       " 'bob',\n",
       " 'body',\n",
       " 'book',\n",
       " 'books',\n",
       " 'boston',\n",
       " 'bought',\n",
       " 'box',\n",
       " 'break',\n",
       " 'brian',\n",
       " 'buffalo',\n",
       " 'build',\n",
       " 'building',\n",
       " 'built',\n",
       " 'bus',\n",
       " 'business',\n",
       " 'buy',\n",
       " 'ca',\n",
       " 'cable',\n",
       " 'california',\n",
       " 'called',\n",
       " 'caltech',\n",
       " 'came',\n",
       " 'canada',\n",
       " 'car',\n",
       " 'card',\n",
       " 'cards',\n",
       " 'care',\n",
       " 'carry',\n",
       " 'cars',\n",
       " 'case',\n",
       " 'cases',\n",
       " 'cause',\n",
       " 'cb',\n",
       " 'cc',\n",
       " 'cd',\n",
       " 'center',\n",
       " 'certain',\n",
       " 'certainly',\n",
       " 'chance',\n",
       " 'change',\n",
       " 'cheap',\n",
       " 'check',\n",
       " 'chicago',\n",
       " 'child',\n",
       " 'children',\n",
       " 'chip',\n",
       " 'chips',\n",
       " 'choice',\n",
       " 'chris',\n",
       " 'christ',\n",
       " 'christian',\n",
       " 'christianity',\n",
       " 'christians',\n",
       " 'church',\n",
       " 'citizens',\n",
       " 'city',\n",
       " 'claim',\n",
       " 'claims',\n",
       " 'class',\n",
       " 'clear',\n",
       " 'clearly',\n",
       " 'cleveland',\n",
       " 'clinton',\n",
       " 'clipper',\n",
       " 'clock',\n",
       " 'close',\n",
       " 'cmu',\n",
       " 'code',\n",
       " 'college',\n",
       " 'color',\n",
       " 'colorado',\n",
       " 'columbia',\n",
       " 'com',\n",
       " 'come',\n",
       " 'comes',\n",
       " 'coming',\n",
       " 'command',\n",
       " 'comments',\n",
       " 'commercial',\n",
       " 'common',\n",
       " 'communications',\n",
       " 'community',\n",
       " 'comp',\n",
       " 'company',\n",
       " 'complete',\n",
       " 'completely',\n",
       " 'computer',\n",
       " 'computing',\n",
       " 'condition',\n",
       " 'congress',\n",
       " 'consider',\n",
       " 'considered',\n",
       " 'contact',\n",
       " 'continue',\n",
       " 'control',\n",
       " 'controller',\n",
       " 'copy',\n",
       " 'corp',\n",
       " 'corporation',\n",
       " 'correct',\n",
       " 'cost',\n",
       " 'couldn',\n",
       " 'country',\n",
       " 'couple',\n",
       " 'course',\n",
       " 'court',\n",
       " 'cover',\n",
       " 'create',\n",
       " 'created',\n",
       " 'crime',\n",
       " 'cs',\n",
       " 'cso',\n",
       " 'cup',\n",
       " 'current',\n",
       " 'currently',\n",
       " 'cut',\n",
       " 'cwru',\n",
       " 'cx',\n",
       " 'dan',\n",
       " 'data',\n",
       " 'date',\n",
       " 'dave',\n",
       " 'david',\n",
       " 'day',\n",
       " 'days',\n",
       " 'db',\n",
       " 'dc',\n",
       " 'dead',\n",
       " 'deal',\n",
       " 'death',\n",
       " 'dec',\n",
       " 'defense',\n",
       " 'deleted',\n",
       " 'department',\n",
       " 'dept',\n",
       " 'des',\n",
       " 'design',\n",
       " 'designed',\n",
       " 'details',\n",
       " 'development',\n",
       " 'device',\n",
       " 'devices',\n",
       " 'did',\n",
       " 'didn',\n",
       " 'die',\n",
       " 'difference',\n",
       " 'different',\n",
       " 'difficult',\n",
       " 'digex',\n",
       " 'digital',\n",
       " 'directly',\n",
       " 'directory',\n",
       " 'disclaimer',\n",
       " 'discussion',\n",
       " 'disk',\n",
       " 'display',\n",
       " 'distribution',\n",
       " 'division',\n",
       " 'dod',\n",
       " 'does',\n",
       " 'doesn',\n",
       " 'doing',\n",
       " 'don',\n",
       " 'dos',\n",
       " 'doubt',\n",
       " 'doug',\n",
       " 'dr',\n",
       " 'drive',\n",
       " 'driver',\n",
       " 'drivers',\n",
       " 'drives',\n",
       " 'drugs',\n",
       " 'early',\n",
       " 'earth',\n",
       " 'easily',\n",
       " 'east',\n",
       " 'easy',\n",
       " 'ed',\n",
       " 'edu',\n",
       " 'education',\n",
       " 'effect',\n",
       " 'electronic',\n",
       " 'email',\n",
       " 'encryption',\n",
       " 'end',\n",
       " 'enforcement',\n",
       " 'eng',\n",
       " 'engine',\n",
       " 'engineering',\n",
       " 'entry',\n",
       " 'eric',\n",
       " 'error',\n",
       " 'escrow',\n",
       " 'especially',\n",
       " 'event',\n",
       " 'evidence',\n",
       " 'exactly',\n",
       " 'example',\n",
       " 'exist',\n",
       " 'existence',\n",
       " 'exists',\n",
       " 'expect',\n",
       " 'experience',\n",
       " 'explain',\n",
       " 'face',\n",
       " 'fact',\n",
       " 'faith',\n",
       " 'family',\n",
       " 'faq',\n",
       " 'far',\n",
       " 'fast',\n",
       " 'faster',\n",
       " 'father',\n",
       " 'fax',\n",
       " 'fbi',\n",
       " 'federal',\n",
       " 'feel',\n",
       " 'fi',\n",
       " 'field',\n",
       " 'figure',\n",
       " 'file',\n",
       " 'files',\n",
       " 'final',\n",
       " 'finally',\n",
       " 'fine',\n",
       " 'firearms',\n",
       " 'follow',\n",
       " 'following',\n",
       " 'food',\n",
       " 'force',\n",
       " 'form',\n",
       " 'format',\n",
       " 'frank',\n",
       " 'free',\n",
       " 'freedom',\n",
       " 'freenet',\n",
       " 'friend',\n",
       " 'ftp',\n",
       " 'function',\n",
       " 'future',\n",
       " 'g9v',\n",
       " 'game',\n",
       " 'games',\n",
       " 'gary',\n",
       " 'gas',\n",
       " 'gave',\n",
       " 'general',\n",
       " 'generally',\n",
       " 'george',\n",
       " 'germany',\n",
       " 'gets',\n",
       " 'getting',\n",
       " 'gif',\n",
       " 'given',\n",
       " 'gives',\n",
       " 'giz',\n",
       " 'gm',\n",
       " 'gmt',\n",
       " 'goal',\n",
       " 'god',\n",
       " 'goes',\n",
       " 'going',\n",
       " 'good',\n",
       " 'gordon',\n",
       " 'got',\n",
       " 'gov',\n",
       " 'government',\n",
       " 'graphics',\n",
       " 'great',\n",
       " 'greek',\n",
       " 'ground',\n",
       " 'group',\n",
       " 'groups',\n",
       " 'guess',\n",
       " 'gun',\n",
       " 'guns',\n",
       " 'guy',\n",
       " 'half',\n",
       " 'hand',\n",
       " 'happen',\n",
       " 'happened',\n",
       " 'hard',\n",
       " 'hardware',\n",
       " 'harvard',\n",
       " 'haven',\n",
       " 'having',\n",
       " 'head',\n",
       " 'health',\n",
       " 'hear',\n",
       " 'heard',\n",
       " 'hell',\n",
       " 'help',\n",
       " 'henry',\n",
       " 'hi',\n",
       " 'high',\n",
       " 'higher',\n",
       " 'history',\n",
       " 'hit',\n",
       " 'hockey',\n",
       " 'hold',\n",
       " 'home',\n",
       " 'hope',\n",
       " 'host',\n",
       " 'house',\n",
       " 'hp',\n",
       " 'human',\n",
       " 'ibm',\n",
       " 'id',\n",
       " 'ide',\n",
       " 'idea',\n",
       " 'ideas',\n",
       " 'ii',\n",
       " 'illinois',\n",
       " 'image',\n",
       " 'images',\n",
       " 'important',\n",
       " 'include',\n",
       " 'included',\n",
       " 'includes',\n",
       " 'including',\n",
       " 'indiana',\n",
       " 'individual',\n",
       " 'info',\n",
       " 'information',\n",
       " 'input',\n",
       " 'inside',\n",
       " 'instead',\n",
       " 'institute',\n",
       " 'insurance',\n",
       " 'interested',\n",
       " 'interesting',\n",
       " 'interface',\n",
       " 'internal',\n",
       " 'international',\n",
       " 'internet',\n",
       " 'involved',\n",
       " 'isn',\n",
       " 'israel',\n",
       " 'israeli',\n",
       " 'issue',\n",
       " 'issues',\n",
       " 'james',\n",
       " 'jesus',\n",
       " 'jewish',\n",
       " 'jews',\n",
       " 'jim',\n",
       " 'job',\n",
       " 'john',\n",
       " 'jon',\n",
       " 'just',\n",
       " 'keith',\n",
       " 'key',\n",
       " 'keyboard',\n",
       " 'keys',\n",
       " 'keywords',\n",
       " 'kill',\n",
       " 'killed',\n",
       " 'kind',\n",
       " 'king',\n",
       " 'know',\n",
       " 'knowledge',\n",
       " 'known',\n",
       " 'knows',\n",
       " 'la',\n",
       " 'laboratory',\n",
       " 'land',\n",
       " 'language',\n",
       " 'large',\n",
       " 'later',\n",
       " 'launch',\n",
       " 'law',\n",
       " 'laws',\n",
       " 'league',\n",
       " 'learn',\n",
       " 'leave',\n",
       " 'left',\n",
       " 'legal',\n",
       " 'let',\n",
       " 'level',\n",
       " 'library',\n",
       " 'life',\n",
       " 'light',\n",
       " 'like',\n",
       " 'likely',\n",
       " 'limited',\n",
       " 'line',\n",
       " 'list',\n",
       " 'little',\n",
       " 'live',\n",
       " 'living',\n",
       " 'll',\n",
       " 'local',\n",
       " 'long',\n",
       " 'longer',\n",
       " 'look',\n",
       " 'looked',\n",
       " 'looking',\n",
       " 'looks',\n",
       " 'lost',\n",
       " 'lot',\n",
       " 'lots',\n",
       " 'love',\n",
       " 'low',\n",
       " 'ma',\n",
       " 'mac',\n",
       " 'machine',\n",
       " 'machines',\n",
       " 'mail',\n",
       " 'main',\n",
       " 'major',\n",
       " 'make',\n",
       " 'makes',\n",
       " 'making',\n",
       " 'man',\n",
       " 'manager',\n",
       " 'manual',\n",
       " 'mark',\n",
       " 'market',\n",
       " 'math',\n",
       " 'matter',\n",
       " 'max',\n",
       " 'maybe',\n",
       " 'mb',\n",
       " 'mean',\n",
       " 'means',\n",
       " 'media',\n",
       " 'medical',\n",
       " 'members',\n",
       " 'memory',\n",
       " 'men',\n",
       " 'mentioned',\n",
       " 'message',\n",
       " 'michael',\n",
       " 'mike',\n",
       " 'mil',\n",
       " 'military',\n",
       " 'million',\n",
       " 'mind',\n",
       " 'mit',\n",
       " 'mode',\n",
       " 'model',\n",
       " 'modem',\n",
       " 'money',\n",
       " 'monitor',\n",
       " 'months',\n",
       " 'moon',\n",
       " 'moral',\n",
       " 'morality',\n",
       " 'motif',\n",
       " 'mouse',\n",
       " 'mr',\n",
       " 'ms',\n",
       " 'msg',\n",
       " 'na',\n",
       " 'nasa',\n",
       " 'national',\n",
       " 'nature',\n",
       " 'near',\n",
       " 'necessarily',\n",
       " 'necessary',\n",
       " 'need',\n",
       " 'needed',\n",
       " 'needs',\n",
       " 'net',\n",
       " 'netcom',\n",
       " 'network',\n",
       " 'new',\n",
       " 'news',\n",
       " 'newsgroup',\n",
       " 'newsreader',\n",
       " 'nhl',\n",
       " 'nice',\n",
       " 'night',\n",
       " 'nl',\n",
       " 'nntp',\n",
       " 'non',\n",
       " 'normal',\n",
       " 'north',\n",
       " 'note',\n",
       " 'number',\n",
       " 'numbers',\n",
       " 'ny',\n",
       " 'objective',\n",
       " 'obviously',\n",
       " 'offer',\n",
       " 'office',\n",
       " 'oh',\n",
       " 'ohio',\n",
       " 'ok',\n",
       " 'old',\n",
       " 'ones',\n",
       " 'open',\n",
       " 'opinion',\n",
       " 'opinions',\n",
       " 'order',\n",
       " 'org',\n",
       " 'original',\n",
       " 'os',\n",
       " 'output',\n",
       " 'outside',\n",
       " 'package',\n",
       " 'page',\n",
       " 'paper',\n",
       " 'particular',\n",
       " 'parts',\n",
       " 'past',\n",
       " 'pat',\n",
       " 'paul',\n",
       " 'pay',\n",
       " 'pc',\n",
       " 'peace',\n",
       " 'people',\n",
       " 'performance',\n",
       " 'period',\n",
       " 'person',\n",
       " 'personal',\n",
       " 'peter',\n",
       " 'phone',\n",
       " 'pick',\n",
       " 'pitt',\n",
       " 'pittsburgh',\n",
       " 'pl',\n",
       " 'place',\n",
       " 'places',\n",
       " 'plan',\n",
       " 'play',\n",
       " 'player',\n",
       " 'players',\n",
       " 'plus',\n",
       " 'point',\n",
       " 'points',\n",
       " 'police',\n",
       " 'policy',\n",
       " 'political',\n",
       " 'population',\n",
       " 'port',\n",
       " 'position',\n",
       " 'possible',\n",
       " 'post',\n",
       " 'posted',\n",
       " 'posting',\n",
       " 'power',\n",
       " 'present',\n",
       " 'president',\n",
       " 'press',\n",
       " 'pretty',\n",
       " 'previous',\n",
       " 'price',\n",
       " 'printer',\n",
       " 'privacy',\n",
       " 'private',\n",
       " 'pro',\n",
       " 'probably',\n",
       " 'problem',\n",
       " 'problems',\n",
       " 'process',\n",
       " 'product',\n",
       " 'products',\n",
       " 'program',\n",
       " 'programs',\n",
       " 'project',\n",
       " 'protect',\n",
       " 'provide',\n",
       " 'pub',\n",
       " 'public',\n",
       " 'purdue',\n",
       " 'purpose',\n",
       " 'quality',\n",
       " 'question',\n",
       " 'questions',\n",
       " 'quite',\n",
       " 'radio',\n",
       " 'ram',\n",
       " 'rate',\n",
       " 'ray',\n",
       " 'read',\n",
       " 'reading',\n",
       " 'real',\n",
       " 'really',\n",
       " 'reason',\n",
       " 'reasonable',\n",
       " 'reasons',\n",
       " 'received',\n",
       " 'recently',\n",
       " 'record',\n",
       " 'red',\n",
       " 'reference',\n",
       " 'related',\n",
       " 'release',\n",
       " 'religion',\n",
       " 'religious',\n",
       " 'remember',\n",
       " 'reply',\n",
       " 'report',\n",
       " 'request',\n",
       " 'require',\n",
       " 'required',\n",
       " 'research',\n",
       " 'response',\n",
       " 'rest',\n",
       " 'result',\n",
       " 'results',\n",
       " 'return',\n",
       " 'richard',\n",
       " 'right',\n",
       " 'rights',\n",
       " 'road',\n",
       " 'robert',\n",
       " 'rochester',\n",
       " 'roger',\n",
       " 'rom',\n",
       " 'rules',\n",
       " 'run',\n",
       " 'running',\n",
       " 'runs',\n",
       " 'russian',\n",
       " 'rutgers',\n",
       " 'safety',\n",
       " 'said',\n",
       " 'sale',\n",
       " 'san',\n",
       " 'save',\n",
       " 'saw',\n",
       " 'say',\n",
       " 'saying',\n",
       " 'says',\n",
       " 'school',\n",
       " 'sci',\n",
       " 'science',\n",
       " 'scientific',\n",
       " 'scott',\n",
       " 'screen',\n",
       " 'scsi',\n",
       " 'se',\n",
       " 'season',\n",
       " 'second',\n",
       " 'secret',\n",
       " 'section',\n",
       " 'secure',\n",
       " 'security',\n",
       " 'seen',\n",
       " 'self',\n",
       " 'sell',\n",
       " 'send',\n",
       " 'sense',\n",
       " 'sent',\n",
       " 'serial',\n",
       " 'series',\n",
       " 'server',\n",
       " 'service',\n",
       " 'services',\n",
       " 'set',\n",
       " 'sgi',\n",
       " 'shall',\n",
       " 'short',\n",
       " 'shot',\n",
       " 'similar',\n",
       " 'simple',\n",
       " 'simply',\n",
       " 'single',\n",
       " 'site',\n",
       " 'situation',\n",
       " 'size',\n",
       " 'small',\n",
       " 'smith',\n",
       " 'society',\n",
       " 'software',\n",
       " 'solution',\n",
       " 'son',\n",
       " 'soon',\n",
       " 'sorry',\n",
       " 'sort',\n",
       " 'sound',\n",
       " 'sounds',\n",
       " 'source',\n",
       " 'sources',\n",
       " 'south',\n",
       " 'space',\n",
       " 'speak',\n",
       " 'special',\n",
       " 'specific',\n",
       " 'speed',\n",
       " 'st',\n",
       " 'standard',\n",
       " 'stanford',\n",
       " 'start',\n",
       " 'started',\n",
       " 'state',\n",
       " 'statement',\n",
       " 'states',\n",
       " 'station',\n",
       " 'steve',\n",
       " 'stop',\n",
       " 'story',\n",
       " 'stratus',\n",
       " 'strong',\n",
       " 'student',\n",
       " 'study',\n",
       " 'stuff',\n",
       " 'stupid',\n",
       " 'suggest',\n",
       " 'summary',\n",
       " 'sun',\n",
       " 'support',\n",
       " 'supposed',\n",
       " 'sure',\n",
       " 'systems',\n",
       " 'taken',\n",
       " 'takes',\n",
       " 'taking',\n",
       " 'talk',\n",
       " 'talking',\n",
       " 'tape',\n",
       " 'tax',\n",
       " 'team',\n",
       " 'teams',\n",
       " 'technical',\n",
       " 'technology',\n",
       " 'tell',\n",
       " 'term',\n",
       " 'test',\n",
       " 'texas',\n",
       " 'text',\n",
       " 'thank',\n",
       " 'thanks',\n",
       " 'theory',\n",
       " 'thing',\n",
       " 'things',\n",
       " 'think',\n",
       " 'thinking',\n",
       " 'thomas',\n",
       " 'thought',\n",
       " 'tim',\n",
       " 'time',\n",
       " 'times',\n",
       " 'tin',\n",
       " 'title',\n",
       " 'today',\n",
       " 'told',\n",
       " 'tom',\n",
       " 'took',\n",
       " 'toronto',\n",
       " 'total',\n",
       " 'tried',\n",
       " 'true',\n",
       " 'truth',\n",
       " 'try',\n",
       " 'trying',\n",
       " 'turkey',\n",
       " 'turkish',\n",
       " 'turks',\n",
       " 'turn',\n",
       " 'tv',\n",
       " 'type',\n",
       " 'uiuc',\n",
       " 'uk',\n",
       " 'understand',\n",
       " 'unfortunately',\n",
       " 'uni',\n",
       " 'unit',\n",
       " 'united',\n",
       " 'univ',\n",
       " 'university',\n",
       " 'unix',\n",
       " 'unless',\n",
       " 'usa',\n",
       " 'use',\n",
       " 'used',\n",
       " 'useful',\n",
       " 'usenet',\n",
       " 'user',\n",
       " 'users',\n",
       " 'uses',\n",
       " 'using',\n",
       " 'usually',\n",
       " 'utexas',\n",
       " 'uucp',\n",
       " 'uunet',\n",
       " 'value',\n",
       " 'values',\n",
       " 'various',\n",
       " 've',\n",
       " 'version',\n",
       " 'video',\n",
       " 'view',\n",
       " 'virginia',\n",
       " 'voice',\n",
       " 'vs',\n",
       " 'want',\n",
       " 'wanted',\n",
       " 'wants',\n",
       " 'war',\n",
       " 'washington',\n",
       " 'wasn',\n",
       " 'water',\n",
       " 'way',\n",
       " 'ways',\n",
       " 'weapons',\n",
       " 'week',\n",
       " 'weeks',\n",
       " 'went',\n",
       " 'west',\n",
       " 'western',\n",
       " 'white',\n",
       " 'widget',\n",
       " 'willing',\n",
       " 'win',\n",
       " 'window',\n",
       " 'windows',\n",
       " 'wish',\n",
       " 'wm',\n",
       " 'women',\n",
       " 'won',\n",
       " 'word',\n",
       " 'words',\n",
       " 'work',\n",
       " 'working',\n",
       " 'works',\n",
       " 'world',\n",
       " 'worse',\n",
       " 'worth',\n",
       " 'wouldn',\n",
       " 'write',\n",
       " 'writes',\n",
       " 'written',\n",
       " 'wrong',\n",
       " 'wrote',\n",
       " 'year',\n",
       " 'years',\n",
       " 'yes',\n",
       " 'york',\n",
       " 'young']"
      ]
     },
     "execution_count": 15,
     "metadata": {},
     "output_type": "execute_result"
    }
   ],
   "source": [
    "words = tf_vectorizer.get_feature_names()\n",
    "words"
   ]
  },
  {
   "cell_type": "markdown",
   "metadata": {},
   "source": [
    "<p>TfidfVectorizer</p>"
   ]
  },
  {
   "cell_type": "code",
   "execution_count": 16,
   "metadata": {
    "collapsed": false
   },
   "outputs": [],
   "source": [
    "vectorizer = TfidfVectorizer(max_df=0.9, max_features=1000, min_df=4, stop_words=\"english\",\n",
    "                             use_idf=True)\n",
    "\n",
    "x_tfidf = vectorizer.fit_transform(x)"
   ]
  },
  {
   "cell_type": "code",
   "execution_count": 17,
   "metadata": {
    "collapsed": false
   },
   "outputs": [
    {
     "data": {
      "text/plain": [
       "0.99834906995235795"
      ]
     },
     "execution_count": 17,
     "metadata": {},
     "output_type": "execute_result"
    }
   ],
   "source": [
    "x_tfidf.max()"
   ]
  },
  {
   "cell_type": "code",
   "execution_count": 18,
   "metadata": {
    "collapsed": false
   },
   "outputs": [
    {
     "data": {
      "text/plain": [
       "matrix([[ 4.06543659],\n",
       "        [ 4.05475677],\n",
       "        [ 7.51576825],\n",
       "        ..., \n",
       "        [ 3.99597395],\n",
       "        [ 4.78817207],\n",
       "        [ 4.33007559]])"
      ]
     },
     "execution_count": 18,
     "metadata": {},
     "output_type": "execute_result"
    }
   ],
   "source": [
    "x_tfidf.sum(axis=1) #показать что это не вероятность (в сумме не дает 1)"
   ]
  },
  {
   "cell_type": "code",
   "execution_count": 19,
   "metadata": {
    "collapsed": false
   },
   "outputs": [
    {
     "data": {
      "text/plain": [
       "(1, 1000)"
      ]
     },
     "execution_count": 19,
     "metadata": {},
     "output_type": "execute_result"
    }
   ],
   "source": [
    "np.sum(x_tfidf, axis=0).shape"
   ]
  },
  {
   "cell_type": "code",
   "execution_count": 20,
   "metadata": {
    "collapsed": false
   },
   "outputs": [
    {
     "data": {
      "text/plain": [
       "(11314, 1)"
      ]
     },
     "execution_count": 20,
     "metadata": {},
     "output_type": "execute_result"
    }
   ],
   "source": [
    "x_tfidf.sum(axis=1).shape"
   ]
  },
  {
   "cell_type": "code",
   "execution_count": 21,
   "metadata": {
    "collapsed": false
   },
   "outputs": [
    {
     "data": {
      "text/plain": [
       "array([[ 0.        ,  0.        ,  0.        , ...,  0.        ,\n",
       "         0.        ,  0.        ],\n",
       "       [ 0.        ,  0.        ,  0.        , ...,  0.        ,\n",
       "         0.        ,  0.        ],\n",
       "       [ 0.        ,  0.        ,  0.        , ...,  0.        ,\n",
       "         0.        ,  0.        ],\n",
       "       [ 0.        ,  0.        ,  0.        , ...,  0.        ,\n",
       "         0.        ,  0.        ],\n",
       "       [ 0.        ,  0.        ,  0.        , ...,  0.12066263,\n",
       "         0.        ,  0.        ]])"
      ]
     },
     "execution_count": 21,
     "metadata": {},
     "output_type": "execute_result"
    }
   ],
   "source": [
    "x_tfidf[:5].toarray()"
   ]
  },
  {
   "cell_type": "code",
   "execution_count": 22,
   "metadata": {
    "collapsed": false
   },
   "outputs": [
    {
     "data": {
      "text/plain": [
       "(11314, 1000)"
      ]
     },
     "execution_count": 22,
     "metadata": {},
     "output_type": "execute_result"
    }
   ],
   "source": [
    "x_tfidf.shape"
   ]
  },
  {
   "cell_type": "markdown",
   "metadata": {},
   "source": [
    "<a name=\"2\"></a>\n",
    "<div style=\"display:table; width:100%; padding-top:10px; padding-bottom:10px; border-bottom:1px solid lightgrey\">\n",
    "    <div style=\"display:table-row\">\n",
    "        <div style=\"display:table-cell; width:80%; font-size:14pt; font-weight:bold\">2. K-means</div>\n",
    "    \t<div style=\"display:table-cell; width:20%; text-align:center; background-color:whitesmoke; border:1px solid lightgrey\"><a href=\"#0\">К содержанию</a></div>\n",
    "    </div>\n",
    "</div>"
   ]
  },
  {
   "cell_type": "code",
   "execution_count": 23,
   "metadata": {
    "collapsed": true
   },
   "outputs": [],
   "source": [
    "km = KMeans(n_clusters=10, init=\"k-means++\", max_iter=50, n_init=5, verbose=True)\n",
    "#n_init - количество повторений, Инерция чтобы центр кластера был ближе к точкам"
   ]
  },
  {
   "cell_type": "code",
   "execution_count": 24,
   "metadata": {
    "collapsed": false
   },
   "outputs": [
    {
     "name": "stdout",
     "output_type": "stream",
     "text": [
      "Initialization complete\n",
      "Iteration  0, inertia 19484.001\n",
      "Iteration  1, inertia 10483.381\n",
      "Iteration  2, inertia 10380.166\n",
      "Iteration  3, inertia 10343.728\n",
      "Iteration  4, inertia 10332.943\n",
      "Iteration  5, inertia 10329.077\n",
      "Iteration  6, inertia 10325.843\n",
      "Iteration  7, inertia 10324.283\n",
      "Iteration  8, inertia 10323.112\n",
      "Iteration  9, inertia 10321.147\n",
      "Iteration 10, inertia 10319.536\n",
      "Iteration 11, inertia 10319.321\n",
      "Iteration 12, inertia 10319.241\n",
      "Iteration 13, inertia 10319.222\n",
      "Iteration 14, inertia 10319.218\n",
      "Iteration 15, inertia 10319.212\n",
      "Iteration 16, inertia 10319.210\n",
      "Iteration 17, inertia 10319.207\n",
      "Iteration 18, inertia 10319.206\n",
      "Converged at iteration 18: center shift 0.000000e+00 within tolerance 9.527952e-08\n",
      "Initialization complete\n",
      "Iteration  0, inertia 19256.166\n",
      "Iteration  1, inertia 10449.841\n",
      "Iteration  2, inertia 10371.946\n",
      "Iteration  3, inertia 10351.937\n",
      "Iteration  4, inertia 10341.720\n",
      "Iteration  5, inertia 10331.212\n",
      "Iteration  6, inertia 10324.122\n",
      "Iteration  7, inertia 10320.789\n",
      "Iteration  8, inertia 10318.220\n",
      "Iteration  9, inertia 10316.290\n",
      "Iteration 10, inertia 10314.856\n",
      "Iteration 11, inertia 10313.126\n",
      "Iteration 12, inertia 10310.399\n",
      "Iteration 13, inertia 10309.119\n",
      "Iteration 14, inertia 10308.418\n",
      "Iteration 15, inertia 10307.964\n",
      "Iteration 16, inertia 10307.692\n",
      "Iteration 17, inertia 10307.539\n",
      "Iteration 18, inertia 10307.389\n",
      "Iteration 19, inertia 10307.138\n",
      "Iteration 20, inertia 10307.040\n",
      "Iteration 21, inertia 10306.957\n",
      "Iteration 22, inertia 10306.911\n",
      "Iteration 23, inertia 10306.877\n",
      "Iteration 24, inertia 10306.856\n",
      "Iteration 25, inertia 10306.830\n",
      "Iteration 26, inertia 10306.806\n",
      "Iteration 27, inertia 10306.774\n",
      "Iteration 28, inertia 10306.766\n",
      "Iteration 29, inertia 10306.760\n",
      "Iteration 30, inertia 10306.756\n",
      "Converged at iteration 30: center shift 0.000000e+00 within tolerance 9.527952e-08\n",
      "Initialization complete\n",
      "Iteration  0, inertia 19523.358\n",
      "Iteration  1, inertia 10513.957\n",
      "Iteration  2, inertia 10410.244\n",
      "Iteration  3, inertia 10359.512\n",
      "Iteration  4, inertia 10343.003\n",
      "Iteration  5, inertia 10333.464\n",
      "Iteration  6, inertia 10326.137\n",
      "Iteration  7, inertia 10323.474\n",
      "Iteration  8, inertia 10322.266\n",
      "Iteration  9, inertia 10320.729\n",
      "Iteration 10, inertia 10317.620\n",
      "Iteration 11, inertia 10314.713\n",
      "Iteration 12, inertia 10313.352\n",
      "Iteration 13, inertia 10311.342\n",
      "Iteration 14, inertia 10310.532\n",
      "Iteration 15, inertia 10309.915\n",
      "Iteration 16, inertia 10309.427\n",
      "Iteration 17, inertia 10309.027\n",
      "Iteration 18, inertia 10308.619\n",
      "Iteration 19, inertia 10308.242\n",
      "Iteration 20, inertia 10307.992\n",
      "Iteration 21, inertia 10307.859\n",
      "Iteration 22, inertia 10307.740\n",
      "Iteration 23, inertia 10307.640\n",
      "Iteration 24, inertia 10307.568\n",
      "Iteration 25, inertia 10307.491\n",
      "Iteration 26, inertia 10307.433\n",
      "Iteration 27, inertia 10307.383\n",
      "Iteration 28, inertia 10307.336\n",
      "Iteration 29, inertia 10307.312\n",
      "Iteration 30, inertia 10307.295\n",
      "Iteration 31, inertia 10307.281\n",
      "Iteration 32, inertia 10307.270\n",
      "Iteration 33, inertia 10307.258\n",
      "Iteration 34, inertia 10307.249\n",
      "Iteration 35, inertia 10307.239\n",
      "Iteration 36, inertia 10307.231\n",
      "Iteration 37, inertia 10307.222\n",
      "Iteration 38, inertia 10307.220\n",
      "Iteration 39, inertia 10307.220\n",
      "Converged at iteration 39: center shift 0.000000e+00 within tolerance 9.527952e-08\n",
      "Initialization complete\n",
      "Iteration  0, inertia 19531.489\n",
      "Iteration  1, inertia 10487.898\n",
      "Iteration  2, inertia 10389.142\n",
      "Iteration  3, inertia 10355.012\n",
      "Iteration  4, inertia 10338.228\n",
      "Iteration  5, inertia 10324.118\n",
      "Iteration  6, inertia 10319.036\n",
      "Iteration  7, inertia 10317.741\n",
      "Iteration  8, inertia 10316.729\n",
      "Iteration  9, inertia 10315.863\n",
      "Iteration 10, inertia 10314.666\n",
      "Iteration 11, inertia 10312.194\n",
      "Iteration 12, inertia 10309.390\n",
      "Iteration 13, inertia 10309.126\n",
      "Iteration 14, inertia 10309.029\n",
      "Iteration 15, inertia 10309.006\n",
      "Iteration 16, inertia 10308.997\n",
      "Iteration 17, inertia 10308.994\n",
      "Iteration 18, inertia 10308.988\n",
      "Iteration 19, inertia 10308.984\n",
      "Iteration 20, inertia 10308.980\n",
      "Iteration 21, inertia 10308.978\n",
      "Converged at iteration 21: center shift 0.000000e+00 within tolerance 9.527952e-08\n",
      "Initialization complete\n",
      "Iteration  0, inertia 19293.448\n",
      "Iteration  1, inertia 10488.055\n",
      "Iteration  2, inertia 10396.293\n",
      "Iteration  3, inertia 10357.765\n",
      "Iteration  4, inertia 10343.495\n",
      "Iteration  5, inertia 10335.894\n",
      "Iteration  6, inertia 10331.998\n",
      "Iteration  7, inertia 10328.279\n",
      "Iteration  8, inertia 10325.914\n",
      "Iteration  9, inertia 10324.257\n",
      "Iteration 10, inertia 10322.058\n",
      "Iteration 11, inertia 10320.124\n",
      "Iteration 12, inertia 10318.764\n",
      "Iteration 13, inertia 10316.668\n",
      "Iteration 14, inertia 10313.984\n",
      "Iteration 15, inertia 10311.580\n",
      "Iteration 16, inertia 10310.471\n",
      "Iteration 17, inertia 10309.919\n",
      "Iteration 18, inertia 10309.327\n",
      "Iteration 19, inertia 10308.710\n",
      "Iteration 20, inertia 10307.599\n",
      "Iteration 21, inertia 10305.040\n",
      "Iteration 22, inertia 10302.435\n",
      "Iteration 23, inertia 10299.956\n",
      "Iteration 24, inertia 10299.655\n",
      "Iteration 25, inertia 10299.446\n",
      "Iteration 26, inertia 10299.305\n",
      "Iteration 27, inertia 10299.184\n",
      "Iteration 28, inertia 10299.028\n",
      "Iteration 29, inertia 10298.898\n",
      "Iteration 30, inertia 10298.786\n",
      "Iteration 31, inertia 10298.700\n",
      "Iteration 32, inertia 10298.638\n",
      "Iteration 33, inertia 10298.596\n",
      "Iteration 34, inertia 10298.561\n",
      "Iteration 35, inertia 10298.494\n",
      "Iteration 36, inertia 10298.440\n",
      "Iteration 37, inertia 10298.380\n",
      "Iteration 38, inertia 10298.300\n",
      "Iteration 39, inertia 10298.228\n",
      "Iteration 40, inertia 10298.164\n",
      "Iteration 41, inertia 10298.104\n",
      "Iteration 42, inertia 10298.030\n",
      "Iteration 43, inertia 10297.971\n",
      "Iteration 44, inertia 10297.930\n",
      "Iteration 45, inertia 10297.905\n",
      "Iteration 46, inertia 10297.874\n",
      "Iteration 47, inertia 10297.855\n",
      "Iteration 48, inertia 10297.843\n",
      "Iteration 49, inertia 10297.832\n"
     ]
    },
    {
     "data": {
      "text/plain": [
       "KMeans(algorithm='auto', copy_x=True, init='k-means++', max_iter=50,\n",
       "    n_clusters=10, n_init=5, n_jobs=1, precompute_distances='auto',\n",
       "    random_state=None, tol=0.0001, verbose=True)"
      ]
     },
     "execution_count": 24,
     "metadata": {},
     "output_type": "execute_result"
    }
   ],
   "source": [
    "km.fit(x_tfidf)"
   ]
  },
  {
   "cell_type": "code",
   "execution_count": 25,
   "metadata": {
    "collapsed": false
   },
   "outputs": [
    {
     "data": {
      "text/plain": [
       "(11314,)"
      ]
     },
     "execution_count": 25,
     "metadata": {},
     "output_type": "execute_result"
    }
   ],
   "source": [
    "km.labels_.shape"
   ]
  },
  {
   "cell_type": "code",
   "execution_count": 26,
   "metadata": {
    "collapsed": false
   },
   "outputs": [
    {
     "data": {
      "text/plain": [
       "(10, 1000)"
      ]
     },
     "execution_count": 26,
     "metadata": {},
     "output_type": "execute_result"
    }
   ],
   "source": [
    "km.cluster_centers_.shape"
   ]
  },
  {
   "cell_type": "code",
   "execution_count": 27,
   "metadata": {
    "collapsed": false
   },
   "outputs": [
    {
     "data": {
      "text/plain": [
       "10297.822499780208"
      ]
     },
     "execution_count": 27,
     "metadata": {},
     "output_type": "execute_result"
    }
   ],
   "source": [
    "km.inertia_"
   ]
  },
  {
   "cell_type": "markdown",
   "metadata": {},
   "source": [
    "<p>Подбор количества кластеров</p>"
   ]
  },
  {
   "cell_type": "code",
   "execution_count": 28,
   "metadata": {
    "collapsed": true
   },
   "outputs": [],
   "source": [
    "#наилучшее число кластеров - ?"
   ]
  },
  {
   "cell_type": "code",
   "execution_count": 30,
   "metadata": {
    "collapsed": false
   },
   "outputs": [],
   "source": [
    "inercia = []\n",
    "sil = []\n",
    "for i in range(3, 20):\n",
    "    km = KMeans(n_clusters=i, init='k-means++', max_iter=10, n_init=1, verbose=False)\n",
    "    km.fit(x_tfidf)\n",
    "    inercia.append(km.inertia_)\n",
    "    s = metrics.silhouette_score(x_tfidf, km.labels_)\n",
    "    sil.append(s) #метрика силуэтта качества кластеризации"
   ]
  },
  {
   "cell_type": "code",
   "execution_count": 31,
   "metadata": {
    "collapsed": false
   },
   "outputs": [
    {
     "data": {
      "image/png": "[encoded data removed]",
      "text/plain": [
       "<matplotlib.figure.Figure at 0xaa6f3c07f0>"
      ]
     },
     "metadata": {},
     "output_type": "display_data"
    }
   ],
   "source": [
    "plt.figure(1, figsize=[16,4])\n",
    "\n",
    "plt.subplot(1,2,1)\n",
    "plt.plot(range(3,20), inercia, \"-o\")\n",
    "plt.grid(True)\n",
    "\n",
    "plt.subplot(1,2,2)\n",
    "plt.plot(range(3,20), sil, \"-o\")\n",
    "plt.grid(True)"
   ]
  },
  {
   "cell_type": "markdown",
   "metadata": {},
   "source": [
    "<p>Top 20 слов для каждого кластера</p>"
   ]
  },
  {
   "cell_type": "code",
   "execution_count": 32,
   "metadata": {
    "collapsed": true
   },
   "outputs": [],
   "source": [
    "# TODO"
   ]
  },
  {
   "cell_type": "markdown",
   "metadata": {},
   "source": [
    "<a name=\"3\"></a>\n",
    "<div style=\"display:table; width:100%; padding-top:10px; padding-bottom:10px; border-bottom:1px solid lightgrey\">\n",
    "    <div style=\"display:table-row\">\n",
    "        <div style=\"display:table-cell; width:80%; font-size:14pt; font-weight:bold\">3. Latent Semantic Analisys (LSA)</div>\n",
    "    \t<div style=\"display:table-cell; width:20%; text-align:center; background-color:whitesmoke; border:1px solid lightgrey\"><a href=\"#0\">К содержанию</a></div>\n",
    "    </div>\n",
    "</div>"
   ]
  },
  {
   "cell_type": "code",
   "execution_count": 33,
   "metadata": {
    "collapsed": false
   },
   "outputs": [],
   "source": [
    "svd = TruncatedSVD(10)"
   ]
  },
  {
   "cell_type": "code",
   "execution_count": 34,
   "metadata": {
    "collapsed": true
   },
   "outputs": [],
   "source": [
    "normalizer = Normalizer(copy=False)"
   ]
  },
  {
   "cell_type": "code",
   "execution_count": 35,
   "metadata": {
    "collapsed": false
   },
   "outputs": [
    {
     "data": {
      "text/plain": [
       "(11314, 10)"
      ]
     },
     "execution_count": 35,
     "metadata": {},
     "output_type": "execute_result"
    }
   ],
   "source": [
    "svd.fit_transform(x_tfidf).shape"
   ]
  },
  {
   "cell_type": "code",
   "execution_count": 37,
   "metadata": {
    "collapsed": false
   },
   "outputs": [],
   "source": [
    "#http://scikit-learn.org/stable/auto_examples/text/document_clustering.html"
   ]
  },
  {
   "cell_type": "markdown",
   "metadata": {},
   "source": [
    "<a name=\"4\"></a>\n",
    "<div style=\"display:table; width:100%; padding-top:10px; padding-bottom:10px; border-bottom:1px solid lightgrey\">\n",
    "    <div style=\"display:table-row\">\n",
    "        <div style=\"display:table-cell; width:80%; font-size:14pt; font-weight:bold\">4. Latent Dirichlet Allocation (LDA)</div>\n",
    "    \t<div style=\"display:table-cell; width:20%; text-align:center; background-color:whitesmoke; border:1px solid lightgrey\"><a href=\"#0\">К содержанию</a></div>\n",
    "    </div>\n",
    "</div>"
   ]
  },
  {
   "cell_type": "code",
   "execution_count": 38,
   "metadata": {
    "collapsed": true
   },
   "outputs": [],
   "source": [
    "lda = LatentDirichletAllocation(n_topics=10, max_iter=5, learning_method=\"online\", \n",
    "                                learning_offset=50., random_state=0)"
   ]
  },
  {
   "cell_type": "code",
   "execution_count": 39,
   "metadata": {
    "collapsed": false
   },
   "outputs": [
    {
     "data": {
      "text/plain": [
       "LatentDirichletAllocation(batch_size=128, doc_topic_prior=None,\n",
       "             evaluate_every=-1, learning_decay=0.7,\n",
       "             learning_method='online', learning_offset=50.0,\n",
       "             max_doc_update_iter=100, max_iter=5, mean_change_tol=0.001,\n",
       "             n_jobs=1, n_topics=10, perp_tol=0.1, random_state=0,\n",
       "             topic_word_prior=None, total_samples=1000000.0, verbose=0)"
      ]
     },
     "execution_count": 39,
     "metadata": {},
     "output_type": "execute_result"
    }
   ],
   "source": [
    "lda.fit(x_tf)"
   ]
  },
  {
   "cell_type": "code",
   "execution_count": 40,
   "metadata": {
    "collapsed": false
   },
   "outputs": [
    {
     "data": {
      "text/plain": [
       "array([[  8.99527186e+00,   6.34289002e+00,   1.23891029e-01, ...,\n",
       "          2.73646073e+01,   1.28508567e-01,   1.22610421e-01],\n",
       "       [  1.00270524e-01,   9.51672618e+01,   1.00252454e-01, ...,\n",
       "          1.03437939e+02,   5.22743494e+01,   1.01684883e-01],\n",
       "       [  1.45924129e+03,   3.56826232e+02,   3.37939807e+02, ...,\n",
       "          4.65895570e-01,   5.53707738e+01,   4.38565408e+01],\n",
       "       ..., \n",
       "       [  1.00348302e-01,   4.78768163e+02,   1.00045317e-01, ...,\n",
       "          1.01370199e+02,   1.52779316e+02,   1.92572353e+02],\n",
       "       [  1.00126321e-01,   2.92752498e-01,   1.00357762e-01, ...,\n",
       "          3.60495936e+01,   1.54830637e+02,   1.32988117e+02],\n",
       "       [  1.00215708e-01,   3.10211052e-01,   1.49714614e-01, ...,\n",
       "          3.13467518e+01,   7.47965949e+01,   4.33815145e+01]])"
      ]
     },
     "execution_count": 40,
     "metadata": {},
     "output_type": "execute_result"
    }
   ],
   "source": [
    "lda.components_"
   ]
  },
  {
   "cell_type": "code",
   "execution_count": 41,
   "metadata": {
    "collapsed": false
   },
   "outputs": [
    {
     "data": {
      "text/plain": [
       "(10, 1000)"
      ]
     },
     "execution_count": 41,
     "metadata": {},
     "output_type": "execute_result"
    }
   ],
   "source": [
    "lda.components_.shape"
   ]
  },
  {
   "cell_type": "code",
   "execution_count": 42,
   "metadata": {
    "collapsed": false
   },
   "outputs": [
    {
     "data": {
      "text/plain": [
       "array([  8.99527186e+00,   6.34289002e+00,   1.23891029e-01,\n",
       "         1.70098037e-01,   1.04779283e-01,   1.13538327e-01,\n",
       "         1.00050536e-01,   1.00023336e-01,   1.45116400e+02,\n",
       "         8.79917017e+01,   5.41517611e+01,   3.00572497e+01,\n",
       "         2.67859520e+01,   2.01194545e+01,   1.00901619e-01,\n",
       "         7.38783421e+01,   4.62042679e+01,   9.44979978e+01,\n",
       "         1.12015090e+01,   3.26819272e+01,   1.83015940e-01,\n",
       "         1.26312254e+01,   1.90391154e-01,   1.00019564e-01,\n",
       "         1.00018446e-01,   3.50781383e+01,   3.06915272e+01,\n",
       "         4.90103591e+01,   3.20709375e+01,   4.54983423e+01,\n",
       "         1.84601104e+01,   6.08854815e+01,   3.44032383e+01,\n",
       "         1.42339245e+00,   1.06808618e+01,   3.51844971e+01,\n",
       "         1.00015195e-01,   1.07043603e+02,   7.35485246e+00,\n",
       "         2.14553626e+01,   6.13689504e+00,   2.46320500e+01,\n",
       "         1.00017861e-01,   3.45811082e+01,   1.44734924e+01,\n",
       "         1.12460519e+01,   5.66559295e+00,   1.57888338e+00,\n",
       "         1.02202398e-01,   1.00019382e-01,   9.41182412e+01,\n",
       "         2.25523906e+02,   6.00162120e+00,   8.98460608e+00,\n",
       "         5.84297947e+00,   9.35460660e+00,   7.17178285e+00,\n",
       "         9.66641949e+00,   7.84378296e+00,   3.29715144e+01,\n",
       "         4.73066413e+01,   7.41993155e+01,   4.34704430e+00,\n",
       "         3.62673790e+00,   3.17485023e+01,   1.00020289e-01,\n",
       "         9.52389037e+00,   8.44217962e+00,   1.00018962e-01,\n",
       "         2.30434636e+02,   1.01038321e+01,   3.38857980e+01,\n",
       "         1.15591957e-01,   3.70306776e+00,   2.65364221e+00,\n",
       "         6.35892093e+02,   5.54500914e+02,   1.00016195e-01,\n",
       "         1.21247113e+02,   4.03474144e-01,   1.00074436e-01,\n",
       "         9.41572229e+02,   1.17586756e+01,   2.10352102e+00,\n",
       "         2.06085201e+00,   1.00054856e-01,   4.88831546e+01,\n",
       "         3.22358937e+01,   2.92760945e+00,   3.14736267e+01,\n",
       "         1.14583118e-01,   7.41809469e+00,   5.12189038e+01,\n",
       "         2.91673805e+01,   5.74811960e+00,   1.13016256e-01,\n",
       "         2.73379400e+01,   9.11195244e+01,   3.36851735e+02,\n",
       "         3.17909261e+01,   4.33575615e+00,   1.36081437e-01,\n",
       "         8.22552997e-01,   1.00143872e-01,   4.95662113e+01,\n",
       "         9.59814786e+00,   3.37007830e+01,   1.00047524e-01,\n",
       "         6.10574431e+01,   2.81341589e+01,   8.96173382e-01,\n",
       "         1.00758021e-01,   6.13444208e+00,   1.40548480e-01,\n",
       "         5.86077516e+00,   1.92924864e-01,   1.00040198e-01,\n",
       "         3.62385740e+00,   6.10400473e+01,   5.07450007e+01,\n",
       "         1.01235988e-01,   1.00031988e-01,   1.00076300e-01,\n",
       "         1.00044577e-01,   1.00196249e-01,   1.00200200e-01,\n",
       "         3.86194417e+02,   9.02856739e+01,   2.53883407e+01,\n",
       "         1.08916455e+02,   5.75244774e+01,   1.00019497e-01,\n",
       "         1.00018214e-01,   4.46741957e+02,   7.04260264e+01,\n",
       "         1.00407810e-01,   1.00292129e-01,   1.02772644e-01,\n",
       "         1.84779376e+02,   3.63581831e+01,   1.44155108e+01,\n",
       "         3.04738973e+01,   1.00019626e-01,   1.00017193e-01,\n",
       "         3.86217686e+01,   3.51191489e+01,   2.52281352e+01,\n",
       "         1.43019917e-01,   1.59717607e+01,   1.40393444e+01,\n",
       "         7.97977841e+01,   1.00031605e-01,   3.08800359e+01,\n",
       "         5.99003937e+00,   1.33225176e+02,   1.00487513e+02,\n",
       "         1.00019372e-01,   1.00647203e-01,   1.58683551e+02,\n",
       "         1.60129154e+02,   3.17086069e+02,   2.03668822e-01,\n",
       "         1.50913927e+02,   1.16270303e+02,   1.00148236e-01,\n",
       "         2.29822208e+01,   8.50681556e-01,   6.13081949e-01,\n",
       "         7.55952574e+01,   1.39531204e+01,   2.32462815e+00,\n",
       "         1.62161527e+00,   1.08900267e-01,   2.12956198e+01,\n",
       "         7.48502372e+01,   1.08741593e+02,   1.28494927e-01,\n",
       "         1.00051695e-01,   7.89335908e+01,   2.26375055e+01,\n",
       "         9.37353558e+01,   1.02321054e-01,   1.00679505e+02,\n",
       "         1.77457403e+02,   2.04643389e+02,   3.52693406e+00,\n",
       "         2.56008848e+01,   7.69334406e+01,   1.00083326e-01,\n",
       "         2.15331338e+00,   1.13539894e+01,   6.37268913e+01,\n",
       "         1.00239903e-01,   3.12744144e-01,   5.61644125e+01,\n",
       "         2.04555916e+01,   1.50492643e-01,   1.17178075e+02,\n",
       "         1.03072241e-01,   1.11600381e-01,   2.70225031e+02,\n",
       "         1.02555616e-01,   1.03611193e-01,   6.86543559e+01,\n",
       "         2.62996297e+01,   5.41338944e+00,   1.88497045e+01,\n",
       "         6.91964098e+01,   1.85548257e+02,   4.87797600e+01,\n",
       "         2.43677545e+00,   1.00501747e-01,   1.00089392e-01,\n",
       "         1.01483823e+03,   2.43895345e+02,   2.44465441e-01,\n",
       "         3.19877123e+00,   1.00030829e-01,   1.00168180e-01,\n",
       "         1.00028047e-01,   1.00138778e-01,   1.00045629e-01,\n",
       "         9.12290757e+00,   1.38029831e-01,   5.43203387e-01,\n",
       "         7.74434478e+00,   8.05213500e+00,   3.20746581e+01,\n",
       "         1.01103939e-01,   1.08533241e-01,   3.50285469e+01,\n",
       "         7.89256883e+02,   1.38021236e+01,   1.78276220e+01,\n",
       "         1.00050629e-01,   1.76406515e+02,   8.33613720e+00,\n",
       "         1.03470915e-01,   1.00358663e-01,   1.00097352e-01,\n",
       "         3.82948118e+03,   3.18088530e+01,   7.15436106e+01,\n",
       "         1.15765400e+00,   1.10764408e-01,   3.68063925e+01,\n",
       "         5.34305382e+01,   8.42068291e+00,   4.45891171e+02,\n",
       "         4.75767418e+00,   1.00068018e-01,   1.42071442e+02,\n",
       "         1.25085046e+01,   2.20733936e+01,   2.21738772e+02,\n",
       "         3.74552730e+01,   2.02101163e+02,   1.12441181e-01,\n",
       "         3.39968651e+01,   3.27502846e+01,   1.55612590e+01,\n",
       "         2.31676698e-01,   2.43532712e+01,   1.00259158e-01,\n",
       "         3.41281340e+01,   2.28284445e+02,   1.68240959e+02,\n",
       "         1.82751993e+01,   1.31504179e+02,   2.14902602e+01,\n",
       "         1.74738707e+01,   2.77731666e+01,   9.43040657e+01,\n",
       "         4.49872096e+01,   6.42521835e+01,   1.00446742e-01,\n",
       "         1.01260549e-01,   1.00106384e-01,   8.40950958e+00,\n",
       "         1.00032585e-01,   1.22388244e-01,   5.64073352e+01,\n",
       "         2.94650748e+01,   9.53085266e+00,   1.00227923e-01,\n",
       "         1.00033176e-01,   1.87353688e+01,   3.49858540e+02,\n",
       "         2.59691677e+00,   8.18082966e+01,   1.82263467e+02,\n",
       "         3.71697917e+01,   4.46111717e+01,   1.00167836e-01,\n",
       "         2.04294764e+01,   4.04470578e-01,   2.71239831e+01,\n",
       "         1.00062144e-01,   1.00884458e-01,   1.01254055e-01,\n",
       "         1.57460557e+00,   8.36454124e+00,   4.09749101e+00,\n",
       "         3.60049651e+02,   1.31904725e+02,   1.00802162e+02,\n",
       "         1.21391008e+02,   3.23586496e+01,   1.50511767e+02,\n",
       "         7.84308121e+01,   4.10206252e+01,   3.24146543e+01,\n",
       "         9.76603398e+00,   1.17207620e+01,   2.54487668e+01,\n",
       "         2.61062064e+01,   3.55690761e+02,   1.57202909e+02,\n",
       "         1.71589386e+00,   1.00205804e-01,   2.41900101e+01,\n",
       "         9.88866859e+00,   3.66696628e+01,   1.35650977e-01,\n",
       "         6.36523361e+02,   5.11066880e+01,   1.32730740e+02,\n",
       "         2.19655524e+02,   7.90829701e+01,   3.75260287e+01,\n",
       "         2.82962793e+02,   1.01313764e-01,   2.70439722e+01,\n",
       "         4.89123800e+00,   1.00277414e-01,   1.37572993e+00,\n",
       "         1.00158881e-01,   1.00556674e-01,   1.02497553e-01,\n",
       "         1.01798219e-01,   2.72168894e+01,   1.00064935e-01,\n",
       "         7.59122609e+01,   1.32199815e+02,   1.22359606e+02,\n",
       "         9.08580130e+01,   4.09151757e+01,   1.00351546e-01,\n",
       "         5.77506942e+00,   1.76179251e+02,   6.39721935e+01,\n",
       "         8.53596724e+02,   1.81337800e+02,   1.80941393e+02,\n",
       "         5.35846214e+01,   6.88879201e+01,   4.83099762e+01,\n",
       "         1.00047920e-01,   1.95756223e+01,   1.00134265e-01,\n",
       "         3.69896674e+02,   1.48168042e+01,   1.00128049e-01,\n",
       "         1.00137736e-01,   3.15424030e+01,   3.96594000e+01,\n",
       "         6.16854977e+00,   1.04660830e-01,   1.00072225e-01,\n",
       "         5.31480120e+01,   1.16928283e+01,   1.00154753e-01,\n",
       "         6.76541733e+00,   6.34152015e+01,   1.00025442e-01,\n",
       "         6.18417124e+01,   1.00510649e+00,   7.36438996e+01,\n",
       "         5.61951191e+01,   2.42861691e+01,   1.00027585e-01,\n",
       "         7.35205510e+01,   5.20785100e+01,   3.10226117e+01,\n",
       "         1.76751900e+01,   1.75189495e-01,   3.47488446e+01,\n",
       "         2.90854651e+01,   2.47779235e+00,   1.00524736e-01,\n",
       "         6.66494035e+00,   1.91247452e+01,   3.24332923e+00,\n",
       "         1.00036351e-01,   3.27737562e+00,   6.82234259e+01,\n",
       "         1.16642545e-01,   4.75048075e+01,   1.66384030e+00,\n",
       "         1.00874627e-01,   1.00377235e-01,   8.41613646e+00,\n",
       "         1.17049131e+00,   1.00099978e-01,   3.05496521e+01,\n",
       "         1.04584880e-01,   4.66140223e+01,   1.82214718e+01,\n",
       "         1.00017332e-01,   9.54746709e+00,   6.49330578e+00,\n",
       "         1.01366728e-01,   4.81487388e+00,   1.04898497e-01,\n",
       "         6.00914053e+01,   9.75177425e+00,   6.02108804e+00,\n",
       "         4.98299098e+00,   3.02845858e+01,   4.96424402e+01,\n",
       "         1.00042645e-01,   5.91053293e+01,   3.86473013e+01,\n",
       "         1.00016936e-01,   1.69818394e-01,   1.23958908e+01,\n",
       "         7.34544645e+00,   1.00319447e-01,   2.38533910e+01,\n",
       "         1.50335433e+02,   4.39626021e+02,   1.07626491e-01,\n",
       "         3.24221559e+01,   1.58253027e+02,   2.79688227e+02,\n",
       "         1.02168823e-01,   9.89809223e+01,   1.00055495e-01,\n",
       "         1.01843354e+01,   2.54055516e+01,   4.68468862e-01,\n",
       "         4.69049514e+01,   1.00182558e-01,   1.00058020e-01,\n",
       "         2.00241900e+00,   4.27224987e+01,   3.50696881e+01,\n",
       "         6.45337363e+00,   2.53632647e+00,   7.40849315e+01,\n",
       "         7.98563842e+01,   1.00299892e-01,   2.73243039e+00,\n",
       "         1.23005446e+01,   1.86578586e+01,   1.00038396e-01,\n",
       "         1.47724244e+01,   1.87123248e+01,   1.16637187e-01,\n",
       "         7.15124944e+01,   1.00277150e-01,   1.00721864e-01,\n",
       "         1.72473359e+02,   2.23818673e+01,   1.02298542e-01,\n",
       "         2.99649009e+00,   2.27086776e-01,   2.54616450e+01,\n",
       "         6.92979250e+01,   1.68595220e+01,   3.79485253e+02,\n",
       "         1.38828773e+02,   6.71946360e+02,   4.48617723e-01,\n",
       "         1.15647366e-01,   4.07612388e+01,   1.00037050e-01,\n",
       "         1.21361153e+02,   1.95069509e+01,   4.42106893e+01,\n",
       "         1.00059014e-01,   1.00075267e-01,   1.00064161e-01,\n",
       "         1.90114624e+01,   7.66795863e-01,   4.15459202e+01,\n",
       "         1.93663422e+01,   3.72035584e+01,   1.00081220e-01,\n",
       "         1.00368409e-01,   3.24441664e-01,   3.13247163e+02,\n",
       "         2.15118225e+01,   1.59244632e+01,   6.41037895e+01,\n",
       "         2.67760379e+01,   1.02996517e-01,   1.08194257e+02,\n",
       "         4.42733098e+01,   1.10249299e-01,   1.49450872e+01,\n",
       "         2.49703155e+01,   3.84202183e+01,   1.32345349e+01,\n",
       "         7.67537444e+01,   1.00171914e-01,   1.00030026e-01,\n",
       "         1.18012226e+01,   1.55806889e-01,   5.79970286e+00,\n",
       "         1.00098512e-01,   1.00043608e-01,   1.00090177e-01,\n",
       "         5.16948532e+01,   8.53831518e-01,   1.68319321e+02,\n",
       "         1.00109603e-01,   3.30195463e+02,   1.03963543e-01,\n",
       "         1.68798553e+03,   2.15188713e+01,   6.16675638e+02,\n",
       "         1.86848916e+02,   1.10445240e-01,   1.00042804e-01,\n",
       "         3.15368626e+01,   7.03028561e+00,   2.68460539e+02,\n",
       "         2.25438408e+01,   8.34278958e+01,   4.08153083e+01,\n",
       "         2.06859933e-01,   5.09197959e+00,   2.32911318e+01,\n",
       "         4.01850100e+00,   9.46137917e+01,   3.61623788e+01,\n",
       "         1.06872541e-01,   1.04041710e+02,   1.00126553e-01,\n",
       "         1.02792456e-01,   2.64899623e+01,   3.63446325e+01,\n",
       "         2.33420513e+01,   4.00992563e+01,   1.40958689e+02,\n",
       "         1.60592569e-01,   1.18484419e-01,   1.21661687e+01,\n",
       "         4.43871671e+01,   4.27098733e+02,   4.80301260e+01,\n",
       "         5.09684488e+01,   2.21994135e+02,   3.46630452e+01,\n",
       "         1.01019945e+02,   3.31742594e+00,   3.94589349e+00,\n",
       "         1.70608430e+02,   4.46389613e+01,   1.46044769e+02,\n",
       "         5.04604301e+01,   1.01728989e+02,   3.60007851e+00,\n",
       "         6.52349161e+01,   4.94012368e+01,   4.47765141e+00,\n",
       "         6.62956915e+01,   6.93827744e+01,   1.59214681e-01,\n",
       "         5.36430059e+01,   1.12188137e+02,   1.01564537e-01,\n",
       "         1.19806546e+02,   2.96783363e+00,   1.86695876e+02,\n",
       "         4.57955939e+01,   1.10073435e+01,   2.72954333e+02,\n",
       "         4.77288709e+01,   4.27731739e+01,   9.88007255e+00,\n",
       "         1.00148473e-01,   1.03064705e-01,   5.29974276e+01,\n",
       "         1.54928059e+02,   3.28639426e+01,   1.51940163e+01,\n",
       "         1.00413203e-01,   8.11371513e+01,   1.09240135e-01,\n",
       "         2.79534504e+01,   8.61187076e+01,   5.07495469e+00,\n",
       "         1.00061158e-01,   1.00265196e-01,   1.01511284e-01,\n",
       "         1.00489713e-01,   2.09290049e+01,   2.96283910e+02,\n",
       "         7.69382527e+00,   2.90411408e+01,   2.31942061e-01,\n",
       "         2.23574341e+00,   2.85452164e+01,   4.03733613e+01,\n",
       "         1.01798401e-01,   1.02571998e+01,   7.29922381e+01,\n",
       "         1.55290462e+01,   3.51543698e+01,   1.20961121e-01,\n",
       "         4.10363757e+01,   1.00137545e-01,   1.00040903e-01,\n",
       "         1.00021162e-01,   1.00159555e-01,   1.00084133e-01,\n",
       "         3.48811170e+00,   4.76966067e-01,   1.00081980e-01,\n",
       "         2.49422994e+02,   4.98717993e+00,   1.82155154e+00,\n",
       "         1.01562395e-01,   3.31238488e+01,   1.18894011e-01,\n",
       "         9.86154368e+00,   3.33635935e+02,   7.87759326e+01,\n",
       "         6.51505011e+01,   2.36662671e+02,   8.43066632e+02,\n",
       "         8.42126344e+01,   4.31331767e+02,   6.07117652e+01,\n",
       "         1.02284018e-01,   1.48657334e+02,   1.01734038e-01,\n",
       "         7.03089045e+01,   2.60653961e+01,   1.00068658e-01,\n",
       "         3.88615594e+02,   5.41651699e+01,   1.10364329e+01,\n",
       "         4.32752543e-01,   7.43923690e+01,   3.58812387e+02,\n",
       "         5.75077973e+01,   1.17630711e-01,   1.00089435e-01,\n",
       "         1.97789633e+01,   2.09107789e+02,   4.96886724e+01,\n",
       "         2.41643246e+01,   2.72460779e+01,   1.44250126e+01,\n",
       "         1.55079244e+02,   4.09918675e+01,   4.38018437e+01,\n",
       "         1.36733099e+00,   5.64328240e+01,   1.25519894e+02,\n",
       "         4.71576961e+02,   3.14912040e+01,   1.00621986e-01,\n",
       "         1.68215966e+01,   4.09214531e+01,   1.00580185e-01,\n",
       "         1.00051732e-01,   2.38790069e+01,   3.22207097e+01,\n",
       "         1.64570805e+02,   4.89349129e+01,   3.96066807e+02,\n",
       "         2.33762714e+01,   2.23881604e+01,   1.00368228e-01,\n",
       "         1.00084649e-01,   7.82602434e+01,   2.43501782e+01,\n",
       "         1.01961574e-01,   8.93495233e+00,   4.51676719e+01,\n",
       "         7.72530743e+01,   4.39919112e+02,   4.03651406e+01,\n",
       "         1.00166978e-01,   1.00600820e-01,   1.00034774e-01,\n",
       "         1.04919061e+02,   1.46145787e+01,   2.86841587e+01,\n",
       "         1.89092089e+01,   4.27048606e-01,   2.19468142e-01,\n",
       "         4.48485284e+01,   7.49919592e+01,   6.07497157e+00,\n",
       "         5.10680415e-01,   2.71149548e+01,   1.41076115e+00,\n",
       "         1.00236545e-01,   1.00242451e-01,   1.08738869e+00,\n",
       "         7.88001267e+01,   1.70185716e+01,   3.67431548e+01,\n",
       "         4.46852361e+02,   8.95165747e+01,   2.41939876e+01,\n",
       "         2.79768146e+01,   5.89662207e-01,   2.42458107e+01,\n",
       "         9.82764039e+00,   2.60407449e+02,   1.92362017e-01,\n",
       "         3.58680717e+02,   1.68393613e+02,   2.98463400e-01,\n",
       "         1.70059404e+02,   1.08217318e-01,   1.03185891e-01,\n",
       "         6.74809489e-01,   1.51620502e+02,   1.08345993e+02,\n",
       "         1.95202591e+01,   4.55768063e-01,   6.71689699e+00,\n",
       "         1.06596608e+02,   1.02526186e+02,   1.01201923e-01,\n",
       "         4.61780824e+02,   7.57753114e-01,   1.19658372e+01,\n",
       "         5.46227146e+01,   9.98159844e+01,   5.55491738e+01,\n",
       "         4.82982035e+01,   1.20027958e+02,   1.00658705e-01,\n",
       "         2.09100535e-01,   1.00151570e-01,   4.56069059e+01,\n",
       "         2.02030323e+01,   1.54465410e+02,   1.43098784e+02,\n",
       "         3.77504298e+01,   6.15381337e+01,   1.41563456e+01,\n",
       "         7.08198244e+00,   8.50382670e+00,   4.70440435e+01,\n",
       "         1.14382664e+01,   1.00963871e-01,   1.86434037e+00,\n",
       "         5.17238070e+01,   1.00140571e-01,   1.00047990e-01,\n",
       "         4.79534114e+01,   2.67363604e+02,   1.59438551e+01,\n",
       "         4.99657124e+01,   1.09221436e+01,   3.21595839e+01,\n",
       "         9.61974709e+01,   2.42080355e+01,   3.15959518e+01,\n",
       "         2.18753073e+01,   1.74893241e-01,   1.79827533e+01,\n",
       "         1.17690404e+01,   1.37170103e+02,   1.00080023e-01,\n",
       "         3.98996868e+01,   4.37023344e+01,   1.00550032e-01,\n",
       "         2.10470840e-01,   1.00230886e-01,   1.00181417e-01,\n",
       "         7.06431997e+01,   1.47571574e+01,   1.45185190e+01,\n",
       "         1.01107943e-01,   1.00159426e-01,   1.16273922e+01,\n",
       "         2.30695087e+01,   7.33405620e+02,   4.99297657e+01,\n",
       "         7.82245402e-01,   5.49372755e+00,   9.28571832e+01,\n",
       "         3.07129684e+01,   3.15650046e+01,   5.71680259e-01,\n",
       "         7.56868048e+01,   1.00520584e-01,   1.00142285e-01,\n",
       "         2.44249660e+00,   1.00294610e-01,   1.00018293e-01,\n",
       "         7.47896661e+00,   1.20295090e-01,   9.18901720e+01,\n",
       "         2.97684460e+02,   1.55450203e-01,   3.20029681e+02,\n",
       "         4.29667697e+02,   1.12066617e+01,   1.00076094e-01,\n",
       "         1.86948498e+02,   2.00532361e+01,   2.82028730e+01,\n",
       "         3.50106497e+01,   1.95217513e+02,   2.87896542e+01,\n",
       "         7.44804632e+00,   6.40628175e+01,   1.86957424e+02,\n",
       "         1.74679167e+01,   1.00090624e-01,   6.00183800e+00,\n",
       "         2.65715996e+01,   1.09373807e-01,   5.43609296e+01,\n",
       "         3.87088293e+01,   8.87823700e+00,   4.87882091e+01,\n",
       "         8.59994998e+00,   1.66984488e+01,   8.53594993e+01,\n",
       "         7.57342113e+01,   1.00394105e-01,   1.02009075e-01,\n",
       "         6.09010620e+01,   1.64704645e+01,   1.00036216e-01,\n",
       "         2.64924019e+01,   3.30021989e-01,   2.40970952e+01,\n",
       "         3.43875885e+01,   3.25996995e+01,   2.58060586e+01,\n",
       "         2.86963947e+00,   1.58257309e+01,   3.03940467e+01,\n",
       "         9.34376748e+00,   3.09223918e+01,   1.00838918e-01,\n",
       "         2.36388498e+01,   2.37455137e-01,   1.58627510e+02,\n",
       "         1.00224702e-01,   3.93692142e+01,   4.66849070e+00,\n",
       "         4.46274762e+01,   1.15105341e-01,   1.00108096e-01,\n",
       "         3.35120080e+01,   1.12571726e+02,   5.14488459e+01,\n",
       "         9.00962155e+00,   1.94228233e-01,   1.52760091e+02,\n",
       "         1.11165784e-01,   1.00632592e-01,   5.86671874e+01,\n",
       "         2.34775554e+01,   5.68996318e+00,   9.78967193e+01,\n",
       "         5.01399047e+02,   7.09611909e+00,   1.39921119e+01,\n",
       "         1.38007445e+02,   3.51662916e+02,   4.87395563e+01,\n",
       "         5.35628209e+01,   7.76266780e+00,   1.96458544e+01,\n",
       "         1.71284764e+01,   4.31789391e+01,   2.80785879e+00,\n",
       "         2.04127505e+00,   1.66845297e-01,   1.05768503e+02,\n",
       "         4.16766034e+02,   4.15379680e+01,   4.90270834e-01,\n",
       "         8.90944185e+01,   1.01029810e-01,   9.46348542e+01,\n",
       "         3.73498419e+00,   3.33554868e+01,   1.47799168e+01,\n",
       "         6.02669002e+01,   5.32549131e+01,   1.46325646e+02,\n",
       "         1.39722983e+01,   9.98598037e+00,   5.45883081e+01,\n",
       "         3.05142942e+01,   2.36589581e+02,   1.14577656e+01,\n",
       "         1.22047605e+02,   1.07143111e-01,   7.85076069e+01,\n",
       "         4.61645136e+01,   4.47239326e+00,   1.06011349e-01,\n",
       "         1.02686436e-01,   9.39505519e-01,   1.01813419e-01,\n",
       "         2.53377536e+01,   1.00428821e-01,   7.11100446e+01,\n",
       "         3.56496566e+01,   1.00033728e-01,   1.00059096e-01,\n",
       "         1.00038181e-01,   4.77666312e+01,   7.03847383e-01,\n",
       "         1.07686270e+01,   1.00044291e-01,   8.74335553e+01,\n",
       "         2.20379933e+01,   1.32872335e+01,   8.90872398e+01,\n",
       "         2.03107380e+02,   1.03764023e-01,   1.03403653e-01,\n",
       "         1.23479269e+01,   7.82349085e+01,   7.03368466e+01,\n",
       "         3.82188527e+02,   5.00062525e+02,   4.73868812e+02,\n",
       "         1.87691449e+01,   1.67426117e+01,   6.71053762e+01,\n",
       "         5.46637606e+01,   6.93706654e+01,   2.28294441e+02,\n",
       "         6.42486658e+00,   1.00333575e-01,   9.97418083e+01,\n",
       "         5.93048792e+01,   5.35203347e+01,   2.29317518e+01,\n",
       "         1.89285828e+01,   8.63954758e+01,   9.73821705e+01,\n",
       "         1.05977262e-01,   3.06903432e+01,   1.48283293e+01,\n",
       "         2.15785549e+02,   1.09027862e-01,   1.86906136e+02,\n",
       "         4.77577129e+01,   1.25530771e+01,   1.00161779e-01,\n",
       "         1.00124285e-01,   3.22219453e+00,   1.00057788e-01,\n",
       "         1.86437743e+02,   2.16932804e+01,   1.00069824e-01,\n",
       "         1.15971493e-01,   2.12106380e+01,   3.11980082e+00,\n",
       "         3.84785293e+00,   1.08704734e-01,   1.35424997e+02,\n",
       "         1.00050876e-01,   6.91275141e+01,   1.19976599e-01,\n",
       "         1.00109923e-01,   1.06094111e-01,   1.88879917e+01,\n",
       "         1.00102218e-01,   1.00155885e-01,   6.94454741e+01,\n",
       "         3.99039484e+00,   3.17472563e-01,   1.93165339e+02,\n",
       "         5.81792669e+01,   2.98447305e+01,   2.37596781e+02,\n",
       "         3.38194667e+01,   7.32198837e+01,   5.86163382e+01,\n",
       "         1.43578777e+00,   4.90259460e+02,   1.00737080e-01,\n",
       "         1.09206219e-01,   6.77107678e+01,   1.89957718e+01,\n",
       "         1.28403964e+02,   2.73646073e+01,   1.28508567e-01,\n",
       "         1.22610421e-01])"
      ]
     },
     "execution_count": 42,
     "metadata": {},
     "output_type": "execute_result"
    }
   ],
   "source": [
    "lda.components_[0]"
   ]
  },
  {
   "cell_type": "code",
   "execution_count": null,
   "metadata": {
    "collapsed": true
   },
   "outputs": [],
   "source": []
  },
  {
   "cell_type": "code",
   "execution_count": 43,
   "metadata": {
    "collapsed": false
   },
   "outputs": [
    {
     "data": {
      "text/plain": [
       "446"
      ]
     },
     "execution_count": 43,
     "metadata": {},
     "output_type": "execute_result"
    }
   ],
   "source": [
    "lda.n_batch_iter_"
   ]
  },
  {
   "cell_type": "code",
   "execution_count": 44,
   "metadata": {
    "collapsed": false
   },
   "outputs": [
    {
     "data": {
      "text/plain": [
       "5"
      ]
     },
     "execution_count": 44,
     "metadata": {},
     "output_type": "execute_result"
    }
   ],
   "source": [
    "lda.n_iter_"
   ]
  },
  {
   "cell_type": "code",
   "execution_count": 46,
   "metadata": {
    "collapsed": false
   },
   "outputs": [],
   "source": [
    "#http://qwone.com/~jason/20Newsgroups/\n",
    "#http://scikit-learn.org/stable/datasets/twenty_newsgroups.html"
   ]
  },
  {
   "cell_type": "code",
   "execution_count": 47,
   "metadata": {
    "collapsed": true
   },
   "outputs": [],
   "source": [
    "#http://scikit-learn.org/stable/auto_examples/text/document_clustering.html\n",
    "#http://scikit-learn.org/stable/auto_examples/applications/topics_extraction_with_nmf_lda.html\n",
    "#http://scikit-learn.org/stable/modules/decomposition.html"
   ]
  },
  {
   "cell_type": "code",
   "execution_count": null,
   "metadata": {
    "collapsed": true
   },
   "outputs": [],
   "source": []
  },
  {
   "cell_type": "code",
   "execution_count": null,
   "metadata": {
    "collapsed": true
   },
   "outputs": [],
   "source": []
  }
 ],
 "metadata": {
  "kernelspec": {
   "display_name": "Python 3",
   "language": "python",
   "name": "python3"
  },
  "language_info": {
   "codemirror_mode": {
    "name": "ipython",
    "version": 3
   },
   "file_extension": ".py",
   "mimetype": "text/x-python",
   "name": "python",
   "nbconvert_exporter": "python",
   "pygments_lexer": "ipython3",
   "version": "3.6.0"
  }
 },
 "nbformat": 4,
 "nbformat_minor": 2
}
