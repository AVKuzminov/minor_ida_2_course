{
 "cells": [
  {
   "cell_type": "code",
   "execution_count": null,
   "metadata": {
    "collapsed": true
   },
   "outputs": [],
   "source": [
    "#B\n",
    "numbers = []\n",
    "numbers.append(0)\n",
    "numbers.append(1)\n",
    "n = int(input())\n",
    "for i in range(2,n+1):\n",
    "    numbers.append(numbers[i-2]+numbers[i-1])\n",
    "print(numbers[n])"
   ]
  },
  {
   "cell_type": "code",
   "execution_count": null,
   "metadata": {
    "collapsed": true
   },
   "outputs": [],
   "source": [
    "#A\n",
    "def plus(item):\n",
    "    if item != '*':\n",
    "        item = str(int(item)+1)\n",
    "    return(item)\n",
    "\n",
    "N,M,K = list(map(int,input().split()))\n",
    "matrix = [[0]*(M+2) for i in range(N+2)]\n",
    "for i in range(K):\n",
    "    x,y = list(map(int,input().split()))\n",
    "    matrix[x][y] = '*'\n",
    "for i in range(1,N+1):\n",
    "    for j in range(1,M+1):\n",
    "        if matrix[i][j] == '*':\n",
    "            matrix[i-1][j] = plus(matrix[i-1][j])\n",
    "            matrix[i-1][j-1] = plus(matrix[i-1][j-1])\n",
    "            matrix[i-1][j+1] = plus(matrix[i-1][j+1])\n",
    "            matrix[i][j-1] = plus(matrix[i][j-1])\n",
    "            matrix[i][j+1] = plus(matrix[i][j+1])\n",
    "            matrix[i+1][j] = plus(matrix[i+1][j])\n",
    "            matrix[i+1][j-1] = plus(matrix[i+1][j-1])\n",
    "            matrix[i+1][j+1] = plus(matrix[i+1][j+1])\n",
    "for i in range(1,len(matrix)-1):\n",
    "    print(' '.join(map(str,matrix[i][1:(len(matrix[i])-1)])))"
   ]
  },
  {
   "cell_type": "code",
   "execution_count": null,
   "metadata": {
    "collapsed": false
   },
   "outputs": [],
   "source": [
    "#C\n",
    "a,b = list(map(int,input().split()))\n",
    "c,d = list(map(int,input().split()))\n",
    "resultlist=[]\n",
    "for i in range(10000,100000):\n",
    "    if (i%a == b) and (i%c == d):\n",
    "        resultlist.append(i)\n",
    "print(' '.join(map(str,resultlist)))"
   ]
  },
  {
   "cell_type": "code",
   "execution_count": null,
   "metadata": {
    "collapsed": false
   },
   "outputs": [],
   "source": [
    "#F\n",
    "#здесь надо работать до sqrt(n)\n",
    "n = int(input())\n",
    "t = 0\n",
    "s = 0\n",
    "for i in range(1,int(n ** (1/2))+1):\n",
    "    print(type(n/i))"
   ]
  },
  {
   "cell_type": "code",
   "execution_count": null,
   "metadata": {
    "collapsed": true
   },
   "outputs": [],
   "source": [
    "#E\n",
    "N,M,x,y = list(map(int,input().split()))\n",
    "long = max(N,M) #длина длинного бортика\n",
    "short = min(N,M) #длина короткого бортика\n",
    "north = long-y #сколько до короткого бортика на севере\n",
    "south = y\n",
    "west = short-x\n",
    "east = x\n",
    "print(min(north,south,west,east))"
   ]
  },
  {
   "cell_type": "code",
   "execution_count": null,
   "metadata": {
    "collapsed": true
   },
   "outputs": [],
   "source": [
    "#D\n",
    "n = int(input())\n",
    "wall = list(map(int,input().split()))\n",
    "i = 0\n",
    "maxlen = 0\n",
    "maxcount = 0\n",
    "templen = 0\n",
    "tempcount = 0\n",
    "numberofblock = 0\n",
    "end = 0\n",
    "while i < len(wall):\n",
    "    if wall[i]<5:\n",
    "        templen += 1\n",
    "        tempcount += 5 - wall[i]\n",
    "    if wall[i] == 5 or i == n-1:\n",
    "        if tempcount >= maxcount:\n",
    "            numberofblock = i+2-templen\n",
    "            end = i+1\n",
    "            maxcount = tempcount\n",
    "            maxlen = templen\n",
    "        templen = 0\n",
    "        tempcount = 0\n",
    "    i +=1\n",
    "print(numberofblock,end,maxcount)"
   ]
  }
 ],
 "metadata": {
  "anaconda-cloud": {},
  "kernelspec": {
   "display_name": "Python [Root]",
   "language": "python",
   "name": "Python [Root]"
  },
  "language_info": {
   "codemirror_mode": {
    "name": "ipython",
    "version": 3
   },
   "file_extension": ".py",
   "mimetype": "text/x-python",
   "name": "python",
   "nbconvert_exporter": "python",
   "pygments_lexer": "ipython3",
   "version": "3.5.2"
  }
 },
 "nbformat": 4,
 "nbformat_minor": 0
}
