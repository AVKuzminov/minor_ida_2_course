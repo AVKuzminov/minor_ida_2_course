{
 "cells": [
  {
   "cell_type": "code",
   "execution_count": 1,
   "metadata": {
    "collapsed": false
   },
   "outputs": [
    {
     "name": "stdout",
     "output_type": "stream",
     "text": [
      "1 2 3 4 5\n",
      "5\n"
     ]
    }
   ],
   "source": [
    "lst = list(map(int,input().split()))\n",
    "maxres = -1000\n",
    "max1 = 1\n",
    "max2 = 1\n",
    "for i in range(len(lst)):\n",
    "    if ((lst[i] * max1) > maxres):\n",
    "        max2 = lst[i]\n",
    "    else:\n",
    "        if ((lst[i]*max2) > maxres) :\n",
    "            max1 = lst[i]\n",
    "print(max1*max2)\n"
   ]
  },
  {
   "cell_type": "code",
   "execution_count": 33,
   "metadata": {
    "collapsed": false
   },
   "outputs": [
    {
     "name": "stdout",
     "output_type": "stream",
     "text": [
      "1\n",
      "1 2 3 4 5 5 4 3 2 1\n",
      "1 1 2 2 3 3 4 4 5 5\n"
     ]
    }
   ],
   "source": [
    "n = int(input())\n",
    "lst = list(map(int,input().split()))\n",
    "lst = sorted(lst)\n",
    "print(' '.join(map(str,lst)))"
   ]
  },
  {
   "cell_type": "code",
   "execution_count": 45,
   "metadata": {
    "collapsed": false
   },
   "outputs": [
    {
     "name": "stdout",
     "output_type": "stream",
     "text": [
      "7 3 4 2 5\n",
      "[0, 0, 0, 0, 0, 0, 0]\n",
      "7\n",
      "[0, 0, 0, 0, 0, 0, 1]\n",
      "3\n",
      "[0, 0, 1, 0, 0, 0, 1]\n",
      "4\n",
      "[0, 0, 1, 1, 0, 0, 1]\n",
      "2\n",
      "[0, 1, 1, 1, 0, 0, 1]\n",
      "5\n",
      "[0, 1, 1, 1, 1, 0, 1]\n",
      "[1, 1, 1, 1, 1, 0, 1]\n",
      "[1, 2, 1, 1, 1, 0, 1]\n",
      "[1, 2, 3, 1, 1, 0, 1]\n",
      "[1, 2, 3, 4, 1, 0, 1]\n",
      "[1, 2, 3, 4, 6, 0, 1]\n",
      "1 2 3 4 6 0 1\n"
     ]
    }
   ],
   "source": [
    "def CountSort(a):\n",
    "    c = []\n",
    "    k = a[0]\n",
    "    for i in range(len(a)):\n",
    "        if a[i] > k:\n",
    "            k = a[i]\n",
    "    for i in range(k):\n",
    "        c.append(0) \n",
    "    print(c)\n",
    "    for i in range(len(a)):\n",
    "        print(a[i])\n",
    "        c[a[i]-1] = c[a[i]-1] + 1\n",
    "        print(c)\n",
    "    pos = 0\n",
    "    for i in range(k):\n",
    "        for j in range(c[i]):\n",
    "            a[pos] = i\n",
    "            pos = pos + 1\n",
    "            print(a)\n",
    "    return c\n",
    "lst = list(map(int,input().split()))\n",
    "lst = CountSort(lst)\n",
    "print(' '.join(map(str,lst)))\n",
    "        "
   ]
  },
  {
   "cell_type": "code",
   "execution_count": null,
   "metadata": {
    "collapsed": true
   },
   "outputs": [],
   "source": [
    "lst = list(map(int,input().split()))\n",
    "max_index = 0\n",
    "for i in range(len(lst)):\n",
    "    if lst[i] >= lst[max_index]:\n",
    "        max_index = i\n",
    "print(lst[max_index],max_index)"
   ]
  },
  {
   "cell_type": "code",
   "execution_count": null,
   "metadata": {
    "collapsed": true
   },
   "outputs": [],
   "source": []
  }
 ],
 "metadata": {
  "anaconda-cloud": {},
  "kernelspec": {
   "display_name": "Python [Root]",
   "language": "python",
   "name": "Python [Root]"
  },
  "language_info": {
   "codemirror_mode": {
    "name": "ipython",
    "version": 3
   },
   "file_extension": ".py",
   "mimetype": "text/x-python",
   "name": "python",
   "nbconvert_exporter": "python",
   "pygments_lexer": "ipython3",
   "version": "3.5.2"
  }
 },
 "nbformat": 4,
 "nbformat_minor": 0
}
