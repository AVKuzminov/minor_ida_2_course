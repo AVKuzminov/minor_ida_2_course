{
 "cells": [
  {
   "cell_type": "code",
   "execution_count": 3,
   "metadata": {
    "collapsed": false
   },
   "outputs": [
    {
     "name": "stdout",
     "output_type": "stream",
     "text": [
      "[[3, 5], [], [1, 5], [5], [1, 3, 4]]\n",
      "[[0, 0, 1, 0, 1], [0, 0, 0, 0, 0], [1, 0, 0, 0, 1], [0, 0, 0, 0, 1], [1, 0, 1, 1, 0]]\n"
     ]
    }
   ],
   "source": [
    "matrix = [[0,0,1,0,1],[0,0,0,0,0],[1,0,0,0,1],[0,0,0,0,1],[1,0,1,1,0]]\n",
    "\n",
    "def FromMatrixToListW(adj_matrix):\n",
    "    adj_list = []\n",
    "    for i in range(len(adj_matrix)):\n",
    "        tmp_list = []\n",
    "        for j in range(len(adj_matrix)):\n",
    "            if adj_matrix[i][j] == 1:\n",
    "                tmp_list.append(j+1)\n",
    "        adj_list.append(tmp_list)\n",
    "    return adj_list\n",
    "\n",
    "def FromListToMatrix(adj_list):\n",
    "    adj_matrix = [[0]*len(adj_list) for i in range(len(adj_list))] #заполнение матрицы нулями\n",
    "    for i in range(len(adj_list)):\n",
    "        for j in range(len(adj_list[i])):\n",
    "            adj_matrix[i][adj_list[i][j]-1] = 1\n",
    "    return adj_matrix\n",
    "print(FromMatrixToListW(matrix))\n",
    "print(FromListToMatrix(FromMatrixToListW(matrix)))"
   ]
  },
  {
   "cell_type": "code",
   "execution_count": 4,
   "metadata": {
    "collapsed": false
   },
   "outputs": [
    {
     "name": "stdout",
     "output_type": "stream",
     "text": [
      "1\n",
      "2\n",
      "False\n"
     ]
    }
   ],
   "source": [
    "n = int(input())\n",
    "matrix = [[0]*n for i in range(n)]\n",
    "for i in range(n):\n",
    "    lst = map(int,input().split())\n",
    "    matrix[i] = lst\n",
    "for i in range(n):\n",
    "    matrix[i] = list(map(int,matrix[i]))\n",
    "result = True\n",
    "for i in range(n):\n",
    "    for j in range(n):\n",
    "        if (matrix[i][j] != 0) and (i == j):\n",
    "            result = False\n",
    "            break\n",
    "        if matrix[i][j] != matrix[j][i]:\n",
    "            result = False\n",
    "            break\n",
    "print(result)"
   ]
  },
  {
   "cell_type": "code",
   "execution_count": 5,
   "metadata": {
    "collapsed": false
   },
   "outputs": [
    {
     "name": "stdout",
     "output_type": "stream",
     "text": [
      "1\n",
      "2\n",
      "0\n"
     ]
    }
   ],
   "source": [
    "n = int(input())\n",
    "matrix = [[0]*n for i in range(n)]\n",
    "for i in range(n):\n",
    "    lst = map(int,input().split())\n",
    "    matrix[i] = lst\n",
    "for i in range(n):\n",
    "    matrix[i] = list(map(int,matrix[i]))\n",
    "count = 0\n",
    "for i in range(n):\n",
    "    for j in range(n):\n",
    "        if matrix[i][j] == 1:\n",
    "            count +=1\n",
    "print(int(count/2))"
   ]
  },
  {
   "cell_type": "code",
   "execution_count": 6,
   "metadata": {
    "collapsed": false
   },
   "outputs": [
    {
     "name": "stdout",
     "output_type": "stream",
     "text": [
      "1\n",
      "2\n"
     ]
    }
   ],
   "source": [
    "n = int(input())\n",
    "matrix = [[0]*n for i in range(n)]\n",
    "for i in range(n):\n",
    "    lst = map(int,input().split())\n",
    "    matrix[i] = lst\n",
    "for i in range(n):\n",
    "    matrix[i] = list(map(int,matrix[i]))\n",
    "for i in range(n):\n",
    "    for j in range(i,n):\n",
    "        if matrix[i][j] == 1:\n",
    "            print(i+1,j+1)"
   ]
  },
  {
   "cell_type": "code",
   "execution_count": null,
   "metadata": {
    "collapsed": false
   },
   "outputs": [],
   "source": [
    "length,start = list(map(int,input().split()))\n",
    "matrix = [list(map(int,input().split())) for i in range(length)]\n",
    "set_v = set()\n",
    "def dfs(matrix,start,set_v):\n",
    "    for i in range(length):\n",
    "        print(type(set_v))\n",
    "        if (matrix[start][i] == 1) and (i not in set_v):\n",
    "            set_v.add(i)\n",
    "            set_v = dfs(matrix,i,set_v)\n",
    "    return set_v\n",
    "\n",
    "print(len(dfs(matrix,start-1,length)))"
   ]
  },
  {
   "cell_type": "code",
   "execution_count": null,
   "metadata": {
    "collapsed": true
   },
   "outputs": [],
   "source": [
    "#не работает, проверить код\n",
    "import queue \n",
    "length = int(input()) \n",
    "matrix = [list(map(int,input().split())) for i in range(length)] \n",
    "begin,end = list(map(int,input().split())) \n",
    "begin -= 1 \n",
    "end -= 1\n",
    "def FromMatrixToListW(adj_matrix): \n",
    "    adj_list = [] \n",
    "    for i in range(len(adj_matrix)):\n",
    "        tmp_list = [] \n",
    "        for j in range(len(adj_matrix)): \n",
    "            if adj_matrix[i][j] == 1: \n",
    "                tmp_list.append(j) \n",
    "                adj_list.append(tmp_list) \n",
    "    return adj_list\n",
    "list_adj = FromMatrixToListW(matrix) \n",
    "q1 = queue.Queue() \n",
    "D = [0 for i in range (len(list_adj))] \n",
    "q1.put(begin) \n",
    "while not q1.empty(): \n",
    "    u = q1.get() \n",
    "    for v in list_adj[u]: \n",
    "        if D[v] == 0: \n",
    "            D[v] = D[u] +1 \n",
    "            q1.put(v) \n",
    "            if D[end] == 0: \n",
    "                print(-1) \n",
    "            else: print(D[end])"
   ]
  }
 ],
 "metadata": {
  "kernelspec": {
   "display_name": "Python [Root]",
   "language": "python",
   "name": "Python [Root]"
  },
  "language_info": {
   "codemirror_mode": {
    "name": "ipython",
    "version": 3
   },
   "file_extension": ".py",
   "mimetype": "text/x-python",
   "name": "python",
   "nbconvert_exporter": "python",
   "pygments_lexer": "ipython3",
   "version": "3.5.2"
  }
 },
 "nbformat": 4,
 "nbformat_minor": 0
}
