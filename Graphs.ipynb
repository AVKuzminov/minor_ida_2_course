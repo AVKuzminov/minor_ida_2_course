{
 "cells": [
  {
   "cell_type": "code",
   "execution_count": 6,
   "metadata": {
    "collapsed": false
   },
   "outputs": [
    {
     "name": "stdout",
     "output_type": "stream",
     "text": [
      "[[3, 5], [], [1, 5], [5], [1, 3, 4]]\n",
      "[[0, 0, 1, 0, 1], [0, 0, 0, 0, 0], [1, 0, 0, 0, 1], [0, 0, 0, 0, 1], [1, 0, 1, 1, 0]]\n"
     ]
    }
   ],
   "source": [
    "matrix = [[0,0,1,0,1],[0,0,0,0,0],[1,0,0,0,1],[0,0,0,0,1],[1,0,1,1,0]]\n",
    "\n",
    "def FromMatrixToListW(adj_matrix):\n",
    "    adj_list = []\n",
    "    for i in range(len(adj_matrix)):\n",
    "        tmp_list = []\n",
    "        for j in range(len(adj_matrix)):\n",
    "            if adj_matrix[i][j] == 1:\n",
    "                tmp_list.append(j+1)\n",
    "        adj_list.append(tmp_list)\n",
    "    return adj_list\n",
    "\n",
    "def FromListToMatrix(adj_list):\n",
    "    adj_matrix = [[0]*len(adj_list) for i in range(len(adj_list))] #заполнение матрицы нулями\n",
    "    for i in range(len(adj_list)):\n",
    "        for j in range(len(adj_list[i])):\n",
    "            adj_matrix[i][adj_list[i][j]-1] = 1\n",
    "    return adj_matrix\n",
    "print(FromMatrixToListW(matrix))\n",
    "print(FromListToMatrix(FromMatrixToListW(matrix)))"
   ]
  },
  {
   "cell_type": "code",
   "execution_count": 15,
   "metadata": {
    "collapsed": false
   },
   "outputs": [
    {
     "name": "stdout",
     "output_type": "stream",
     "text": [
      "15\n",
      "0 0 1 1 0 0 1 0 0 0 0 0 0 0 0 \n",
      "0 0 1 0 1 0 0 0 0 1 1 0 0 0 0 \n",
      "1 1 0 0 0 0 1 0 1 0 0 0 0 0 0 \n",
      "1 0 0 0 1 0 0 1 0 1 0 0 1 0 0 \n",
      "0 1 0 1 0 0 0 0 0 0 0 1 0 1 0 \n",
      "0 0 0 0 0 0 0 0 0 0 0 0 0 0 1 \n",
      "1 0 1 0 0 0 0 0 0 0 1 1 0 0 0 \n",
      "0 0 0 1 0 0 0 0 0 0 1 0 0 0 0 \n",
      "0 0 1 0 0 0 0 0 0 0 0 0 0 0 0 \n",
      "0 1 0 1 0 0 0 0 0 0 0 0 0 0 0 \n",
      "0 1 0 0 0 0 1 1 0 0 0 0 0 0 0 \n",
      "0 0 0 0 1 0 1 0 0 0 0 0 1 0 1 \n",
      "0 0 0 1 0 0 0 0 0 0 0 1 0 0 0 \n",
      "0 0 0 0 1 0 0 0 0 0 0 0 0 0 0 \n",
      "0 0 0 0 0 1 0 0 0 0 0 1 0 0 0 \n",
      "True\n"
     ]
    }
   ],
   "source": [
    "n = int(input())\n",
    "matrix = [[0]*n for i in range(n)]\n",
    "for i in range(n):\n",
    "    lst = map(int,input().split())\n",
    "    matrix[i] = lst\n",
    "for i in range(n):\n",
    "    matrix[i] = list(map(int,matrix[i]))\n",
    "result = True\n",
    "for i in range(n):\n",
    "    for j in range(n):\n",
    "        if (matrix[i][j] != 0) and (i == j):\n",
    "            result = False\n",
    "            break\n",
    "        if matrix[i][j] != matrix[j][i]:\n",
    "            result = False\n",
    "            break\n",
    "print(result)"
   ]
  },
  {
   "cell_type": "code",
   "execution_count": 18,
   "metadata": {
    "collapsed": false
   },
   "outputs": [
    {
     "name": "stdout",
     "output_type": "stream",
     "text": [
      "3\n",
      "1 0 1\n",
      "0 0 0 \n",
      "1 0 1\n",
      "2\n"
     ]
    }
   ],
   "source": [
    "n = int(input())\n",
    "matrix = [[0]*n for i in range(n)]\n",
    "for i in range(n):\n",
    "    lst = map(int,input().split())\n",
    "    matrix[i] = lst\n",
    "for i in range(n):\n",
    "    matrix[i] = list(map(int,matrix[i]))\n",
    "count = 0\n",
    "for i in range(n):\n",
    "    for j in range(n):\n",
    "        if matrix[i][j] == 1:\n",
    "            count +=1\n",
    "print(int(count/2))"
   ]
  },
  {
   "cell_type": "code",
   "execution_count": 22,
   "metadata": {
    "collapsed": false
   },
   "outputs": [
    {
     "name": "stdout",
     "output_type": "stream",
     "text": [
      "5\n",
      "0 0 1 0 0\n",
      "0 0 1 0 1\n",
      "1 1 0 0 0\n",
      "0 0 0 0 0\n",
      "0 1 0 0 0\n",
      "1 3\n",
      "2 3\n",
      "2 5\n"
     ]
    }
   ],
   "source": [
    "n = int(input())\n",
    "matrix = [[0]*n for i in range(n)]\n",
    "for i in range(n):\n",
    "    lst = map(int,input().split())\n",
    "    matrix[i] = lst\n",
    "for i in range(n):\n",
    "    matrix[i] = list(map(int,matrix[i]))\n",
    "for i in range(n):\n",
    "    for j in range(i,n):\n",
    "        if matrix[i][j] == 1:\n",
    "            print(i+1,j+1)"
   ]
  },
  {
   "cell_type": "code",
   "execution_count": 29,
   "metadata": {
    "collapsed": false
   },
   "outputs": [
    {
     "name": "stdout",
     "output_type": "stream",
     "text": [
      "3 1\n",
      "0 1 1\n",
      "1 0 0\n",
      "1 0 0\n",
      "<class 'list'>\n"
     ]
    },
    {
     "ename": "TypeError",
     "evalue": "argument of type 'int' is not iterable",
     "output_type": "error",
     "traceback": [
      "\u001b[1;31m---------------------------------------------------------------------------\u001b[0m",
      "\u001b[1;31mTypeError\u001b[0m                                 Traceback (most recent call last)",
      "\u001b[1;32m<ipython-input-29-f8e2bdb7e703>\u001b[0m in \u001b[0;36m<module>\u001b[1;34m()\u001b[0m\n\u001b[0;32m     10\u001b[0m     \u001b[1;32mreturn\u001b[0m \u001b[0mset_v\u001b[0m\u001b[1;33m\u001b[0m\u001b[0m\n\u001b[0;32m     11\u001b[0m \u001b[1;33m\u001b[0m\u001b[0m\n\u001b[1;32m---> 12\u001b[1;33m \u001b[0mprint\u001b[0m\u001b[1;33m(\u001b[0m\u001b[0mlen\u001b[0m\u001b[1;33m(\u001b[0m\u001b[0mdfs\u001b[0m\u001b[1;33m(\u001b[0m\u001b[0mmatrix\u001b[0m\u001b[1;33m,\u001b[0m\u001b[0mstart\u001b[0m\u001b[1;33m-\u001b[0m\u001b[1;36m1\u001b[0m\u001b[1;33m,\u001b[0m\u001b[0mlength\u001b[0m\u001b[1;33m)\u001b[0m\u001b[1;33m)\u001b[0m\u001b[1;33m)\u001b[0m\u001b[1;33m\u001b[0m\u001b[0m\n\u001b[0m",
      "\u001b[1;32m<ipython-input-29-f8e2bdb7e703>\u001b[0m in \u001b[0;36mdfs\u001b[1;34m(matrix, start, set_v)\u001b[0m\n\u001b[0;32m      5\u001b[0m \u001b[1;32mdef\u001b[0m \u001b[0mdfs\u001b[0m\u001b[1;33m(\u001b[0m\u001b[0mmatrix\u001b[0m\u001b[1;33m,\u001b[0m\u001b[0mstart\u001b[0m\u001b[1;33m,\u001b[0m\u001b[0mset_v\u001b[0m\u001b[1;33m)\u001b[0m\u001b[1;33m:\u001b[0m\u001b[1;33m\u001b[0m\u001b[0m\n\u001b[0;32m      6\u001b[0m     \u001b[1;32mfor\u001b[0m \u001b[0mi\u001b[0m \u001b[1;32min\u001b[0m \u001b[0mrange\u001b[0m\u001b[1;33m(\u001b[0m\u001b[0mlength\u001b[0m\u001b[1;33m)\u001b[0m\u001b[1;33m:\u001b[0m\u001b[1;33m\u001b[0m\u001b[0m\n\u001b[1;32m----> 7\u001b[1;33m         \u001b[1;32mif\u001b[0m \u001b[1;33m(\u001b[0m\u001b[0mmatrix\u001b[0m\u001b[1;33m[\u001b[0m\u001b[0mstart\u001b[0m\u001b[1;33m]\u001b[0m\u001b[1;33m[\u001b[0m\u001b[0mi\u001b[0m\u001b[1;33m]\u001b[0m \u001b[1;33m==\u001b[0m \u001b[1;36m1\u001b[0m\u001b[1;33m)\u001b[0m \u001b[1;32mand\u001b[0m \u001b[1;33m(\u001b[0m\u001b[0mi\u001b[0m \u001b[1;32mnot\u001b[0m \u001b[1;32min\u001b[0m \u001b[0mset_v\u001b[0m\u001b[1;33m)\u001b[0m\u001b[1;33m:\u001b[0m\u001b[1;33m\u001b[0m\u001b[0m\n\u001b[0m\u001b[0;32m      8\u001b[0m             \u001b[0mset_v\u001b[0m\u001b[1;33m.\u001b[0m\u001b[0madd\u001b[0m\u001b[1;33m(\u001b[0m\u001b[0mi\u001b[0m\u001b[1;33m)\u001b[0m\u001b[1;33m\u001b[0m\u001b[0m\n\u001b[0;32m      9\u001b[0m             \u001b[0mset_v\u001b[0m \u001b[1;33m=\u001b[0m \u001b[0mdfs\u001b[0m\u001b[1;33m(\u001b[0m\u001b[0mmatrix\u001b[0m\u001b[1;33m,\u001b[0m\u001b[0mi\u001b[0m\u001b[1;33m,\u001b[0m\u001b[0mset_v\u001b[0m\u001b[1;33m)\u001b[0m\u001b[1;33m\u001b[0m\u001b[0m\n",
      "\u001b[1;31mTypeError\u001b[0m: argument of type 'int' is not iterable"
     ]
    }
   ],
   "source": [
    "length,start = list(map(int,input().split()))\n",
    "matrix = [list(map(int,input().split())) for i in range(length)]\n",
    "set_v = set()\n",
    "print(type(matrix))\n",
    "def dfs(matrix,start,set_v):\n",
    "    for i in range(length):\n",
    "        if (matrix[start][i] == 1) and (i not in set_v):\n",
    "            set_v.add(i)\n",
    "            set_v = dfs(matrix,i,set_v)\n",
    "    return set_v\n",
    "\n",
    "print(len(dfs(matrix,start-1,length)))"
   ]
  },
  {
   "cell_type": "code",
   "execution_count": 30,
   "metadata": {
    "collapsed": false
   },
   "outputs": [
    {
     "name": "stdout",
     "output_type": "stream",
     "text": [
      "5\n",
      "0 1 0 0 1\n",
      "1 0 1 0 0\n",
      "0 1 0 0 0\n",
      "0 0 0 0 0\n",
      "1 0 0 0 0\n",
      "3 5\n"
     ]
    },
    {
     "ename": "IndexError",
     "evalue": "list index out of range",
     "output_type": "error",
     "traceback": [
      "\u001b[1;31m---------------------------------------------------------------------------\u001b[0m",
      "\u001b[1;31mIndexError\u001b[0m                                Traceback (most recent call last)",
      "\u001b[1;32m<ipython-input-30-2246077fa6d0>\u001b[0m in \u001b[0;36m<module>\u001b[1;34m()\u001b[0m\n\u001b[0;32m     24\u001b[0m             \u001b[0mD\u001b[0m\u001b[1;33m[\u001b[0m\u001b[0mv\u001b[0m\u001b[1;33m]\u001b[0m \u001b[1;33m=\u001b[0m \u001b[0mD\u001b[0m\u001b[1;33m[\u001b[0m\u001b[0mu\u001b[0m\u001b[1;33m]\u001b[0m \u001b[1;33m+\u001b[0m\u001b[1;36m1\u001b[0m\u001b[1;33m\u001b[0m\u001b[0m\n\u001b[0;32m     25\u001b[0m             \u001b[0mq1\u001b[0m\u001b[1;33m.\u001b[0m\u001b[0mput\u001b[0m\u001b[1;33m(\u001b[0m\u001b[0mv\u001b[0m\u001b[1;33m)\u001b[0m\u001b[1;33m\u001b[0m\u001b[0m\n\u001b[1;32m---> 26\u001b[1;33m \u001b[1;32mif\u001b[0m \u001b[0mD\u001b[0m\u001b[1;33m[\u001b[0m\u001b[0mend\u001b[0m\u001b[1;33m]\u001b[0m \u001b[1;33m==\u001b[0m \u001b[1;36m0\u001b[0m\u001b[1;33m:\u001b[0m\u001b[1;33m\u001b[0m\u001b[0m\n\u001b[0m\u001b[0;32m     27\u001b[0m     \u001b[0mprint\u001b[0m\u001b[1;33m(\u001b[0m\u001b[1;33m-\u001b[0m\u001b[1;36m1\u001b[0m\u001b[1;33m)\u001b[0m\u001b[1;33m\u001b[0m\u001b[0m\n\u001b[0;32m     28\u001b[0m \u001b[1;32melse\u001b[0m\u001b[1;33m:\u001b[0m\u001b[1;33m\u001b[0m\u001b[0m\n",
      "\u001b[1;31mIndexError\u001b[0m: list index out of range"
     ]
    }
   ],
   "source": [
    "import queue\n",
    "length = int(input())\n",
    "matrix = [list(map(int,input().split())) for i in range(length)]\n",
    "begin,end = list(map(int,input().split()))\n",
    "begin -= 1\n",
    "end -= 1\n",
    "\n",
    "def FromMatrixToListW(adj_matrix):\n",
    "    adj_list = []\n",
    "    for i in range(len(adj_matrix)):\n",
    "        tmp_list = []\n",
    "        for j in range(len(adj_matrix)):\n",
    "            if adj_matrix[i][j] == 1:\n",
    "                tmp_list.append(j)\n",
    "        adj_list.append(tmp_list)\n",
    "    return adj_list\n",
    "\n",
    "list_adj = FromMatrixToListW(matrix)\n",
    "q1 = queue.Queue()\n",
    "D = [0 for i in range (len(list_adj))]\n",
    "q1.put(begin)\n",
    "while not q1.empty():\n",
    "    u = q1.get()\n",
    "    for v in list_adj[u]:\n",
    "        if D[v] == 0:\n",
    "            D[v] = D[u] +1\n",
    "            q1.put(v)\n",
    "if D[end] == 0:\n",
    "    print(-1)\n",
    "else:\n",
    "    print(D[end])\n"
   ]
  },
  {
   "cell_type": "code",
   "execution_count": null,
   "metadata": {
    "collapsed": true
   },
   "outputs": [],
   "source": []
  }
 ],
 "metadata": {
  "kernelspec": {
   "display_name": "Python [Root]",
   "language": "python",
   "name": "Python [Root]"
  },
  "language_info": {
   "codemirror_mode": {
    "name": "ipython",
    "version": 3
   },
   "file_extension": ".py",
   "mimetype": "text/x-python",
   "name": "python",
   "nbconvert_exporter": "python",
   "pygments_lexer": "ipython3",
   "version": "3.5.2"
  }
 },
 "nbformat": 4,
 "nbformat_minor": 0
}
