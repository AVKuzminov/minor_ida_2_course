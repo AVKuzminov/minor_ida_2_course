{
 "cells": [
  {
   "cell_type": "code",
   "execution_count": 18,
   "metadata": {
    "collapsed": false
   },
   "outputs": [
    {
     "name": "stdout",
     "output_type": "stream",
     "text": [
      "-5 -30000 -12\n",
      "0 -30000 -30000\n"
     ]
    }
   ],
   "source": [
    "numbers = list(map(int,input().split()))\n",
    "max1,max2,max3,min1,min2 = -2 147 483 648\n",
    "for i in range(len(numbers)):\n",
    "    if numbers[i] >= max1:\n",
    "        max3 = max2\n",
    "        max2 = max1\n",
    "        max1 = numbers[i]\n",
    "    elif numbers[i] >= max2:\n",
    "        max3 = max2\n",
    "        max2 = numbers[i]\n",
    "    elif numbers[i] > max3:\n",
    "        max3 = numbers[i]\n",
    "    if numbers[i] < min1:\n",
    "        min1 = numbers[i]\n",
    "    elif numbers[i] < min2:\n",
    "        min2 = numbers[i]\n",
    "if max1*max2*max3 > max1*min1*min2 :\n",
    "    print(max1,max2,max3)\n",
    "else:\n",
    "    print(max1,min1,min2)"
   ]
  },
  {
   "cell_type": "code",
   "execution_count": null,
   "metadata": {
    "collapsed": true
   },
   "outputs": [],
   "source": []
  }
 ],
 "metadata": {
  "kernelspec": {
   "display_name": "Python [Root]",
   "language": "python",
   "name": "Python [Root]"
  },
  "language_info": {
   "codemirror_mode": {
    "name": "ipython",
    "version": 3
   },
   "file_extension": ".py",
   "mimetype": "text/x-python",
   "name": "python",
   "nbconvert_exporter": "python",
   "pygments_lexer": "ipython3",
   "version": "3.5.2"
  }
 },
 "nbformat": 4,
 "nbformat_minor": 0
}
